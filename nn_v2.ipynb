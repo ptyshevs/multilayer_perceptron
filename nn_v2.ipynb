{
 "cells": [
  {
   "cell_type": "code",
   "execution_count": 2,
   "metadata": {},
   "outputs": [],
   "source": [
    "import numpy as np\n",
    "x = np.arange(20)\n",
    "y = np.array([0 if _ < 10 else 1 for _ in x])\n",
    "x_normed = (x - x.mean()) / x.std()\n",
    "y = y[:, np.newaxis]\n",
    "x_normed = x_normed[:, np.newaxis]"
   ]
  },
  {
   "cell_type": "code",
   "execution_count": 50,
   "metadata": {},
   "outputs": [],
   "source": [
    "m = len(y)"
   ]
  },
  {
   "cell_type": "code",
   "execution_count": 98,
   "metadata": {},
   "outputs": [],
   "source": [
    "# Initializing matrices\n",
    "np.random.seed(42)\n",
    "W1 = np.random.randn(10, 1) * .01\n",
    "b1 = np.random.randn(10, 1) * 0.01\n",
    "\n",
    "W2 = np.random.randn(1, 10) * 0.01\n",
    "b2 = np.random.randn(1, 1) * 0.01"
   ]
  },
  {
   "cell_type": "code",
   "execution_count": 99,
   "metadata": {},
   "outputs": [],
   "source": [
    "# Forward\n",
    "def linear(X, W, b):\n",
    "    return X @ W.T + b.T\n",
    "\n",
    "def sigmoid(z):\n",
    "    return 1/(1 + np.exp(-z))\n",
    "\n",
    "Z1 = linear(x_normed, W1, b1)\n",
    "A1 = sigmoid(Z1)\n",
    "\n",
    "Z2 = linear(A1, W2, b2)\n",
    "A2 = sigmoid(Z2)\n"
   ]
  },
  {
   "cell_type": "code",
   "execution_count": 100,
   "metadata": {},
   "outputs": [],
   "source": [
    "def loss(Y, Y_pred):\n",
    "    return -(Y * np.log(np.clip(Y_pred, 1e-12, None)) + (1 - Y) * np.log(np.clip(1 - Y_pred, 1e-12, None))).mean()\n",
    "    \n",
    "def grad_loss(Y, Y_pred):\n",
    "    return - (np.divide(Y, Y_pred) - np.divide(1 - Y, 1 - Y_pred))"
   ]
  },
  {
   "cell_type": "code",
   "execution_count": 101,
   "metadata": {},
   "outputs": [
    {
     "data": {
      "text/plain": [
       "0.6932121562826393"
      ]
     },
     "execution_count": 101,
     "metadata": {},
     "output_type": "execute_result"
    }
   ],
   "source": [
    "# Cost\n",
    "loss(y, A2)"
   ]
  },
  {
   "cell_type": "code",
   "execution_count": 102,
   "metadata": {},
   "outputs": [],
   "source": [
    "# Backward\n",
    "dL = grad_loss(y, A2)"
   ]
  },
  {
   "cell_type": "code",
   "execution_count": 103,
   "metadata": {},
   "outputs": [],
   "source": [
    "def sigmoid_grad(z):\n",
    "    return sigmoid(z) * (1 - sigmoid(z))"
   ]
  },
  {
   "cell_type": "code",
   "execution_count": 104,
   "metadata": {},
   "outputs": [],
   "source": [
    "dZ2 = sigmoid_grad(Z2) * dL\n",
    "dW2 = A1.T @ dZ2\n",
    "db2 = np.mean(dZ2, axis=0, keepdims=True)\n",
    "dA1 = (W2.T @ dZ2.T).T\n",
    "\n",
    "dZ1 = sigmoid_grad(Z1) * dA1\n",
    "dW1 = x_normed.T @ dZ1\n",
    "db1 = np.mean(dZ1, axis=0, keepdims=True)"
   ]
  },
  {
   "cell_type": "code",
   "execution_count": 105,
   "metadata": {},
   "outputs": [],
   "source": [
    "# update\n",
    "lr = .05\n",
    "\n",
    "W2 -= lr * dW2.T\n",
    "b2 -= lr * db2.T\n",
    "\n",
    "W1 -= lr * dW1.T\n",
    "b1 -= lr * db1.T\n",
    "\n"
   ]
  },
  {
   "cell_type": "code",
   "execution_count": 119,
   "metadata": {},
   "outputs": [
    {
     "name": "stdout",
     "output_type": "stream",
     "text": [
      "0.6909969746069506\n",
      "0.5271314310903945\n",
      "0.43179596638255296\n",
      "0.37174084514313005\n",
      "0.33077495476189933\n",
      "0.3010084275408108\n",
      "0.2783136149669355\n",
      "0.2603603013718466\n",
      "0.24574273203616812\n",
      "0.23356470061627338\n",
      "0.2232281535688639\n",
      "0.21431854753338925\n",
      "0.20653922414041365\n",
      "0.1996720590203603\n",
      "0.19355290415813386\n",
      "0.18805572347910207\n",
      "0.18308203121781969\n",
      "0.17855367253351717\n",
      "0.17440777236768795\n",
      "0.17059312740477933\n",
      "0.1670675807055848\n",
      "0.16379607934088145\n",
      "0.1607492155926127\n",
      "0.1579021163013065\n",
      "0.15523358670791088\n",
      "0.1527254429356875\n",
      "0.15036198609254384\n",
      "0.14812958394824968\n",
      "0.1460163352146626\n",
      "0.1440117978924821\n",
      "0.14210676777186246\n",
      "0.14029309653665623\n",
      "0.13856354139478996\n",
      "0.13691163999483275\n",
      "0.13533160576777065\n",
      "0.1338182398773412\n",
      "0.13236685676002619\n",
      "0.13097322085014113\n",
      "0.12963349256217466\n",
      "0.1283441819751256\n",
      "0.1271021089567944\n",
      "0.12590436869820776\n",
      "0.1247483018134083\n",
      "0.12363146830816077\n",
      "0.12255162484066599\n",
      "0.12150670479421648\n",
      "0.12049480076059038\n",
      "0.11951414909749247\n",
      "0.11856311627637736\n",
      "0.11764018678076171\n",
      "0.11674395235141144\n",
      "0.11587310240498841\n",
      "0.1150264154779651\n",
      "0.11420275156876938\n",
      "0.11340104526892007\n",
      "0.1126202995889423\n",
      "0.11185958039758304\n",
      "0.11111801140366306\n",
      "0.11039476961912402\n",
      "0.10968908124970958\n",
      "0.10900021796647605\n",
      "0.10832749351713596\n",
      "0.1076702606412423\n",
      "0.10702790825754627\n",
      "0.10639985889560499\n",
      "0.10578556634696978\n",
      "0.10518451351411187\n",
      "0.10459621043771199\n",
      "0.10402019248509678\n",
      "0.10345601868449181\n",
      "0.10290327019142038\n",
      "0.10236154887503346\n",
      "0.10183047601344028\n",
      "0.10130969108824255\n",
      "0.1007988506694762\n",
      "0.10029762738305366\n",
      "0.09980570895358501\n",
      "0.09932279731615719\n",
      "0.09884860779127408\n",
      "0.098382868317713\n",
      "0.09792531873855197\n",
      "0.09747571013606278\n",
      "0.09703380421156425\n",
      "0.09659937270668392\n",
      "0.09617219686279753\n",
      "0.09575206691570312\n",
      "0.09533878162284422\n",
      "0.09493214782063122\n",
      "0.09453198000962018\n",
      "0.09413809996549857\n",
      "0.09375033637399946\n",
      "0.09336852448802249\n",
      "0.09299250580538064\n",
      "0.09262212776572078\n",
      "0.09225724346528216\n",
      "0.09189771138826426\n",
      "0.09154339515367109\n",
      "0.09119416327658732\n",
      "0.09084988894292381\n",
      "0.09051044979674064\n"
     ]
    }
   ],
   "source": [
    "#combine\n",
    "# Initializing matrices\n",
    "np.random.seed(42)\n",
    "W1 = np.random.randn(1, 1) * .01\n",
    "b1 = np.random.randn(1, 1) * 0.01\n",
    "\n",
    "# W2 = np.random.randn(1, 10) * 0.01\n",
    "# b2 = np.random.randn(1, 1) * 0.01\n",
    "\n",
    "for i in range(100):\n",
    "    Z1 = linear(x_normed, W1, b1)\n",
    "    A1 = sigmoid(Z1)\n",
    "\n",
    "#     Z2 = linear(A1, W2, b2)\n",
    "#     A2 = sigmoid(Z2)\n",
    "    \n",
    "    cost = loss(y, A1)\n",
    "    print(cost)\n",
    "    dL = grad_loss(y, A1)\n",
    "\n",
    "    dZ1 = sigmoid_grad(Z1) * dL\n",
    "    dW1 = x_normed.T @ dZ1\n",
    "    db1 = np.mean(dZ1, axis=0, keepdims=True)\n",
    "    \n",
    "    W1 -= lr * dW1.T\n",
    "    b1 -= lr * db1.T\n",
    "    \n",
    "\n"
   ]
  },
  {
   "cell_type": "code",
   "execution_count": null,
   "metadata": {},
   "outputs": [],
   "source": [
    "#combine\n",
    "# Initializing matrices\n",
    "np.random.seed(42)\n",
    "W1 = np.random.randn(10, 1) * .01\n",
    "b1 = np.random.randn(10, 1) * 0.01\n",
    "\n",
    "W2 = np.random.randn(10, 10) * 0.01\n",
    "b2 = np.random.randn(10, 1) * 0.01\n",
    "\n",
    "W3 = np.random.randn(1, 10) * 0.01\n",
    "b3 = np.random.randn(1, 1) * 0.01\n",
    "\n",
    "for i in range(100000):\n",
    "    Z1 = linear(x_normed, W1, b1)\n",
    "    A1 = sigmoid(Z1)\n",
    "\n",
    "    Z2 = linear(A1, W2, b2)\n",
    "    A2 = sigmoid(Z2)\n",
    "    \n",
    "    Z3 = linear(A2, W3, b3)\n",
    "    A3 = sigmoid(Z3)\n",
    "    \n",
    "    cost = loss(y, A3)\n",
    "    if i % 50 == 0:\n",
    "        print(cost)\n",
    "    \n",
    "    dL = grad_loss(y, A3)\n",
    "    \n",
    "    dZ3 = sigmoid_grad(Z3) * dL\n",
    "    \n",
    "    dW3 = A2.T @ dZ3 / m\n",
    "    db3 = np.mean(dZ3, axis=0, keepdims=True)\n",
    "    dA2 = W3.T @ dZ3.T\n",
    "    \n",
    "    dZ2 = sigmoid_grad(Z2) * dA2.T\n",
    "    dW2 = A1.T @ dZ2 / m\n",
    "    db2 = np.mean(dZ2, axis=0, keepdims=True)\n",
    "    dA1 = W2.T @ dZ2.T\n",
    "\n",
    "    dZ1 = sigmoid_grad(Z1) * dA1.T\n",
    "    dW1 = x_normed.T @ dZ1 / m\n",
    "    db1 = np.mean(dZ1, axis=0, keepdims=True)\n",
    "    \n",
    "    W3 -= lr * dW3.T\n",
    "    b3 -= lr * db3.T\n",
    "    \n",
    "    W2 -= lr * dW2.T\n",
    "    b2 -= lr * db2.T\n",
    "\n",
    "    W1 -= lr * dW1.T\n",
    "    b1 -= lr * db1.T\n",
    "    \n",
    "\n"
   ]
  },
  {
   "cell_type": "code",
   "execution_count": 117,
   "metadata": {},
   "outputs": [
    {
     "data": {
      "text/plain": [
       "(20, 1)"
      ]
     },
     "execution_count": 117,
     "metadata": {},
     "output_type": "execute_result"
    }
   ],
   "source": [
    "y.shape"
   ]
  },
  {
   "cell_type": "code",
   "execution_count": 81,
   "metadata": {},
   "outputs": [
    {
     "data": {
      "text/plain": [
       "(10, 1)"
      ]
     },
     "execution_count": 81,
     "metadata": {},
     "output_type": "execute_result"
    }
   ],
   "source": [
    "db1.T.shape"
   ]
  },
  {
   "cell_type": "code",
   "execution_count": 82,
   "metadata": {},
   "outputs": [
    {
     "data": {
      "text/plain": [
       "(1,)"
      ]
     },
     "execution_count": 82,
     "metadata": {},
     "output_type": "execute_result"
    }
   ],
   "source": [
    "b1.shape"
   ]
  },
  {
   "cell_type": "code",
   "execution_count": 83,
   "metadata": {},
   "outputs": [
    {
     "data": {
      "text/plain": [
       "(1, 1)"
      ]
     },
     "execution_count": 83,
     "metadata": {},
     "output_type": "execute_result"
    }
   ],
   "source": [
    "b2.shape"
   ]
  },
  {
   "cell_type": "code",
   "execution_count": 74,
   "metadata": {},
   "outputs": [
    {
     "data": {
      "text/plain": [
       "(1, 10)"
      ]
     },
     "execution_count": 74,
     "metadata": {},
     "output_type": "execute_result"
    }
   ],
   "source": [
    "dW1.shape"
   ]
  },
  {
   "cell_type": "code",
   "execution_count": 77,
   "metadata": {},
   "outputs": [
    {
     "data": {
      "text/plain": [
       "(10, 1)"
      ]
     },
     "execution_count": 77,
     "metadata": {},
     "output_type": "execute_result"
    }
   ],
   "source": [
    "dW2.shape"
   ]
  },
  {
   "cell_type": "code",
   "execution_count": 78,
   "metadata": {},
   "outputs": [
    {
     "data": {
      "text/plain": [
       "(10, 1)"
      ]
     },
     "execution_count": 78,
     "metadata": {},
     "output_type": "execute_result"
    }
   ],
   "source": [
    "W1.shape"
   ]
  },
  {
   "cell_type": "code",
   "execution_count": 79,
   "metadata": {},
   "outputs": [
    {
     "data": {
      "text/plain": [
       "(1, 10)"
      ]
     },
     "execution_count": 79,
     "metadata": {},
     "output_type": "execute_result"
    }
   ],
   "source": [
    "W2.shape"
   ]
  },
  {
   "cell_type": "code",
   "execution_count": 57,
   "metadata": {},
   "outputs": [
    {
     "data": {
      "text/plain": [
       "(1, 1)"
      ]
     },
     "execution_count": 57,
     "metadata": {},
     "output_type": "execute_result"
    }
   ],
   "source": [
    "db2.shape"
   ]
  },
  {
   "cell_type": "code",
   "execution_count": 55,
   "metadata": {},
   "outputs": [
    {
     "data": {
      "text/plain": [
       "(20, 10)"
      ]
     },
     "execution_count": 55,
     "metadata": {},
     "output_type": "execute_result"
    }
   ],
   "source": [
    "A1.shape"
   ]
  },
  {
   "cell_type": "code",
   "execution_count": 48,
   "metadata": {},
   "outputs": [
    {
     "data": {
      "text/plain": [
       "((1, 10), (10, 1))"
      ]
     },
     "execution_count": 48,
     "metadata": {},
     "output_type": "execute_result"
    }
   ],
   "source": [
    "W2.shape, dW2.shape"
   ]
  },
  {
   "cell_type": "code",
   "execution_count": 52,
   "metadata": {},
   "outputs": [
    {
     "data": {
      "text/plain": [
       "(20, 1)"
      ]
     },
     "execution_count": 52,
     "metadata": {},
     "output_type": "execute_result"
    }
   ],
   "source": [
    "dZ2.shape"
   ]
  },
  {
   "cell_type": "code",
   "execution_count": 44,
   "metadata": {},
   "outputs": [
    {
     "data": {
      "text/plain": [
       "array([[ 0.49200745],\n",
       "       [ 0.49200473],\n",
       "       [ 0.49200202],\n",
       "       [ 0.49199931],\n",
       "       [ 0.49199659],\n",
       "       [ 0.49199388],\n",
       "       [ 0.49199116],\n",
       "       [ 0.49198845],\n",
       "       [ 0.49198574],\n",
       "       [ 0.49198302],\n",
       "       [-0.50801969],\n",
       "       [-0.50802241],\n",
       "       [-0.50802512],\n",
       "       [-0.50802783],\n",
       "       [-0.50803055],\n",
       "       [-0.50803326],\n",
       "       [-0.50803598],\n",
       "       [-0.50803869],\n",
       "       [-0.5080414 ],\n",
       "       [-0.50804412]])"
      ]
     },
     "execution_count": 44,
     "metadata": {},
     "output_type": "execute_result"
    }
   ],
   "source": []
  },
  {
   "cell_type": "code",
   "execution_count": 28,
   "metadata": {},
   "outputs": [
    {
     "data": {
      "text/plain": [
       "((20, 10), (1, 10), (10, 1))"
      ]
     },
     "execution_count": 28,
     "metadata": {},
     "output_type": "execute_result"
    }
   ],
   "source": [
    "A1.shape, W2.shape, b2.shape"
   ]
  },
  {
   "cell_type": "code",
   "execution_count": null,
   "metadata": {},
   "outputs": [],
   "source": [
    "A1 @"
   ]
  },
  {
   "cell_type": "code",
   "execution_count": 22,
   "metadata": {},
   "outputs": [
    {
     "ename": "ValueError",
     "evalue": "matmul: Input operand 1 has a mismatch in its core dimension 0, with gufunc signature (n?,k),(k,m?)->(n?,m?) (size 20 is different from 1)",
     "output_type": "error",
     "traceback": [
      "\u001b[0;31m---------------------------------------------------------------------------\u001b[0m",
      "\u001b[0;31mValueError\u001b[0m                                Traceback (most recent call last)",
      "\u001b[0;32m<ipython-input-22-b66c52e29ee2>\u001b[0m in \u001b[0;36m<module>\u001b[0;34m\u001b[0m\n\u001b[0;32m----> 1\u001b[0;31m \u001b[0mW1\u001b[0m \u001b[0;34m@\u001b[0m \u001b[0mx_normed\u001b[0m\u001b[0;34m\u001b[0m\u001b[0;34m\u001b[0m\u001b[0m\n\u001b[0m",
      "\u001b[0;31mValueError\u001b[0m: matmul: Input operand 1 has a mismatch in its core dimension 0, with gufunc signature (n?,k),(k,m?)->(n?,m?) (size 20 is different from 1)"
     ]
    }
   ],
   "source": [
    "W1 @ x_normed"
   ]
  },
  {
   "cell_type": "code",
   "execution_count": 19,
   "metadata": {},
   "outputs": [
    {
     "data": {
      "text/plain": [
       "(20, 10)"
      ]
     },
     "execution_count": 19,
     "metadata": {},
     "output_type": "execute_result"
    }
   ],
   "source": [
    "A2.shape"
   ]
  },
  {
   "cell_type": "code",
   "execution_count": null,
   "metadata": {},
   "outputs": [],
   "source": []
  }
 ],
 "metadata": {
  "kernelspec": {
   "display_name": "Python 3",
   "language": "python",
   "name": "python3"
  },
  "language_info": {
   "codemirror_mode": {
    "name": "ipython",
    "version": 3
   },
   "file_extension": ".py",
   "mimetype": "text/x-python",
   "name": "python",
   "nbconvert_exporter": "python",
   "pygments_lexer": "ipython3",
   "version": "3.6.8"
  }
 },
 "nbformat": 4,
 "nbformat_minor": 2
}
