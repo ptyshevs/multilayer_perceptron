{
 "cells": [
  {
   "cell_type": "code",
   "execution_count": 1,
   "metadata": {},
   "outputs": [],
   "source": [
    "import numpy as np\n",
    "import matplotlib.pyplot as plt"
   ]
  },
  {
   "cell_type": "code",
   "execution_count": 72,
   "metadata": {},
   "outputs": [],
   "source": [
    "def gen_equation(n=1):\n",
    "    \"\"\" Generate quadratic polynomial, solvable in reals\"\"\"\n",
    "    X, y = [], []\n",
    "    i = 0\n",
    "    while i < n:\n",
    "        a, b, c = np.random.randint(-10, 10, size=3)\n",
    "        discriminant = b ** 2 - 4 * a * c\n",
    "        if discriminant < 0 or a == 0:\n",
    "            continue\n",
    "        x1 = (-b - np.sqrt(discriminant)) / (2 * a)\n",
    "        x2 = (-b + np.sqrt(discriminant)) / (2 * a)\n",
    "        X.append((a, b, c))\n",
    "        y.append((x1, x2))\n",
    "        i += 1\n",
    "    return np.array(X), np.array(y)"
   ]
  },
  {
   "cell_type": "code",
   "execution_count": 73,
   "metadata": {},
   "outputs": [],
   "source": [
    "X, y = gen_equation(50000)"
   ]
  },
  {
   "cell_type": "code",
   "execution_count": 74,
   "metadata": {},
   "outputs": [],
   "source": [
    "import keras\n",
    "from keras.models import Sequential\n",
    "from keras.layers import Dense"
   ]
  },
  {
   "cell_type": "code",
   "execution_count": 75,
   "metadata": {},
   "outputs": [],
   "source": [
    "model = Sequential()\n",
    "model.add(Dense(100, activation='tanh'))\n",
    "model.add(Dense(100, activation='relu'))\n",
    "model.add(Dense(100, activation='relu'))\n",
    "model.add(Dense(2))\n",
    "model.compile('adam', loss='mse')"
   ]
  },
  {
   "cell_type": "code",
   "execution_count": 79,
   "metadata": {},
   "outputs": [
    {
     "name": "stdout",
     "output_type": "stream",
     "text": [
      "Epoch 1/10\n",
      "50000/50000 [==============================] - 2s 45us/step - loss: 0.0045\n",
      "Epoch 2/10\n",
      "50000/50000 [==============================] - 2s 44us/step - loss: 0.0040\n",
      "Epoch 3/10\n",
      "50000/50000 [==============================] - 2s 44us/step - loss: 0.0036\n",
      "Epoch 4/10\n",
      "50000/50000 [==============================] - 2s 44us/step - loss: 0.0037\n",
      "Epoch 5/10\n",
      "50000/50000 [==============================] - 2s 45us/step - loss: 0.0036\n",
      "Epoch 6/10\n",
      "50000/50000 [==============================] - 2s 45us/step - loss: 0.0030\n",
      "Epoch 7/10\n",
      "50000/50000 [==============================] - 2s 45us/step - loss: 0.0028\n",
      "Epoch 8/10\n",
      "50000/50000 [==============================] - 2s 50us/step - loss: 0.0030\n",
      "Epoch 9/10\n",
      "50000/50000 [==============================] - 2s 45us/step - loss: 0.0029\n",
      "Epoch 10/10\n",
      "50000/50000 [==============================] - 2s 45us/step - loss: 0.0028\n"
     ]
    },
    {
     "data": {
      "text/plain": [
       "<keras.callbacks.History at 0x7f31a485be10>"
      ]
     },
     "execution_count": 79,
     "metadata": {},
     "output_type": "execute_result"
    }
   ],
   "source": [
    "model.fit(X, y, epochs=10)"
   ]
  },
  {
   "cell_type": "code",
   "execution_count": 80,
   "metadata": {},
   "outputs": [
    {
     "data": {
      "text/plain": [
       "(0.2324081207560018, 1.434258545910665)"
      ]
     },
     "execution_count": 80,
     "metadata": {},
     "output_type": "execute_result"
    }
   ],
   "source": [
    "(5 - np.sqrt(13)) / 6, (5 + np.sqrt(13)) / 6"
   ]
  },
  {
   "cell_type": "code",
   "execution_count": 81,
   "metadata": {},
   "outputs": [
    {
     "data": {
      "text/plain": [
       "array([[0.22588666, 1.4105568 ]], dtype=float32)"
      ]
     },
     "execution_count": 81,
     "metadata": {},
     "output_type": "execute_result"
    }
   ],
   "source": [
    "model.predict(np.array([[3, -5, 1]]))"
   ]
  },
  {
   "cell_type": "code",
   "execution_count": 92,
   "metadata": {},
   "outputs": [
    {
     "data": {
      "text/plain": [
       "(1.3546510176225144e+16, -1.3546510176225144e+16)"
      ]
     },
     "execution_count": 92,
     "metadata": {},
     "output_type": "execute_result"
    }
   ],
   "source": [
    "d = 25 ** 25 + 4 * 11 * 10\n",
    "x1 = ((-25 - d ** .5) / (-22))\n",
    "x2 = ((-25 + d ** .5) / (-22))\n",
    "x1, x2"
   ]
  },
  {
   "cell_type": "code",
   "execution_count": 93,
   "metadata": {},
   "outputs": [
    {
     "data": {
      "text/plain": [
       "array([[ 2.7648482 , -0.36906108]], dtype=float32)"
      ]
     },
     "execution_count": 93,
     "metadata": {},
     "output_type": "execute_result"
    }
   ],
   "source": [
    "# Completely not generalizing outside the area covered by training dataset\n",
    "model.predict(np.array([[-11, 25, 10]]))"
   ]
  }
 ],
 "metadata": {
  "kernelspec": {
   "display_name": "Python 3",
   "language": "python",
   "name": "python3"
  },
  "language_info": {
   "codemirror_mode": {
    "name": "ipython",
    "version": 3
   },
   "file_extension": ".py",
   "mimetype": "text/x-python",
   "name": "python",
   "nbconvert_exporter": "python",
   "pygments_lexer": "ipython3",
   "version": "3.6.8"
  }
 },
 "nbformat": 4,
 "nbformat_minor": 2
}
