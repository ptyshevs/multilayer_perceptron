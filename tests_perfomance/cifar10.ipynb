{
 "cells": [
  {
   "cell_type": "code",
   "execution_count": 1,
   "metadata": {},
   "outputs": [],
   "source": [
    "import numpy as np\n",
    "import sys\n",
    "sys.path.append('..')\n",
    "from nn import *\n",
    "from tools import train_test_split, one_hot_encoder\n",
    "from viz import plot_history"
   ]
  },
  {
   "cell_type": "code",
   "execution_count": 2,
   "metadata": {},
   "outputs": [],
   "source": [
    "data = np.load('datasets/cifar10.npz')\n",
    "X = data['arr_0']\n",
    "y = data['arr_1']\n",
    "X = X.astype(np.float32) / 255.\n",
    "y, _ = one_hot_encoder(y)\n",
    "X_train, X_test, y_train, y_test = train_test_split(X, y, random_state=42)"
   ]
  },
  {
   "cell_type": "code",
   "execution_count": 3,
   "metadata": {
    "collapsed": true,
    "jupyter": {
     "outputs_hidden": true
    }
   },
   "outputs": [
    {
     "name": "stderr",
     "output_type": "stream",
     "text": [
      "../activations.py:180: RuntimeWarning: invalid value encountered in true_divide\n",
      "  return (npv.T / npv.sum(axis=1)).T\n"
     ]
    },
    {
     "name": "stdout",
     "output_type": "stream",
     "text": [
      "= loss is nan on epoch 1 | step 99\n",
      "= loss is nan on epoch 1 | step 100\n",
      "= loss is nan on epoch 1 | step 101\n",
      "= loss is nan on epoch 1 | step 102\n",
      "= loss is nan on epoch 1 | step 103\n",
      "= loss is nan on epoch 1 | step 104\n",
      "= loss is nan on epoch 1 | step 105\n",
      "= loss is nan on epoch 1 | step 106\n",
      "= loss is nan on epoch 1 | step 107\n",
      "= loss is nan on epoch 1 | step 108\n",
      "= loss is nan on epoch 1 | step 109\n",
      "= loss is nan on epoch 1 | step 110\n",
      "= loss is nan on epoch 1 | step 111\n",
      "= loss is nan on epoch 1 | step 112\n",
      "= loss is nan on epoch 1 | step 113\n",
      "= loss is nan on epoch 1 | step 114\n",
      "= loss is nan on epoch 1 | step 115\n",
      "= loss is nan on epoch 1 | step 116\n",
      "= loss is nan on epoch 1 | step 117\n",
      "= loss is nan on epoch 1 | step 118\n",
      "= loss is nan on epoch 1 | step 119\n",
      "= loss is nan on epoch 1 | step 120\n",
      "= loss is nan on epoch 1 | step 121\n",
      "= loss is nan on epoch 1 | step 122\n",
      "= loss is nan on epoch 1 | step 123\n",
      "= loss is nan on epoch 1 | step 124\n",
      "= loss is nan on epoch 1 | step 125\n",
      "= loss is nan on epoch 1 | step 126\n",
      "= loss is nan on epoch 1 | step 127\n",
      "= loss is nan on epoch 1 | step 128\n",
      "= loss is nan on epoch 1 | step 129\n",
      "= loss is nan on epoch 1 | step 130\n",
      "= loss is nan on epoch 1 | step 131\n",
      "= loss is nan on epoch 1 | step 132\n",
      "= loss is nan on epoch 1 | step 133\n",
      "= loss is nan on epoch 1 | step 134\n",
      "= loss is nan on epoch 1 | step 135\n",
      "= loss is nan on epoch 1 | step 136\n",
      "= loss is nan on epoch 1 | step 137\n",
      "= loss is nan on epoch 1 | step 138\n",
      "= loss is nan on epoch 1 | step 139\n",
      "= loss is nan on epoch 1 | step 140\n",
      "= loss is nan on epoch 1 | step 141\n",
      "= loss is nan on epoch 1 | step 142\n",
      "= loss is nan on epoch 1 | step 143\n",
      "= loss is nan on epoch 1 | step 144\n",
      "= loss is nan on epoch 1 | step 145\n",
      "= loss is nan on epoch 1 | step 146\n",
      "[    1/6]: loss=nan val_loss=nan accuracy=0.09965 val_accuracy=0.10104 \n",
      "= loss is nan on epoch 2 | step 0\n",
      "= loss is nan on epoch 2 | step 1\n",
      "= loss is nan on epoch 2 | step 2\n",
      "= loss is nan on epoch 2 | step 3\n",
      "= loss is nan on epoch 2 | step 4\n",
      "= loss is nan on epoch 2 | step 5\n",
      "= loss is nan on epoch 2 | step 6\n",
      "= loss is nan on epoch 2 | step 7\n",
      "= loss is nan on epoch 2 | step 8\n",
      "= loss is nan on epoch 2 | step 9\n",
      "= loss is nan on epoch 2 | step 10\n",
      "= loss is nan on epoch 2 | step 11\n",
      "= loss is nan on epoch 2 | step 12\n",
      "= loss is nan on epoch 2 | step 13\n",
      "= loss is nan on epoch 2 | step 14\n",
      "= loss is nan on epoch 2 | step 15\n",
      "= loss is nan on epoch 2 | step 16\n",
      "= loss is nan on epoch 2 | step 17\n",
      "= loss is nan on epoch 2 | step 18\n",
      "= loss is nan on epoch 2 | step 19\n",
      "= loss is nan on epoch 2 | step 20\n",
      "= loss is nan on epoch 2 | step 21\n",
      "= loss is nan on epoch 2 | step 22\n",
      "= loss is nan on epoch 2 | step 23\n",
      "= loss is nan on epoch 2 | step 24\n",
      "= loss is nan on epoch 2 | step 25\n",
      "= loss is nan on epoch 2 | step 26\n",
      "= loss is nan on epoch 2 | step 27\n",
      "= loss is nan on epoch 2 | step 28\n",
      "= loss is nan on epoch 2 | step 29\n",
      "= loss is nan on epoch 2 | step 30\n",
      "= loss is nan on epoch 2 | step 31\n",
      "= loss is nan on epoch 2 | step 32\n",
      "= loss is nan on epoch 2 | step 33\n"
     ]
    },
    {
     "ename": "KeyboardInterrupt",
     "evalue": "",
     "output_type": "error",
     "traceback": [
      "\u001b[0;31m---------------------------------------------------------------------------\u001b[0m",
      "\u001b[0;31mKeyboardInterrupt\u001b[0m                         Traceback (most recent call last)",
      "\u001b[0;32m<ipython-input-3-43c382ad90c9>\u001b[0m in \u001b[0;36m<module>\u001b[0;34m\u001b[0m\n\u001b[1;32m      5\u001b[0m \u001b[0;31m# m.add(BatchNorm())\u001b[0m\u001b[0;34m\u001b[0m\u001b[0;34m\u001b[0m\u001b[0;34m\u001b[0m\u001b[0m\n\u001b[1;32m      6\u001b[0m \u001b[0mm\u001b[0m\u001b[0;34m.\u001b[0m\u001b[0madd\u001b[0m\u001b[0;34m(\u001b[0m\u001b[0mDense\u001b[0m\u001b[0;34m(\u001b[0m\u001b[0;36m10\u001b[0m\u001b[0;34m,\u001b[0m \u001b[0;34m'softmax'\u001b[0m\u001b[0;34m,\u001b[0m \u001b[0mweights_regularizer\u001b[0m\u001b[0;34m=\u001b[0m\u001b[0mL2Regularizer\u001b[0m\u001b[0;34m(\u001b[0m\u001b[0mlamd\u001b[0m\u001b[0;34m=\u001b[0m\u001b[0;36m1\u001b[0m\u001b[0;34m)\u001b[0m\u001b[0;34m)\u001b[0m\u001b[0;34m)\u001b[0m\u001b[0;34m\u001b[0m\u001b[0;34m\u001b[0m\u001b[0m\n\u001b[0;32m----> 7\u001b[0;31m \u001b[0mh\u001b[0m \u001b[0;34m=\u001b[0m \u001b[0mm\u001b[0m\u001b[0;34m.\u001b[0m\u001b[0mfit\u001b[0m\u001b[0;34m(\u001b[0m\u001b[0mX_train\u001b[0m\u001b[0;34m,\u001b[0m \u001b[0my_train\u001b[0m\u001b[0;34m,\u001b[0m \u001b[0mX_test\u001b[0m\u001b[0;34m,\u001b[0m \u001b[0my_test\u001b[0m\u001b[0;34m,\u001b[0m \u001b[0mn_epochs\u001b[0m\u001b[0;34m=\u001b[0m\u001b[0;36m6\u001b[0m\u001b[0;34m,\u001b[0m \u001b[0mbatch_size\u001b[0m\u001b[0;34m=\u001b[0m\u001b[0;36m256\u001b[0m\u001b[0;34m,\u001b[0m \u001b[0mmetrics\u001b[0m\u001b[0;34m=\u001b[0m\u001b[0;34m[\u001b[0m\u001b[0;34m'accuracy'\u001b[0m\u001b[0;34m]\u001b[0m\u001b[0;34m)\u001b[0m\u001b[0;34m\u001b[0m\u001b[0;34m\u001b[0m\u001b[0m\n\u001b[0m",
      "\u001b[0;32m~/side/multilayer_perceptron/nn.py\u001b[0m in \u001b[0;36mfit\u001b[0;34m(self, X, Y, X_val, Y_val, n_epochs, batch_size, callbacks, metrics, reinitialize)\u001b[0m\n\u001b[1;32m    176\u001b[0m                 \u001b[0mY_batch\u001b[0m \u001b[0;34m=\u001b[0m \u001b[0mY\u001b[0m\u001b[0;34m[\u001b[0m\u001b[0mstart_idx\u001b[0m\u001b[0;34m:\u001b[0m\u001b[0mend_idx\u001b[0m\u001b[0;34m,\u001b[0m \u001b[0;34m...\u001b[0m\u001b[0;34m]\u001b[0m\u001b[0;34m\u001b[0m\u001b[0;34m\u001b[0m\u001b[0m\n\u001b[1;32m    177\u001b[0m \u001b[0;34m\u001b[0m\u001b[0m\n\u001b[0;32m--> 178\u001b[0;31m                 \u001b[0my_pred\u001b[0m \u001b[0;34m=\u001b[0m \u001b[0mself\u001b[0m\u001b[0;34m.\u001b[0m\u001b[0mforward_\u001b[0m\u001b[0;34m(\u001b[0m\u001b[0mX_batch\u001b[0m\u001b[0;34m)\u001b[0m\u001b[0;34m\u001b[0m\u001b[0;34m\u001b[0m\u001b[0m\n\u001b[0m\u001b[1;32m    179\u001b[0m \u001b[0;34m\u001b[0m\u001b[0m\n\u001b[1;32m    180\u001b[0m                 \u001b[0mgrads\u001b[0m \u001b[0;34m=\u001b[0m \u001b[0mself\u001b[0m\u001b[0;34m.\u001b[0m\u001b[0mbackward_\u001b[0m\u001b[0;34m(\u001b[0m\u001b[0mY_batch\u001b[0m\u001b[0;34m,\u001b[0m \u001b[0my_pred\u001b[0m\u001b[0;34m)\u001b[0m\u001b[0;34m\u001b[0m\u001b[0;34m\u001b[0m\u001b[0m\n",
      "\u001b[0;32m~/side/multilayer_perceptron/nn.py\u001b[0m in \u001b[0;36mforward_\u001b[0;34m(self, X, inference)\u001b[0m\n\u001b[1;32m    198\u001b[0m         \"\"\"\n\u001b[1;32m    199\u001b[0m         \u001b[0;32mfor\u001b[0m \u001b[0ml\u001b[0m \u001b[0;32min\u001b[0m \u001b[0mself\u001b[0m\u001b[0;34m.\u001b[0m\u001b[0mlayers\u001b[0m\u001b[0;34m:\u001b[0m\u001b[0;34m\u001b[0m\u001b[0;34m\u001b[0m\u001b[0m\n\u001b[0;32m--> 200\u001b[0;31m             \u001b[0mX\u001b[0m \u001b[0;34m=\u001b[0m \u001b[0ml\u001b[0m\u001b[0;34m.\u001b[0m\u001b[0mforward_propagate\u001b[0m\u001b[0;34m(\u001b[0m\u001b[0mX\u001b[0m\u001b[0;34m,\u001b[0m \u001b[0minference\u001b[0m\u001b[0;34m=\u001b[0m\u001b[0minference\u001b[0m\u001b[0;34m)\u001b[0m\u001b[0;34m\u001b[0m\u001b[0;34m\u001b[0m\u001b[0m\n\u001b[0m\u001b[1;32m    201\u001b[0m         \u001b[0;32mreturn\u001b[0m \u001b[0mX\u001b[0m\u001b[0;34m\u001b[0m\u001b[0;34m\u001b[0m\u001b[0m\n\u001b[1;32m    202\u001b[0m \u001b[0;34m\u001b[0m\u001b[0m\n",
      "\u001b[0;32m~/side/multilayer_perceptron/layers.py\u001b[0m in \u001b[0;36mforward_propagate\u001b[0;34m(self, X, inference)\u001b[0m\n\u001b[1;32m     90\u001b[0m \u001b[0;34m\u001b[0m\u001b[0m\n\u001b[1;32m     91\u001b[0m     \u001b[0;32mdef\u001b[0m \u001b[0mforward_propagate\u001b[0m\u001b[0;34m(\u001b[0m\u001b[0mself\u001b[0m\u001b[0;34m,\u001b[0m \u001b[0mX\u001b[0m\u001b[0;34m,\u001b[0m \u001b[0minference\u001b[0m\u001b[0;34m=\u001b[0m\u001b[0;32mFalse\u001b[0m\u001b[0;34m)\u001b[0m\u001b[0;34m:\u001b[0m\u001b[0;34m\u001b[0m\u001b[0;34m\u001b[0m\u001b[0m\n\u001b[0;32m---> 92\u001b[0;31m         \u001b[0mZ\u001b[0m \u001b[0;34m=\u001b[0m \u001b[0mX\u001b[0m \u001b[0;34m@\u001b[0m \u001b[0mself\u001b[0m\u001b[0;34m.\u001b[0m\u001b[0mW\u001b[0m\u001b[0;34m.\u001b[0m\u001b[0mT\u001b[0m \u001b[0;34m+\u001b[0m \u001b[0mself\u001b[0m\u001b[0;34m.\u001b[0m\u001b[0mb\u001b[0m\u001b[0;34m.\u001b[0m\u001b[0mT\u001b[0m\u001b[0;34m\u001b[0m\u001b[0;34m\u001b[0m\u001b[0m\n\u001b[0m\u001b[1;32m     93\u001b[0m         \u001b[0;32mif\u001b[0m \u001b[0;32mnot\u001b[0m \u001b[0minference\u001b[0m\u001b[0;34m:\u001b[0m\u001b[0;34m\u001b[0m\u001b[0;34m\u001b[0m\u001b[0m\n\u001b[1;32m     94\u001b[0m             \u001b[0mself\u001b[0m\u001b[0;34m.\u001b[0m\u001b[0mlast_input\u001b[0m \u001b[0;34m=\u001b[0m \u001b[0mX\u001b[0m\u001b[0;34m\u001b[0m\u001b[0;34m\u001b[0m\u001b[0m\n",
      "\u001b[0;31mKeyboardInterrupt\u001b[0m: "
     ]
    }
   ],
   "source": [
    "np.random.seed(42)\n",
    "m = NeuralNetwork('crossentropy', optimizer=Adam(lr=0.01), verbose=True, verbose_step=1, debug=True)\n",
    "m.add(Flatten())\n",
    "# m.add(Dense(256, 'elu'))\n",
    "# m.add(BatchNorm())\n",
    "m.add(Dense(10, 'softmax', weights_regularizer=L2Regularizer(lamd=1)))\n",
    "h = m.fit(X_train, y_train, X_test, y_test, n_epochs=6, batch_size=256, metrics=['accuracy'])"
   ]
  },
  {
   "cell_type": "code",
   "execution_count": 4,
   "metadata": {},
   "outputs": [],
   "source": [
    "from keras.models import Sequential\n",
    "from keras.layers import Dense, Softmax, Flatten\n",
    "from keras.optimizers import Adam"
   ]
  },
  {
   "cell_type": "code",
   "execution_count": 9,
   "metadata": {},
   "outputs": [
    {
     "name": "stdout",
     "output_type": "stream",
     "text": [
      "WARNING:tensorflow:From /home/ptyshevskyi/envs/loc_env/lib/python3.6/site-packages/keras/backend/tensorflow_backend.py:4432: The name tf.random_uniform is deprecated. Please use tf.random.uniform instead.\n",
      "\n",
      "WARNING:tensorflow:From /home/ptyshevskyi/envs/loc_env/lib/python3.6/site-packages/tensorflow/python/ops/math_grad.py:1250: add_dispatch_support.<locals>.wrapper (from tensorflow.python.ops.array_ops) is deprecated and will be removed in a future version.\n",
      "Instructions for updating:\n",
      "Use tf.where in 2.0, which has the same broadcast rule as np.where\n",
      "WARNING:tensorflow:From /home/ptyshevskyi/envs/loc_env/lib/python3.6/site-packages/keras/backend/tensorflow_backend.py:1033: The name tf.assign_add is deprecated. Please use tf.compat.v1.assign_add instead.\n",
      "\n",
      "Epoch 1/1\n",
      "37500/37500 [==============================] - 1s 27us/step - loss: 1.9894\n"
     ]
    },
    {
     "data": {
      "text/plain": [
       "<keras.callbacks.History at 0x7f7c7d1297f0>"
      ]
     },
     "execution_count": 9,
     "metadata": {},
     "output_type": "execute_result"
    }
   ],
   "source": [
    "km = Sequential([Flatten(), Dense(10), Softmax()])\n",
    "km.compile('adam', 'categorical_crossentropy')\n",
    "km.fit(X_train, y_train, batch_size=256)"
   ]
  },
  {
   "cell_type": "code",
   "execution_count": 5,
   "metadata": {},
   "outputs": [
    {
     "data": {
      "image/png": "[encoded data removed]",
      "text/plain": [
       "<Figure size 864x720 with 2 Axes>"
      ]
     },
     "metadata": {
      "needs_background": "light"
     },
     "output_type": "display_data"
    }
   ],
   "source": [
    "plot_history(h)"
   ]
  },
  {
   "cell_type": "code",
   "execution_count": 6,
   "metadata": {},
   "outputs": [
    {
     "name": "stdout",
     "output_type": "stream",
     "text": [
      "step=0|running loss=0.02328|W=0.18045|b=0.00309|grad=[0.19116882641940997, 0.017201378582780685]\n",
      "step=1|running loss=0.04348|W=0.18082|b=0.00525|grad=[0.20749064672514575, 0.021793374537251498]\n",
      "step=2|running loss=0.06210|W=0.18252|b=0.00626|grad=[0.36472020675368316, 0.024566163946364364]\n",
      "step=3|running loss=0.07664|W=0.18877|b=0.00704|grad=[0.1587694665359094, 0.013067636689565572]\n",
      "step=4|running loss=0.09077|W=0.19541|b=0.00755|grad=[0.25372939962173413, 0.02110998074182702]\n",
      "step=5|running loss=0.10343|W=0.20092|b=0.00780|grad=[0.3372474901954818, 0.025025027646050232]\n",
      "step=6|running loss=0.11550|W=0.20516|b=0.00822|grad=[0.407980682741046, 0.030288595319365428]\n",
      "step=7|running loss=0.12516|W=0.20867|b=0.00855|grad=[0.28818304816187673, 0.03089972712902763]\n",
      "step=8|running loss=0.13425|W=0.21231|b=0.00914|grad=[0.2329778988765498, 0.019771342558412144]\n",
      "step=9|running loss=0.14103|W=0.21662|b=0.00960|grad=[0.24235532935435425, 0.016511645691117485]\n",
      "step=10|running loss=0.14755|W=0.22059|b=0.00979|grad=[0.2911594691129208, 0.0229478557439679]\n",
      "step=11|running loss=0.15344|W=0.22428|b=0.00989|grad=[0.316203429638211, 0.021534161052717476]\n",
      "step=12|running loss=0.15952|W=0.22801|b=0.00970|grad=[0.2287317422806495, 0.021695492877888738]\n",
      "step=13|running loss=0.16552|W=0.23076|b=0.00926|grad=[0.21818561999476604, 0.023108037227109534]\n",
      "step=14|running loss=0.16782|W=0.23484|b=0.00897|grad=[0.3582188505093359, 0.025398754722059668]\n",
      "step=15|running loss=0.17015|W=0.23905|b=0.00861|grad=[0.2806371668628579, 0.018176429955072713]\n",
      "step=16|running loss=0.17345|W=0.24323|b=0.00852|grad=[0.2661646061249536, 0.026056057146664566]\n",
      "step=17|running loss=0.17767|W=0.24688|b=0.00849|grad=[0.2762453529170263, 0.025014139851759976]\n",
      "step=18|running loss=0.18100|W=0.24983|b=0.00845|grad=[0.24494192628990627, 0.02271857597513995]\n",
      "step=19|running loss=0.18246|W=0.25365|b=0.00868|grad=[0.31226889848575884, 0.024970818226681013]\n",
      "step=20|running loss=0.18370|W=0.25715|b=0.00885|grad=[0.29304689022758634, 0.024408290780305007]\n",
      "step=21|running loss=0.18287|W=0.26085|b=0.00906|grad=[0.25839637804331084, 0.013774457593387447]\n",
      "step=22|running loss=0.18791|W=0.26251|b=0.00911|grad=[0.2846319702293753, 0.018615298693153655]\n"
     ]
    },
    {
     "ename": "KeyboardInterrupt",
     "evalue": "",
     "output_type": "error",
     "traceback": [
      "\u001b[0;31m---------------------------------------------------------------------------\u001b[0m",
      "\u001b[0;31mKeyboardInterrupt\u001b[0m                         Traceback (most recent call last)",
      "\u001b[0;32m<ipython-input-6-38b0c2c88f87>\u001b[0m in \u001b[0;36m<module>\u001b[0;34m\u001b[0m\n\u001b[1;32m      7\u001b[0m \u001b[0mm\u001b[0m\u001b[0;34m.\u001b[0m\u001b[0madd\u001b[0m\u001b[0;34m(\u001b[0m\u001b[0mBatchNorm\u001b[0m\u001b[0;34m(\u001b[0m\u001b[0;34m)\u001b[0m\u001b[0;34m)\u001b[0m\u001b[0;34m\u001b[0m\u001b[0;34m\u001b[0m\u001b[0m\n\u001b[1;32m      8\u001b[0m \u001b[0mm\u001b[0m\u001b[0;34m.\u001b[0m\u001b[0madd\u001b[0m\u001b[0;34m(\u001b[0m\u001b[0mDense\u001b[0m\u001b[0;34m(\u001b[0m\u001b[0;36m10\u001b[0m\u001b[0;34m,\u001b[0m \u001b[0;34m'softmax'\u001b[0m\u001b[0;34m)\u001b[0m\u001b[0;34m)\u001b[0m\u001b[0;34m\u001b[0m\u001b[0;34m\u001b[0m\u001b[0m\n\u001b[0;32m----> 9\u001b[0;31m \u001b[0mh\u001b[0m \u001b[0;34m=\u001b[0m \u001b[0mm\u001b[0m\u001b[0;34m.\u001b[0m\u001b[0mfit\u001b[0m\u001b[0;34m(\u001b[0m\u001b[0mX_train\u001b[0m\u001b[0;34m,\u001b[0m \u001b[0my_train\u001b[0m\u001b[0;34m,\u001b[0m \u001b[0mX_test\u001b[0m\u001b[0;34m,\u001b[0m \u001b[0my_test\u001b[0m\u001b[0;34m,\u001b[0m \u001b[0mn_epochs\u001b[0m\u001b[0;34m=\u001b[0m\u001b[0;36m3\u001b[0m\u001b[0;34m,\u001b[0m \u001b[0mbatch_size\u001b[0m\u001b[0;34m=\u001b[0m\u001b[0;36m32\u001b[0m\u001b[0;34m,\u001b[0m \u001b[0mmetrics\u001b[0m\u001b[0;34m=\u001b[0m\u001b[0;34m[\u001b[0m\u001b[0;34m'accuracy'\u001b[0m\u001b[0;34m]\u001b[0m\u001b[0;34m)\u001b[0m\u001b[0;34m\u001b[0m\u001b[0;34m\u001b[0m\u001b[0m\n\u001b[0m",
      "\u001b[0;32m~/side/multilayer_perceptron/nn.py\u001b[0m in \u001b[0;36mfit\u001b[0;34m(self, X, Y, X_val, Y_val, n_epochs, batch_size, callbacks, metrics, reinitialize)\u001b[0m\n\u001b[1;32m    180\u001b[0m \u001b[0;34m\u001b[0m\u001b[0m\n\u001b[1;32m    181\u001b[0m                 \u001b[0mgrads\u001b[0m \u001b[0;34m=\u001b[0m \u001b[0mself\u001b[0m\u001b[0;34m.\u001b[0m\u001b[0mbackward_\u001b[0m\u001b[0;34m(\u001b[0m\u001b[0mY_batch\u001b[0m\u001b[0;34m,\u001b[0m \u001b[0my_pred\u001b[0m\u001b[0;34m)\u001b[0m\u001b[0;34m\u001b[0m\u001b[0;34m\u001b[0m\u001b[0m\n\u001b[0;32m--> 182\u001b[0;31m                 \u001b[0mself\u001b[0m\u001b[0;34m.\u001b[0m\u001b[0m_optimize\u001b[0m\u001b[0;34m(\u001b[0m\u001b[0mgrads\u001b[0m\u001b[0;34m,\u001b[0m \u001b[0mt\u001b[0m\u001b[0;34m)\u001b[0m\u001b[0;34m\u001b[0m\u001b[0;34m\u001b[0m\u001b[0m\n\u001b[0m\u001b[1;32m    183\u001b[0m \u001b[0;34m\u001b[0m\u001b[0m\n\u001b[1;32m    184\u001b[0m                 \u001b[0mstart_idx\u001b[0m \u001b[0;34m+=\u001b[0m \u001b[0mbatch_size\u001b[0m\u001b[0;34m\u001b[0m\u001b[0;34m\u001b[0m\u001b[0m\n",
      "\u001b[0;32m~/side/multilayer_perceptron/nn.py\u001b[0m in \u001b[0;36m_optimize\u001b[0;34m(self, grads, t)\u001b[0m\n\u001b[1;32m    223\u001b[0m                 \u001b[0;32mcontinue\u001b[0m\u001b[0;34m\u001b[0m\u001b[0;34m\u001b[0m\u001b[0m\n\u001b[1;32m    224\u001b[0m             \u001b[0;31m# Don't remove t from function call - it is used for learning rate scheduling\u001b[0m\u001b[0;34m\u001b[0m\u001b[0;34m\u001b[0m\u001b[0;34m\u001b[0m\u001b[0m\n\u001b[0;32m--> 225\u001b[0;31m             \u001b[0mself\u001b[0m\u001b[0;34m.\u001b[0m\u001b[0moptim\u001b[0m\u001b[0;34m(\u001b[0m\u001b[0ml\u001b[0m\u001b[0;34m,\u001b[0m \u001b[0mgrads\u001b[0m\u001b[0;34m[\u001b[0m\u001b[0ml\u001b[0m\u001b[0;34m]\u001b[0m\u001b[0;34m,\u001b[0m \u001b[0mt\u001b[0m\u001b[0;34m=\u001b[0m\u001b[0mt\u001b[0m\u001b[0;34m)\u001b[0m\u001b[0;34m\u001b[0m\u001b[0;34m\u001b[0m\u001b[0m\n\u001b[0m\u001b[1;32m    226\u001b[0m \u001b[0;34m\u001b[0m\u001b[0m\n\u001b[1;32m    227\u001b[0m     \u001b[0;32mdef\u001b[0m \u001b[0mpredict\u001b[0m\u001b[0;34m(\u001b[0m\u001b[0mself\u001b[0m\u001b[0;34m,\u001b[0m \u001b[0mX\u001b[0m\u001b[0;34m)\u001b[0m\u001b[0;34m:\u001b[0m\u001b[0;34m\u001b[0m\u001b[0;34m\u001b[0m\u001b[0m\n",
      "\u001b[0;32m~/side/multilayer_perceptron/optim.py\u001b[0m in \u001b[0;36m__call__\u001b[0;34m(self, layer, params_grad, **kwargs)\u001b[0m\n\u001b[1;32m    132\u001b[0m                 \u001b[0mparams_grad\u001b[0m\u001b[0;34m[\u001b[0m\u001b[0mi\u001b[0m\u001b[0;34m]\u001b[0m \u001b[0;34m=\u001b[0m \u001b[0mnp\u001b[0m\u001b[0;34m.\u001b[0m\u001b[0mclip\u001b[0m\u001b[0;34m(\u001b[0m\u001b[0mparams_grad\u001b[0m\u001b[0;34m[\u001b[0m\u001b[0mi\u001b[0m\u001b[0;34m]\u001b[0m\u001b[0;34m,\u001b[0m \u001b[0;34m-\u001b[0m\u001b[0mself\u001b[0m\u001b[0;34m.\u001b[0m\u001b[0mclipvalue\u001b[0m\u001b[0;34m,\u001b[0m \u001b[0mself\u001b[0m\u001b[0;34m.\u001b[0m\u001b[0mclipvalue\u001b[0m\u001b[0;34m)\u001b[0m\u001b[0;34m\u001b[0m\u001b[0;34m\u001b[0m\u001b[0m\n\u001b[1;32m    133\u001b[0m             \u001b[0mself\u001b[0m\u001b[0;34m.\u001b[0m\u001b[0mmoments\u001b[0m\u001b[0;34m[\u001b[0m\u001b[0mlayer\u001b[0m\u001b[0;34m]\u001b[0m\u001b[0;34m[\u001b[0m\u001b[0mi\u001b[0m\u001b[0;34m]\u001b[0m \u001b[0;34m*=\u001b[0m \u001b[0mself\u001b[0m\u001b[0;34m.\u001b[0m\u001b[0mbeta1\u001b[0m\u001b[0;34m\u001b[0m\u001b[0;34m\u001b[0m\u001b[0m\n\u001b[0;32m--> 134\u001b[0;31m             \u001b[0mself\u001b[0m\u001b[0;34m.\u001b[0m\u001b[0mmoments\u001b[0m\u001b[0;34m[\u001b[0m\u001b[0mlayer\u001b[0m\u001b[0;34m]\u001b[0m\u001b[0;34m[\u001b[0m\u001b[0mi\u001b[0m\u001b[0;34m]\u001b[0m \u001b[0;34m+=\u001b[0m \u001b[0;34m(\u001b[0m\u001b[0;36m1\u001b[0m \u001b[0;34m-\u001b[0m \u001b[0mself\u001b[0m\u001b[0;34m.\u001b[0m\u001b[0mbeta1\u001b[0m\u001b[0;34m)\u001b[0m \u001b[0;34m*\u001b[0m \u001b[0mparams_grad\u001b[0m\u001b[0;34m[\u001b[0m\u001b[0mi\u001b[0m\u001b[0;34m]\u001b[0m\u001b[0;34m\u001b[0m\u001b[0;34m\u001b[0m\u001b[0m\n\u001b[0m\u001b[1;32m    135\u001b[0m \u001b[0;34m\u001b[0m\u001b[0m\n\u001b[1;32m    136\u001b[0m             \u001b[0mself\u001b[0m\u001b[0;34m.\u001b[0m\u001b[0mnorms\u001b[0m\u001b[0;34m[\u001b[0m\u001b[0mlayer\u001b[0m\u001b[0;34m]\u001b[0m\u001b[0;34m[\u001b[0m\u001b[0mi\u001b[0m\u001b[0;34m]\u001b[0m \u001b[0;34m*=\u001b[0m \u001b[0mself\u001b[0m\u001b[0;34m.\u001b[0m\u001b[0mbeta2\u001b[0m\u001b[0;34m\u001b[0m\u001b[0;34m\u001b[0m\u001b[0m\n",
      "\u001b[0;31mKeyboardInterrupt\u001b[0m: "
     ]
    }
   ],
   "source": [
    "np.random.seed(42)\n",
    "m = NeuralNetwork('crossentropy', optimizer=Adam(lr=0.001), verbose=True, verbose_step=1, debug=True)\n",
    "m.add(Flatten())\n",
    "m.add(Dense(256, 'elu'))\n",
    "m.add(BatchNorm())\n",
    "m.add(Dense(256, 'elu'))\n",
    "m.add(BatchNorm())\n",
    "m.add(Dense(10, 'softmax'))\n",
    "h = m.fit(X_train, y_train, X_test, y_test, n_epochs=3, batch_size=32, metrics=['accuracy'])"
   ]
  },
  {
   "cell_type": "code",
   "execution_count": null,
   "metadata": {},
   "outputs": [],
   "source": [
    "plot_history(h)"
   ]
  }
 ],
 "metadata": {
  "kernelspec": {
   "display_name": "Python 3",
   "language": "python",
   "name": "python3"
  },
  "language_info": {
   "codemirror_mode": {
    "name": "ipython",
    "version": 3
   },
   "file_extension": ".py",
   "mimetype": "text/x-python",
   "name": "python",
   "nbconvert_exporter": "python",
   "pygments_lexer": "ipython3",
   "version": "3.6.8"
  }
 },
 "nbformat": 4,
 "nbformat_minor": 4
}
