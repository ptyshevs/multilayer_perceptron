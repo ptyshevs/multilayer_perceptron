{
 "cells": [
  {
   "cell_type": "code",
   "execution_count": 1,
   "metadata": {},
   "outputs": [],
   "source": [
    "from nn import *\n",
    "from metrics import accuracy\n",
    "from tools import normalize"
   ]
  },
  {
   "cell_type": "code",
   "execution_count": 2,
   "metadata": {},
   "outputs": [],
   "source": [
    "import numpy as np\n",
    "import pandas as pd"
   ]
  },
  {
   "cell_type": "code",
   "execution_count": 3,
   "metadata": {},
   "outputs": [],
   "source": [
    "train_df = pd.read_csv('train.csv', index_col=0)\n",
    "test_df = pd.read_csv('test.csv', index_col=0)"
   ]
  },
  {
   "cell_type": "code",
   "execution_count": 4,
   "metadata": {},
   "outputs": [],
   "source": [
    "X_train, y_train = train_df.iloc[:, 1:], train_df.iloc[:, 0]\n",
    "X_test, y_test = test_df.iloc[:, 1:], test_df.iloc[:, 0]"
   ]
  },
  {
   "cell_type": "code",
   "execution_count": 5,
   "metadata": {},
   "outputs": [],
   "source": [
    "X_test = (X_test - X_train.mean()) / X_train.std()\n",
    "X_train = (X_train - X_train.mean()) / X_train.std()"
   ]
  },
  {
   "cell_type": "code",
   "execution_count": 6,
   "metadata": {},
   "outputs": [],
   "source": [
    "y_map = {\"B\": 0, \"M\":1}\n",
    "y_train = y_train.map(y_map).values[:, np.newaxis].astype(np.float64)\n",
    "y_test = y_test.map(y_map).values[:, np.newaxis].astype(np.float64)"
   ]
  },
  {
   "cell_type": "code",
   "execution_count": 7,
   "metadata": {},
   "outputs": [],
   "source": [
    "def build_model(initializer='normal'):\n",
    "    nn = NeuralNetwork(loss=CrossEntropy(), optimizer='gd', verbose=False)\n",
    "    nn.add(Dense(64, activation=Relu(), initializer=initializer))\n",
    "    nn.add(Dense(1, activation=Sigmoid(), initializer=initializer))\n",
    "    return nn"
   ]
  },
  {
   "cell_type": "code",
   "execution_count": 8,
   "metadata": {},
   "outputs": [
    {
     "name": "stdout",
     "output_type": "stream",
     "text": [
      "init=normal | mean_train_acc=0.6455399061032864 | mean_test_acc=0.5748251748251747\n",
      "init=xavier | mean_train_acc=0.7943661971830986 | mean_test_acc=0.7412587412587412\n",
      "init=he | mean_train_acc=0.9253521126760564 | mean_test_acc=0.8965034965034965\n",
      "init=he_unif | mean_train_acc=0.94037558685446 | mean_test_acc=0.923076923076923\n"
     ]
    }
   ],
   "source": [
    "n_episodes = 5\n",
    "inits = ['normal', 'xavier', 'he', 'he_unif']\n",
    "for init in inits:\n",
    "    scores = []\n",
    "    np.random.seed(42)\n",
    "    for ep in range(n_episodes):\n",
    "        nn = build_model(initializer=init)\n",
    "        nn.fit(X_train.values, y_train, n_epochs=5, batch_size=32)\n",
    "        acc_train = accuracy(y_train, nn.predict(X_train) > .5)\n",
    "        acc_test = accuracy(y_test, nn.predict(X_test) > .5)\n",
    "        scores.append([acc_train, acc_test])\n",
    "    scores = np.array(scores)\n",
    "    mean_train_acc, mean_test_acc = scores.mean(axis=0)\n",
    "    print(f\"init={init} | mean_train_acc={mean_train_acc} | mean_test_acc={mean_test_acc}\")"
   ]
  }
 ],
 "metadata": {
  "kernelspec": {
   "display_name": "Python 3",
   "language": "python",
   "name": "python3"
  },
  "language_info": {
   "codemirror_mode": {
    "name": "ipython",
    "version": 3
   },
   "file_extension": ".py",
   "mimetype": "text/x-python",
   "name": "python",
   "nbconvert_exporter": "python",
   "pygments_lexer": "ipython3",
   "version": "3.6.2"
  }
 },
 "nbformat": 4,
 "nbformat_minor": 4
}
