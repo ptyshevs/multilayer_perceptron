{
 "cells": [
  {
   "cell_type": "code",
   "execution_count": 3,
   "metadata": {},
   "outputs": [
    {
     "name": "stdout",
     "output_type": "stream",
     "text": [
      "[0]: 0.9555555555555556\n",
      "[1]: 0.9666666666666667\n",
      "[2]: 0.9222222222222223\n",
      "[3]: 0.9444444444444444\n",
      "[4]: 0.9666666666666667\n"
     ]
    },
    {
     "data": {
      "text/plain": [
       "0.9511111111111111"
      ]
     },
     "execution_count": 3,
     "metadata": {},
     "output_type": "execute_result"
    }
   ],
   "source": [
    "from nn import *\n",
    "from tools import one_hot_encoder\n",
    "from metrics import cv_score, accuracy\n",
    "from sklearn.datasets import load_iris\n",
    "\n",
    "X, y = load_iris(return_X_y=True)\n",
    "\n",
    "y_enc, _ = one_hot_encoder(y)\n",
    "\n",
    "model = NeuralNetwork(loss='crossentropy', optimizer='gd')\n",
    "model.add(Dense(3, activation='softmax'))\n",
    "model.n_epochs=500\n",
    "\n",
    "# model.fit(X, y_enc, n_epochs=500)\n",
    "np.random.seed(42)\n",
    "cv_score(model, accuracy, X, y_enc, cv=5, verbose=True).mean()"
   ]
  }
 ],
 "metadata": {
  "kernelspec": {
   "display_name": "Python 3",
   "language": "python",
   "name": "python3"
  },
  "language_info": {
   "codemirror_mode": {
    "name": "ipython",
    "version": 3
   },
   "file_extension": ".py",
   "mimetype": "text/x-python",
   "name": "python",
   "nbconvert_exporter": "python",
   "pygments_lexer": "ipython3",
   "version": "3.6.2"
  }
 },
 "nbformat": 4,
 "nbformat_minor": 4
}
