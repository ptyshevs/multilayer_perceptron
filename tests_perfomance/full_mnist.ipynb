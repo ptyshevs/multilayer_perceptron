{
 "cells": [
  {
   "cell_type": "code",
   "execution_count": 1,
   "metadata": {},
   "outputs": [],
   "source": [
    "import numpy as np\n",
    "import sys\n",
    "sys.path.append('..')\n",
    "from nn import *"
   ]
  },
  {
   "cell_type": "code",
   "execution_count": 2,
   "metadata": {},
   "outputs": [],
   "source": [
    "file = np.load('datasets/full_mnist.npz')"
   ]
  },
  {
   "cell_type": "code",
   "execution_count": 3,
   "metadata": {},
   "outputs": [],
   "source": [
    "X, y = file['X'], file['y']"
   ]
  },
  {
   "cell_type": "code",
   "execution_count": 4,
   "metadata": {},
   "outputs": [],
   "source": [
    "X_normed = X.astype(np.float32) / 255."
   ]
  },
  {
   "cell_type": "code",
   "execution_count": 5,
   "metadata": {},
   "outputs": [],
   "source": [
    "from tools import one_hot_encoder, train_test_split\n",
    "y_enc, _ = one_hot_encoder(y)"
   ]
  },
  {
   "cell_type": "code",
   "execution_count": 6,
   "metadata": {},
   "outputs": [],
   "source": [
    "X_train, X_test, y_train, y_test = train_test_split(X_normed, y_enc, random_state=42)"
   ]
  },
  {
   "cell_type": "code",
   "execution_count": 7,
   "metadata": {},
   "outputs": [
    {
     "data": {
      "text/plain": [
       "(0.0, 0.13072467, 1.0)"
      ]
     },
     "execution_count": 7,
     "metadata": {},
     "output_type": "execute_result"
    }
   ],
   "source": [
    "X_train.min(), X_train.mean(), X_train.max()"
   ]
  },
  {
   "cell_type": "code",
   "execution_count": 8,
   "metadata": {},
   "outputs": [
    {
     "name": "stdout",
     "output_type": "stream",
     "text": [
      "[    1/3]: loss=0.14880 val_loss=0.14543 accuracy=0.94654 val_accuracy=0.94673 \n",
      "[    2/3]: loss=0.08543 val_loss=0.08310 accuracy=0.96938 val_accuracy=0.96941 \n",
      "[    3/3]: loss=0.04186 val_loss=0.04165 accuracy=0.97871 val_accuracy=0.97831 \n"
     ]
    },
    {
     "data": {
      "text/plain": [
       "History: epoch|loss|val_loss|accuracy|val_accuracy"
      ]
     },
     "execution_count": 8,
     "metadata": {},
     "output_type": "execute_result"
    }
   ],
   "source": [
    "np.random.seed(42)\n",
    "nnet = NeuralNetwork('crossentropy', optimizer='sgd', verbose=True, verbose_step=1, debug=True)\n",
    "nnet.add(Flatten())\n",
    "nnet.add(Dense(256, 'relu'))\n",
    "nnet.add(Dense(10, 'softmax'))\n",
    "nnet.fit(X_train, y_train, X_test, y_test, n_epochs=3, batch_size=32, metrics=['accuracy'])"
   ]
  },
  {
   "cell_type": "code",
   "execution_count": 9,
   "metadata": {},
   "outputs": [
    {
     "name": "stdout",
     "output_type": "stream",
     "text": [
      "[    1/3]: loss=0.02248 val_loss=0.02346 accuracy=0.98839 val_accuracy=0.98729 \n",
      "[    2/3]: loss=0.01308 val_loss=0.01487 accuracy=0.99352 val_accuracy=0.99205 \n",
      "[    3/3]: loss=0.00994 val_loss=0.01237 accuracy=0.99499 val_accuracy=0.99326 \n"
     ]
    },
    {
     "data": {
      "text/plain": [
       "History: epoch|loss|val_loss|accuracy|val_accuracy"
      ]
     },
     "execution_count": 9,
     "metadata": {},
     "output_type": "execute_result"
    }
   ],
   "source": [
    "np.random.seed(42)\n",
    "nnet = NeuralNetwork('crossentropy', optimizer=RMSProp(lr=0.001), verbose=True, verbose_step=1, debug=True)\n",
    "nnet.add(Flatten())\n",
    "nnet.add(Dense(256, 'relu'))\n",
    "nnet.add(Dense(10, 'softmax'))\n",
    "nnet.fit(X_train, y_train, X_test, y_test, n_epochs=3, batch_size=32, metrics=['accuracy'])"
   ]
  },
  {
   "cell_type": "code",
   "execution_count": 10,
   "metadata": {},
   "outputs": [
    {
     "name": "stdout",
     "output_type": "stream",
     "text": [
      "[    1/3]: loss=0.01921 val_loss=0.02072 accuracy=0.99070 val_accuracy=0.98919 \n",
      "[    2/3]: loss=0.01483 val_loss=0.01679 accuracy=0.99225 val_accuracy=0.99049 \n",
      "[    3/3]: loss=0.01124 val_loss=0.01351 accuracy=0.99489 val_accuracy=0.99273 \n"
     ]
    },
    {
     "data": {
      "text/plain": [
       "History: epoch|loss|val_loss|accuracy|val_accuracy"
      ]
     },
     "execution_count": 10,
     "metadata": {},
     "output_type": "execute_result"
    }
   ],
   "source": [
    "np.random.seed(42)\n",
    "nnet = NeuralNetwork('crossentropy', optimizer='sgd', verbose=True, verbose_step=1, debug=True)\n",
    "nnet.add(Flatten())\n",
    "nnet.add(Dense(256, 'relu'))\n",
    "nnet.add(BatchNorm())\n",
    "nnet.add(Dense(10, 'softmax'))\n",
    "nnet.fit(X_train, y_train, X_test, y_test, n_epochs=3, batch_size=32, metrics=['accuracy'])"
   ]
  },
  {
   "cell_type": "code",
   "execution_count": 14,
   "metadata": {},
   "outputs": [
    {
     "name": "stdout",
     "output_type": "stream",
     "text": [
      "[    1/3]: loss=0.01342 val_loss=0.01528 accuracy=0.99304 val_accuracy=0.99178 \n",
      "[    2/3]: loss=0.01232 val_loss=0.01446 accuracy=0.99397 val_accuracy=0.99233 \n",
      "[    3/3]: loss=0.01046 val_loss=0.01320 accuracy=0.99517 val_accuracy=0.99272 \n"
     ]
    },
    {
     "data": {
      "text/plain": [
       "History: epoch|loss|val_loss|accuracy|val_accuracy"
      ]
     },
     "execution_count": 14,
     "metadata": {},
     "output_type": "execute_result"
    }
   ],
   "source": [
    "np.random.seed(42)\n",
    "nnet = NeuralNetwork('crossentropy', optimizer=Adam(lr=.001), verbose=True, verbose_step=1, debug=True)\n",
    "nnet.add(Flatten())\n",
    "nnet.add(Dense(256, 'relu'))\n",
    "nnet.add(BatchNorm())\n",
    "nnet.add(Dense(10, 'softmax'))\n",
    "nnet.fit(X_train, y_train, X_test, y_test, n_epochs=3, batch_size=32, metrics=['accuracy'])"
   ]
  }
 ],
 "metadata": {
  "kernelspec": {
   "display_name": "Python 3",
   "language": "python",
   "name": "python3"
  },
  "language_info": {
   "codemirror_mode": {
    "name": "ipython",
    "version": 3
   },
   "file_extension": ".py",
   "mimetype": "text/x-python",
   "name": "python",
   "nbconvert_exporter": "python",
   "pygments_lexer": "ipython3",
   "version": "3.6.8"
  }
 },
 "nbformat": 4,
 "nbformat_minor": 4
}
