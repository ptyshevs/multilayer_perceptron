{
 "cells": [
  {
   "cell_type": "code",
   "execution_count": 4,
   "metadata": {},
   "outputs": [],
   "source": [
    "import pandas as pd\n",
    "import numpy as np\n",
    "import mlp\n",
    "from mlp.nn import *"
   ]
  },
  {
   "cell_type": "code",
   "execution_count": 5,
   "metadata": {},
   "outputs": [
    {
     "data": {
      "text/plain": [
       "((50000, 32, 32, 3), (50000,))"
      ]
     },
     "execution_count": 5,
     "metadata": {},
     "output_type": "execute_result"
    }
   ],
   "source": [
    "data = np.load('tests_perfomance/datasets/cifar10.npz')\n",
    "X, y = data['arr_0'], data['arr_1']\n",
    "X.shape, y.shape"
   ]
  },
  {
   "cell_type": "code",
   "execution_count": 55,
   "metadata": {},
   "outputs": [],
   "source": [
    "import scipy as sp"
   ]
  },
  {
   "cell_type": "code",
   "execution_count": 57,
   "metadata": {},
   "outputs": [],
   "source": [
    "import scipy.signal"
   ]
  },
  {
   "cell_type": "code",
   "execution_count": 74,
   "metadata": {},
   "outputs": [
    {
     "data": {
      "text/plain": [
       "((32, 32, 3), (3, 3, 3))"
      ]
     },
     "execution_count": 74,
     "metadata": {},
     "output_type": "execute_result"
    }
   ],
   "source": [
    "img = X[0]\n",
    "kernel = nn.layers[0].W[0, ...]\n",
    "img.shape, kernel.shape"
   ]
  },
  {
   "cell_type": "code",
   "execution_count": 87,
   "metadata": {},
   "outputs": [],
   "source": [
    "c = sp.signal.fftconvolve(img, kernel, mode='valid')"
   ]
  },
  {
   "cell_type": "code",
   "execution_count": 89,
   "metadata": {},
   "outputs": [
    {
     "data": {
      "image/png": "[encoded data removed]",
      "text/plain": [
       "<Figure size 432x288 with 1 Axes>"
      ]
     },
     "metadata": {
      "needs_background": "light"
     },
     "output_type": "display_data"
    }
   ],
   "source": [
    "import matplotlib.pyplot as plt\n",
    "\n",
    "plt.imshow(img);"
   ]
  },
  {
   "cell_type": "code",
   "execution_count": 94,
   "metadata": {},
   "outputs": [
    {
     "data": {
      "image/png": "[encoded data removed]",
      "text/plain": [
       "<Figure size 432x288 with 1 Axes>"
      ]
     },
     "metadata": {
      "needs_background": "light"
     },
     "output_type": "display_data"
    }
   ],
   "source": [
    "plt.imshow(c.squeeze(), cmap=plt.cm.Greys_r);"
   ]
  },
  {
   "cell_type": "code",
   "execution_count": 327,
   "metadata": {},
   "outputs": [],
   "source": [
    "class Conv2D(Layer):\n",
    "    def __init__(self, n_units, kernel_size, activation, stride=1, pad=0, trainable=True):\n",
    "        self.n_units = n_units\n",
    "        self.kernel_size = kernel_size\n",
    "        self.kernel_height, self.kernel_width = self._kernel_size_map(kernel_size)\n",
    "        self.stride = stride\n",
    "        \n",
    "        self.conv_mode = 'valid'\n",
    "        self.pad = None\n",
    "        self._pad_map(pad)\n",
    "        \n",
    "        self.activation = activation\n",
    "    \n",
    "        self.input_dim, self.output_dim = None, None\n",
    "        \n",
    "        self.trainable = trainable\n",
    "        self.params = []\n",
    "        \n",
    "        self.last_input, self.last_output = None, None\n",
    "\n",
    "    def forward_propagate(self, X, inference=False):\n",
    "        \n",
    "        n = len(X)\n",
    "        \n",
    "        Z = np.zeros((n, *self.output_dim))\n",
    "        for i in range(n):\n",
    "            for fi in range(self.n_units):\n",
    "                img = X[i]\n",
    "                filter = self.W[fi]\n",
    "                Z[i, ..., fi] = sp.signal.fftconvolve(img, filter, mode=self.conv_mode)[::self.stride, ::self.stride, 0] + self.b[fi]\n",
    "        \n",
    "        if not inference:\n",
    "            self.last_input = X\n",
    "            self.last_output = Z\n",
    "\n",
    "        A = self.activation.forward(Z)\n",
    "        return A\n",
    "    \n",
    "    def backward_propagate(self, dA):\n",
    "        print(\"last_output.shape=\", self.last_output.shape, 'dA.T.shape=', dA.T.shape)\n",
    "        dZ = self.activation.backward(self.last_output) * dA\n",
    "        \n",
    "        print(f\"dZ.shape: {dZ.shape}\")\n",
    "        \n",
    "        dA_prev = np.zeros_like(self.last_input, dtype=np.float64)            \n",
    "        dW = np.zeros_like(self.W)\n",
    "        db = np.zeros_like(self.b)\n",
    "\n",
    "        # Pad A_prev and dA_prev\n",
    "        A_prev_pad = self.zero_pad(dA_prev, self.pad)\n",
    "        dA_prev_pad = self.zero_pad(dA_prev, self.pad)\n",
    "        \n",
    "        m, n_H, n_W, n_C = dZ.shape\n",
    "        for i in range(m):                       # loop over the training examples\n",
    "\n",
    "            # select ith training example from A_prev_pad and dA_prev_pad\n",
    "            a_prev_pad = A_prev_pad[i]\n",
    "            da_prev_pad = dA_prev_pad[i]\n",
    "            for h in range(n_H):                   # loop over vertical axis of the output volume\n",
    "                for w in range(n_W):               # loop over horizontal axis of the output volume\n",
    "                    for c in range(n_C):           # loop over the channels of the output volume\n",
    "                        \n",
    "                        vert_start = h * self.stride\n",
    "                        vert_end = vert_start + self.kernel_height\n",
    "                        horiz_start = w * self.stride\n",
    "                        horiz_end = horiz_start + self.kernel_width\n",
    "\n",
    "                            \n",
    "                        # Find the corners of the current \"slice\"\n",
    "\n",
    "                            # Use the corners to define the slice from a_prev_pad\n",
    "                        a_slice = a_prev_pad[vert_start:vert_end, horiz_start:horiz_end, ...]\n",
    "                        # Update gradients for the window and the filter's parameters using the code formulas given above\n",
    "                        da_prev_pad[vert_start:vert_end, horiz_start:horiz_end, ...] += self.W[c, ...] * dZ[i, h, w, c]\n",
    "                        dW[c, ...] += a_slice * dZ[i, h, w, c]\n",
    "                        db[c] += np.sum(dZ[i, h, w, c])\n",
    "\n",
    "            # Set the ith training example's dA_prev to the unpaded da_prev_pad (Hint: use X[pad:-pad, pad:-pad, :])\n",
    "            if self.pad > 0:\n",
    "                dA_prev[i, :, :, :] = da_prev_pad[self.pad:-self.pad, self.pad:-self.pad, :]\n",
    "            else:\n",
    "                dA_prev[i, ...] = da_prev_pad\n",
    "        return dA_prev, dW, db\n",
    "        \n",
    "    \n",
    "    def _initialize(self, in_dim):\n",
    "        self.params.clear()\n",
    "        print(\"In_dim:\", in_dim)\n",
    "        \n",
    "        self.input_dim = in_dim\n",
    "        \n",
    "        h, w, c = in_dim\n",
    "        \n",
    "        h_new = int((h + 2 * self.pad - self.kernel_height) / self.stride) + 1\n",
    "        w_new = int((w + 2 * self.pad - self.kernel_width) / self.stride) + 1\n",
    "        c_new = self.n_units\n",
    "        \n",
    "        self.output_dim = (h_new, w_new, c_new)\n",
    "        print(\"Out_dim:\", self.output_dim)\n",
    "        self.b = np.zeros((c_new, 1))\n",
    "        self.W = np.random.randn(c_new, self.kernel_height, self.kernel_width, c) * 0.01\n",
    "        print(self.b.shape, self.W.shape)\n",
    "        self.params = [self.W, self.b]\n",
    "\n",
    "    def _kernel_size_map(self, kernel_size):\n",
    "        if type(kernel_size) is int:\n",
    "            return kernel_size, kernel_size  # height, width\n",
    "        elif len(kernel_size) == 2:\n",
    "            return kernel_size\n",
    "        else:\n",
    "            raise ValueError(f\"Kernel size is not understood: {kernel_size}\")\n",
    "    \n",
    "    def _pad_map(self, pad):\n",
    "        if type(pad) is int:\n",
    "            self.pad = pad\n",
    "            self.conv_type = 'valid'\n",
    "        elif type(pad) is str and pad in ['valid', 'same']:\n",
    "            self.pad = 0\n",
    "            self.covn_type = pad\n",
    "        else:\n",
    "            raise ValueError(f\"Padding is not understood: {pad}\")\n",
    "    \n",
    "    def zero_pad(self, X, pad):\n",
    "        return np.pad(X, ((0, 0), (pad, pad), (pad, pad), (0, 0)), 'constant', constant_values=(0, 0))\n",
    "    \n",
    "    @property\n",
    "    def _n_params(self):\n",
    "        return sum([p.size for p in self.params])\n",
    "    \n",
    "    def __repr__(self):\n",
    "        return f\"|{self.__class__.__name__}({self.kernel_height}, {self.kernel_width}, {self.activation})\".ljust(20) + f\"\\t|{self._n_params}\".rjust(20)\n"
   ]
  },
  {
   "cell_type": "code",
   "execution_count": 337,
   "metadata": {},
   "outputs": [
    {
     "name": "stdout",
     "output_type": "stream",
     "text": [
      "In_dim: (32, 32, 3)\n",
      "Out_dim: (30, 30, 30)\n",
      "(30, 1) (30, 3, 3, 3)\n"
     ]
    }
   ],
   "source": [
    "conv = Conv2D(30, 3, activation=Relu())\n",
    "conv._initialize(X.shape[1:])"
   ]
  },
  {
   "cell_type": "code",
   "execution_count": 338,
   "metadata": {},
   "outputs": [
    {
     "data": {
      "text/plain": [
       "(30, 3, 3, 3)"
      ]
     },
     "execution_count": 338,
     "metadata": {},
     "output_type": "execute_result"
    }
   ],
   "source": [
    "conv.W.shape"
   ]
  },
  {
   "cell_type": "code",
   "execution_count": 339,
   "metadata": {},
   "outputs": [
    {
     "data": {
      "text/plain": [
       "(35, 30, 30, 30)"
      ]
     },
     "execution_count": 339,
     "metadata": {},
     "output_type": "execute_result"
    }
   ],
   "source": [
    "res = conv.forward_propagate(X[:35])\n",
    "res.shape"
   ]
  },
  {
   "cell_type": "code",
   "execution_count": 340,
   "metadata": {},
   "outputs": [],
   "source": [
    "dZ = np.random.randn(30, 30, 30, 1)"
   ]
  },
  {
   "cell_type": "code",
   "execution_count": 341,
   "metadata": {},
   "outputs": [
    {
     "name": "stdout",
     "output_type": "stream",
     "text": [
      "last_output.shape= (35, 30, 30, 30) dA.T.shape= (30, 30, 30, 35)\n",
      "dZ.shape: (35, 30, 30, 30)\n"
     ]
    }
   ],
   "source": [
    "dA_prev, dW, db = conv.backward_propagate(res)"
   ]
  },
  {
   "cell_type": "code",
   "execution_count": 342,
   "metadata": {},
   "outputs": [
    {
     "data": {
      "text/plain": [
       "(30, 3, 3, 3)"
      ]
     },
     "execution_count": 342,
     "metadata": {},
     "output_type": "execute_result"
    }
   ],
   "source": [
    "dW.shape"
   ]
  },
  {
   "cell_type": "code",
   "execution_count": 343,
   "metadata": {},
   "outputs": [
    {
     "data": {
      "text/plain": [
       "<matplotlib.image.AxesImage at 0x7faf4ebfce48>"
      ]
     },
     "execution_count": 343,
     "metadata": {},
     "output_type": "execute_result"
    },
    {
     "data": {
      "image/png": "[encoded data removed]",
      "text/plain": [
       "<Figure size 432x288 with 1 Axes>"
      ]
     },
     "metadata": {
      "needs_background": "light"
     },
     "output_type": "display_data"
    }
   ],
   "source": [
    "plt.imshow(res[0,...,5])"
   ]
  },
  {
   "cell_type": "code",
   "execution_count": 134,
   "metadata": {},
   "outputs": [],
   "source": [
    "nn = NeuralNetwork('crossentropy', 'gd', verbose=True, verbose_step=1, random_state=42)\n",
    "nn.add(Conv2D(3, 3, stride=2, activation=Relu()))\n",
    "nn.add(Flatten())\n",
    "nn.add(Dense(10, 'softmax'))"
   ]
  },
  {
   "cell_type": "code",
   "execution_count": 135,
   "metadata": {},
   "outputs": [
    {
     "name": "stdout",
     "output_type": "stream",
     "text": [
      "In_dim: (32, 32, 3)\n",
      "Out_dim: (15, 15, 3)\n",
      "(3,) (3, 3, 3, 3)\n"
     ]
    }
   ],
   "source": [
    "nn.compile(X.shape[1:])"
   ]
  },
  {
   "cell_type": "code",
   "execution_count": 136,
   "metadata": {},
   "outputs": [
    {
     "name": "stdout",
     "output_type": "stream",
     "text": [
      "|Conv2D(3, 3, relu)                 \t|84\n",
      "Flatten\n",
      "|Dense(675, 10, softmax)             \t|\t6760\n",
      "=======================================================\n",
      "Total number of parameters:\t\t 6844\n",
      "Total number of trainable params:\t 6844\n"
     ]
    }
   ],
   "source": [
    "nn.summary()"
   ]
  },
  {
   "cell_type": "code",
   "execution_count": null,
   "metadata": {},
   "outputs": [],
   "source": []
  }
 ],
 "metadata": {
  "kernelspec": {
   "display_name": "Python 3",
   "language": "python",
   "name": "python3"
  },
  "language_info": {
   "codemirror_mode": {
    "name": "ipython",
    "version": 3
   },
   "file_extension": ".py",
   "mimetype": "text/x-python",
   "name": "python",
   "nbconvert_exporter": "python",
   "pygments_lexer": "ipython3",
   "version": "3.7.4"
  }
 },
 "nbformat": 4,
 "nbformat_minor": 4
}
