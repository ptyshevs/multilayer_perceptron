{
 "cells": [
  {
   "cell_type": "code",
   "execution_count": 1,
   "metadata": {},
   "outputs": [],
   "source": [
    "import numpy as np\n",
    "import matplotlib.pyplot as plt"
   ]
  },
  {
   "cell_type": "code",
   "execution_count": 388,
   "metadata": {},
   "outputs": [],
   "source": [
    "x = np.linspace(0, 100)\n",
    "f = lambda x: x\n",
    "y = f(x)"
   ]
  },
  {
   "cell_type": "code",
   "execution_count": 389,
   "metadata": {},
   "outputs": [
    {
     "data": {
      "image/png": "[encoded data removed]",
      "text/plain": [
       "<Figure size 432x288 with 1 Axes>"
      ]
     },
     "metadata": {
      "needs_background": "light"
     },
     "output_type": "display_data"
    }
   ],
   "source": [
    "plt.scatter(x, y);"
   ]
  },
  {
   "cell_type": "code",
   "execution_count": 390,
   "metadata": {},
   "outputs": [],
   "source": [
    "def random_initializer(n, m, seed=None):\n",
    "    if seed is not None:\n",
    "        np.random.seed(seed)\n",
    "    return np.random.randn(n, m) * .01\n",
    "\n",
    "def zero_initializer(n, m):\n",
    "    return np.zeros((n, m))"
   ]
  },
  {
   "cell_type": "code",
   "execution_count": 391,
   "metadata": {},
   "outputs": [],
   "source": [
    "class Linear:\n",
    "    def __init__(self):\n",
    "        self.last_input = None\n",
    "    \n",
    "    def forward(self, X):\n",
    "        self.last_input = X\n",
    "        return X\n",
    "    \n",
    "    def backward(self, dY):\n",
    "        s = self.last_input\n",
    "        return s * dY\n",
    "    \n",
    "    def __repr__(self):\n",
    "        return 'linear'\n",
    "\n",
    "class Sigmoid:\n",
    "    def __init__(self):\n",
    "        self.last_input = None\n",
    "    \n",
    "    def forward(self, X):\n",
    "        self.last_input = X\n",
    "        return self._sigmoid(X)\n",
    "    \n",
    "    def backward(self, dY):\n",
    "        s = self._sigmoid(self.last_input)\n",
    "        return s * (1 - s) * dY\n",
    "    \n",
    "    def _sigmoid(self, X):\n",
    "        return 1 / (1 + np.exp(-X))\n",
    "    \n",
    "    def __repr__(self):\n",
    "        return 'sigmoid'"
   ]
  },
  {
   "cell_type": "code",
   "execution_count": 467,
   "metadata": {},
   "outputs": [],
   "source": [
    "class Layer:\n",
    "    def __init__(self, input_dim, output_dim, activation=None):\n",
    "        \"\"\" Linear -> Activation dense layer \"\"\"\n",
    "        self.input_dim, self.output_dim = input_dim, output_dim\n",
    "        self.activation = activation\n",
    "        self.last_input = None\n",
    "        \n",
    "        self.W = random_initializer(output_dim, input_dim)\n",
    "        self.b = zero_initializer(output_dim, 1)\n",
    "    \n",
    "    def forward_propagate(self, X):\n",
    "        self.last_input = X  # Cache last input\n",
    "        Z = X @ self.W.T + self.b.T\n",
    "        self.last_output = Z\n",
    "        if self.activation:\n",
    "            return self.activation.forward(Z)\n",
    "        else:\n",
    "            return Z\n",
    "\n",
    "    def backward_propagate(self, dA):\n",
    "        \n",
    "        if self.activation:\n",
    "            dZ = self.activation.backward(dA)\n",
    "        else:\n",
    "            dZ = dA\n",
    "#         print(f\"last_input_shape={self.last_input.shape}, dZ.shape={dZ.shape}\")\n",
    "        dW = self.last_input.T @ dZ\n",
    "        db = np.mean(dZ, axis=0, keepdims=True)\n",
    "#         print(f\"dZ.shape={dZ.shape}, W.shape={self.W.shape}\")\n",
    "        dA = dZ @ self.W\n",
    "        return dA, dW, db\n",
    "    \n",
    "    def __repr__(self):\n",
    "        return f\"{self.activation} # params = {self._n_params()}\"\n",
    "    \n",
    "    def _n_params(self):\n",
    "        w = self.W.shape[0] * self.W.shape[1]\n",
    "        b = self.b.shape[0]\n",
    "        return w + b"
   ]
  },
  {
   "cell_type": "code",
   "execution_count": 468,
   "metadata": {},
   "outputs": [],
   "source": [
    "class Optimizer:\n",
    "    def __init__(self):\n",
    "        \"\"\" Class responsible for training process \"\"\"\n",
    "        pass\n",
    "    \n",
    "\n",
    "class GradientDescent:\n",
    "    def __init__(self, learning_rate=.01, n_iterations=100):\n",
    "        self.learning_rate = learning_rate\n",
    "        self.n_iterations = n_iterations\n",
    "    \n",
    "    def update(self, theta, grad):\n",
    "        return theta - self.learning_rate * grad"
   ]
  },
  {
   "cell_type": "code",
   "execution_count": 469,
   "metadata": {},
   "outputs": [],
   "source": [
    "class MSE:\n",
    "    def forward(self, Y, Y_pred):\n",
    "        return np.sum(np.power(Y - Y_pred, 2))\n",
    "    \n",
    "    def backward(self, Y, Y_pred):\n",
    "        return -2 * (Y - Y_pred)\n",
    "\n",
    "    def __repr__(self):\n",
    "        return 'MSE'"
   ]
  },
  {
   "cell_type": "code",
   "execution_count": 470,
   "metadata": {},
   "outputs": [],
   "source": [
    "class History:\n",
    "    def __init__(self):\n",
    "        self.h = []\n",
    "    \n",
    "    def add(self, log):\n",
    "        self.h.append(log)"
   ]
  },
  {
   "cell_type": "code",
   "execution_count": 481,
   "metadata": {},
   "outputs": [],
   "source": [
    "class NeuralNetwork:\n",
    "    def __init__(self, n_iterations=100, learning_rate=0.01, loss=MSE(), verbose=True):\n",
    "        \"\"\" Class containing Neural Network architecture: Layers and Optimizer \"\"\"\n",
    "        self.layers = []\n",
    "        # Optimizer stuff\n",
    "        self.n_iterations = n_iterations\n",
    "        self.learning_rate = learning_rate\n",
    "        self.loss = loss\n",
    "        self.verbose = verbose\n",
    "    \n",
    "    def fit(self, X, Y):\n",
    "        for i in range(self.n_iterations):\n",
    "            y_pred = self.forward_(X)\n",
    "            cost = self.loss.forward(Y, y_pred)\n",
    "            if self.verbose and i % 500 == 0:\n",
    "                print(f\"{i}: {self.loss}={cost}\")\n",
    "            self.backward_(Y, y_pred)\n",
    "    \n",
    "    def forward_(self, X):\n",
    "        for l in self.layers:\n",
    "            X = l.forward_propagate(X)\n",
    "        return X\n",
    "    \n",
    "    def backward_(self, Y, Y_pred):\n",
    "        dloss = self.loss.backward(Y, Y_pred)\n",
    "        dA = dloss\n",
    "        for l in reversed(self.layers):\n",
    "            dA, dW, db = l.backward_propagate(dA)\n",
    "            print(\"dW=\", dW)\n",
    "            l.W -= self.learning_rate * dW.T\n",
    "            l.b -= self.learning_rate * db.T\n",
    "    \n",
    "    def predict(self, X):\n",
    "        pass\n",
    "    \n",
    "    def add(self, layer):\n",
    "        self.layers.append(layer)\n",
    "    \n",
    "    def summary(self):\n",
    "        return '\\n'.join([repr(l) for l in self.layers])"
   ]
  },
  {
   "cell_type": "code",
   "execution_count": 482,
   "metadata": {},
   "outputs": [],
   "source": [
    "model = NeuralNetwork(n_iterations=3, learning_rate=0.05)\n",
    "model.add(Layer(1, 1, activation=None))\n",
    "# model.add(Layer(2, 1, activation=None))"
   ]
  },
  {
   "cell_type": "code",
   "execution_count": 483,
   "metadata": {},
   "outputs": [],
   "source": [
    "if len(x.shape) < 2:\n",
    "    x = x[:, np.newaxis]\n",
    "if len(y.shape) < 2:\n",
    "    y = y[:, np.newaxis]"
   ]
  },
  {
   "cell_type": "code",
   "execution_count": 484,
   "metadata": {},
   "outputs": [
    {
     "name": "stdout",
     "output_type": "stream",
     "text": [
      "0: MSE=164923.34166534196\n",
      "dW= [[-333272.89409414]]\n",
      "dW= [[5.61091877e+09]]\n",
      "dW= [[-9.44643563e+13]]\n"
     ]
    }
   ],
   "source": [
    "model.fit(x, y)"
   ]
  },
  {
   "cell_type": "code",
   "execution_count": 485,
   "metadata": {},
   "outputs": [
    {
     "data": {
      "text/plain": [
       "array([[1.4025714e+09]])"
      ]
     },
     "execution_count": 485,
     "metadata": {},
     "output_type": "execute_result"
    }
   ],
   "source": [
    "model.layers[0].b"
   ]
  },
  {
   "cell_type": "code",
   "execution_count": null,
   "metadata": {},
   "outputs": [],
   "source": []
  }
 ],
 "metadata": {
  "kernelspec": {
   "display_name": "Python 3",
   "language": "python",
   "name": "python3"
  },
  "language_info": {
   "codemirror_mode": {
    "name": "ipython",
    "version": 3
   },
   "file_extension": ".py",
   "mimetype": "text/x-python",
   "name": "python",
   "nbconvert_exporter": "python",
   "pygments_lexer": "ipython3",
   "version": "3.6.8"
  }
 },
 "nbformat": 4,
 "nbformat_minor": 2
}
