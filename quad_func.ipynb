{
 "cells": [
  {
   "cell_type": "code",
   "execution_count": 1,
   "metadata": {},
   "outputs": [],
   "source": [
    "import numpy as np\n",
    "import matplotlib.pyplot as plt"
   ]
  },
  {
   "cell_type": "code",
   "execution_count": 15,
   "metadata": {},
   "outputs": [],
   "source": [
    "# x = np.linspace(0, 1000, num=5000)\n",
    "x = np.random.randn(100, 1) * 100\n",
    "f = lambda x: x ** 2\n",
    "y = f(x)"
   ]
  },
  {
   "cell_type": "code",
   "execution_count": 16,
   "metadata": {},
   "outputs": [
    {
     "data": {
      "image/png": "[encoded data removed]",
      "text/plain": [
       "<Figure size 432x288 with 1 Axes>"
      ]
     },
     "metadata": {
      "needs_background": "light"
     },
     "output_type": "display_data"
    }
   ],
   "source": [
    "plt.scatter(x, y);"
   ]
  },
  {
   "cell_type": "code",
   "execution_count": 17,
   "metadata": {},
   "outputs": [],
   "source": [
    "def random_initializer(n, m, seed=None):\n",
    "    if seed is not None:\n",
    "        np.random.seed(seed)\n",
    "    return np.random.randn(n, m) * .01\n",
    "\n",
    "def zero_initializer(n, m):\n",
    "    return np.zeros((n, m))"
   ]
  },
  {
   "cell_type": "code",
   "execution_count": 18,
   "metadata": {},
   "outputs": [],
   "source": [
    "class Linear:\n",
    "    def __init__(self):\n",
    "        self.last_input = None\n",
    "    \n",
    "    def forward(self, X):\n",
    "        self.last_input = X\n",
    "        return X\n",
    "    \n",
    "    def backward(self, dY):\n",
    "        s = self.last_input\n",
    "        return s * dY\n",
    "    \n",
    "    def __repr__(self):\n",
    "        return 'linear'\n",
    "\n",
    "class Sigmoid:\n",
    "    def __init__(self):\n",
    "        self.last_input = None\n",
    "    \n",
    "    def forward(self, X):\n",
    "        self.last_input = X\n",
    "        return self._sigmoid(X)\n",
    "    \n",
    "    def backward(self, dY):\n",
    "        s = self._sigmoid(self.last_input)\n",
    "        return s * (1 - s) * dY\n",
    "    \n",
    "    def _sigmoid(self, X):\n",
    "        return 1 / (1 + np.exp(-X))\n",
    "    \n",
    "    def __repr__(self):\n",
    "        return 'sigmoid'"
   ]
  },
  {
   "cell_type": "code",
   "execution_count": 19,
   "metadata": {},
   "outputs": [],
   "source": [
    "class Layer:\n",
    "    def __init__(self, input_dim, output_dim, activation=None):\n",
    "        \"\"\" Linear -> Activation dense layer \"\"\"\n",
    "        self.input_dim, self.output_dim = input_dim, output_dim\n",
    "        self.activation = activation\n",
    "        self.last_input = None\n",
    "        \n",
    "        self.W = random_initializer(output_dim, input_dim)\n",
    "        self.b = zero_initializer(output_dim, 1)\n",
    "    \n",
    "    def forward_propagate(self, X):\n",
    "        self.last_input = X  # Cache last input\n",
    "#         print(f\"W.shape={self.W.shape} | X.shape={X.shape}\")\n",
    "        Z = self.W @ X + self.b\n",
    "        if self.activation:\n",
    "            return self.activation.forward(Z)\n",
    "        else:\n",
    "            return Z\n",
    "\n",
    "    def backward_propagate(self, dA):\n",
    "        \n",
    "        if self.activation:\n",
    "            dZ = self.activation.backward(dA)\n",
    "        else:\n",
    "            dZ = dA\n",
    "#         print(f\"last_input_shape={self.last_input.shape}, dZ.shape={dZ.shape}\")\n",
    "        dW = dZ @ self.last_input.T / len(dZ)\n",
    "        db = np.sum(dZ, axis=1, keepdims=True) / len(dZ)\n",
    "#         print(f\"dZ.shape={dZ.shape}, W.shape={self.W.shape}\")\n",
    "        dA = self.W.T @ dZ\n",
    "        return dA, dW, db\n",
    "    \n",
    "    def __repr__(self):\n",
    "        return f\"{self.activation} # params = {self._n_params()}\"\n",
    "    \n",
    "    def _n_params(self):\n",
    "        w = self.W.shape[0] * self.W.shape[1]\n",
    "        b = self.b.shape[0]\n",
    "        return w + b"
   ]
  },
  {
   "cell_type": "code",
   "execution_count": 20,
   "metadata": {},
   "outputs": [],
   "source": [
    "class Optimizer:\n",
    "    def __init__(self):\n",
    "        \"\"\" Class responsible for training process \"\"\"\n",
    "        pass\n",
    "    \n",
    "\n",
    "class GradientDescent:\n",
    "    def __init__(self, learning_rate=.01, n_iterations=100):\n",
    "        self.learning_rate = learning_rate\n",
    "        self.n_iterations = n_iterations\n",
    "    \n",
    "    def update(self, theta, grad):\n",
    "        return theta - self.learning_rate * grad"
   ]
  },
  {
   "cell_type": "code",
   "execution_count": 21,
   "metadata": {},
   "outputs": [],
   "source": [
    "class MSE:\n",
    "    def forward(self, Y, Y_pred):\n",
    "        return np.sum(np.power(Y - Y_pred, 2))\n",
    "    \n",
    "    def backward(self, Y, Y_pred):\n",
    "        return -2 * (Y - Y_pred) / Y.shape[1]\n",
    "\n",
    "    def __repr__(self):\n",
    "        return 'MSE'"
   ]
  },
  {
   "cell_type": "code",
   "execution_count": 22,
   "metadata": {},
   "outputs": [],
   "source": [
    "class History:\n",
    "    def __init__(self):\n",
    "        self.h = []\n",
    "    \n",
    "    def add(self, log):\n",
    "        self.h.append(log)"
   ]
  },
  {
   "cell_type": "code",
   "execution_count": 23,
   "metadata": {},
   "outputs": [],
   "source": [
    "class NeuralNetwork:\n",
    "    def __init__(self, n_iterations=100, learning_rate=0.01, loss=MSE(), verbose=True):\n",
    "        \"\"\" Class containing Neural Network architecture: Layers and Optimizer \"\"\"\n",
    "        self.layers = []\n",
    "        # Optimizer stuff\n",
    "        self.n_iterations = n_iterations\n",
    "        self.learning_rate = learning_rate\n",
    "        self.loss = loss\n",
    "        self.verbose = verbose\n",
    "    \n",
    "    def fit(self, X, Y):\n",
    "        for i in range(self.n_iterations):\n",
    "            y_pred = self.forward_(X)\n",
    "            cost = self.loss.forward(Y, y_pred)\n",
    "            if (self.verbose and i % 1 == 0):\n",
    "                print(f\"{i}: {self.loss}={cost}\")\n",
    "            self.backward_(Y, y_pred)\n",
    "    \n",
    "    def forward_(self, X):\n",
    "        for l in self.layers:\n",
    "            X = l.forward_propagate(X)\n",
    "        return X\n",
    "    \n",
    "    def backward_(self, Y, Y_pred):\n",
    "        dA = self.loss.backward(Y, Y_pred)\n",
    "        for i, l in enumerate(reversed(self.layers)):\n",
    "#             print(f\"dA{i}={dA}\")\n",
    "            dA, dW, db = l.backward_propagate(dA)\n",
    "#             print(f\"dW{i}={dW}, W{i}={l.W}\")\n",
    "            l.W -= self.learning_rate * dW\n",
    "#             print(f\"W.shape={l.W.shape} | dW.shape={dW.shape}\")\n",
    "            l.b -= self.learning_rate * db\n",
    "    \n",
    "    def predict(self, X):\n",
    "        pass\n",
    "    \n",
    "    def add(self, layer):\n",
    "        self.layers.append(layer)\n",
    "    \n",
    "    def summary(self):\n",
    "        return '\\n'.join([repr(l) for l in self.layers])"
   ]
  },
  {
   "cell_type": "code",
   "execution_count": 24,
   "metadata": {},
   "outputs": [],
   "source": [
    "model = NeuralNetwork(n_iterations=100, learning_rate=0.01, verbose=True)\n",
    "model.add(Layer(1, 2, activation=Sigmoid()))\n",
    "model.add(Layer(2, 2, activation=Sigmoid()))\n",
    "model.add(Layer(2, 1, activation=None))"
   ]
  },
  {
   "cell_type": "code",
   "execution_count": 25,
   "metadata": {},
   "outputs": [],
   "source": [
    "if len(x.shape) < 2:\n",
    "    x = x[:, np.newaxis]\n",
    "if len(y.shape) < 2:\n",
    "    y = y[:, np.newaxis]"
   ]
  },
  {
   "cell_type": "code",
   "execution_count": 26,
   "metadata": {},
   "outputs": [],
   "source": [
    "x_ok = (x - x.mean()) / x.std()"
   ]
  },
  {
   "cell_type": "code",
   "execution_count": 27,
   "metadata": {},
   "outputs": [
    {
     "name": "stdout",
     "output_type": "stream",
     "text": [
      "0: MSE=22652470861.607815\n",
      "1: MSE=22228249841.753273\n",
      "2: MSE=21573026149.707855\n",
      "3: MSE=20881930244.2547\n",
      "4: MSE=20271277902.196285\n",
      "5: MSE=19731705492.75347\n",
      "6: MSE=19254939311.769806\n",
      "7: MSE=18833668714.25263\n",
      "8: MSE=18461434014.28646\n",
      "9: MSE=18132527433.396355\n",
      "10: MSE=17841905578.52185\n",
      "11: MSE=17585112107.554737\n",
      "12: MSE=17358209396.608208\n",
      "13: MSE=17157718161.215845\n",
      "14: MSE=16980564105.623154\n",
      "15: MSE=16824030782.101454\n",
      "16: MSE=16685717937.437677\n",
      "17: MSE=16563504707.89277\n",
      "18: MSE=16455517098.266884\n",
      "19: MSE=16360099246.401451\n",
      "20: MSE=16275788032.49316\n",
      "21: MSE=16201290643.88379\n",
      "22: MSE=16135464751.308554\n",
      "23: MSE=16077300992.62907\n",
      "24: MSE=16025907495.459883\n",
      "25: MSE=15980496201.361189\n",
      "26: MSE=15940370781.89558\n",
      "27: MSE=15904915961.255768\n",
      "28: MSE=15873588081.738432\n",
      "29: MSE=15845906767.396914\n",
      "30: MSE=15821447558.044746\n",
      "31: MSE=15799835400.661173\n",
      "32: MSE=15780738898.397047\n",
      "33: MSE=15763865228.996466\n",
      "34: MSE=15748955654.714115\n",
      "35: MSE=15735781554.878223\n",
      "36: MSE=15724140920.263231\n",
      "37: MSE=15713855255.517427\n",
      "38: MSE=15704766842.148035\n",
      "39: MSE=15696736320.09484\n",
      "40: MSE=15689640550.80863\n",
      "41: MSE=15683370729.06734\n",
      "42: MSE=15677830714.576738\n",
      "43: MSE=15672935557.77284\n",
      "44: MSE=15668610197.220917\n",
      "45: MSE=15664788308.637238\n",
      "46: MSE=15661411287.884695\n",
      "47: MSE=15658427352.347754\n",
      "48: MSE=15655790746.90731\n",
      "49: MSE=15653461042.340137\n",
      "50: MSE=15651402515.384579\n",
      "51: MSE=15649583600.966646\n",
      "52: MSE=15647976408.186964\n",
      "53: MSE=15646556292.64684\n",
      "54: MSE=15645301478.55558\n",
      "55: MSE=15644192724.824543\n",
      "56: MSE=15643213030.027805\n",
      "57: MSE=15642347371.705399\n",
      "58: MSE=15641582476.011728\n",
      "59: MSE=15640906614.176794\n",
      "60: MSE=15640309422.659452\n",
      "61: MSE=15639781744.234724\n",
      "62: MSE=15639315487.578638\n",
      "63: MSE=15638903503.197323\n",
      "64: MSE=15638539473.797987\n",
      "65: MSE=15638217817.420736\n",
      "66: MSE=15637933601.845797\n",
      "67: MSE=15637682468.963783\n",
      "68: MSE=15637460567.94923\n",
      "69: MSE=15637264496.212776\n",
      "70: MSE=15637091247.226446\n",
      "71: MSE=15636938164.422117\n",
      "72: MSE=15636802900.45622\n",
      "73: MSE=15636683381.215952\n",
      "74: MSE=15636577774.015247\n",
      "75: MSE=15636484459.492712\n",
      "76: MSE=15636402006.78059\n",
      "77: MSE=15636329151.564167\n",
      "78: MSE=15636264776.69493\n",
      "79: MSE=15636207895.060474\n",
      "80: MSE=15636157634.448269\n",
      "81: MSE=15636113224.17133\n",
      "82: MSE=15636073983.25062\n",
      "83: MSE=15636039309.973078\n",
      "84: MSE=15636008672.665049\n",
      "85: MSE=15635981601.539675\n",
      "86: MSE=15635957681.49329\n",
      "87: MSE=15635936545.740307\n",
      "88: MSE=15635917870.188969\n",
      "89: MSE=15635901368.471811\n",
      "90: MSE=15635886787.554525\n",
      "91: MSE=15635873903.85601\n",
      "92: MSE=15635862519.820007\n",
      "93: MSE=15635852460.885794\n",
      "94: MSE=15635843572.811522\n",
      "95: MSE=15635835719.309095\n",
      "96: MSE=15635828779.954351\n",
      "97: MSE=15635822648.340498\n",
      "98: MSE=15635817230.4465\n",
      "99: MSE=15635812443.195362\n"
     ]
    }
   ],
   "source": [
    "model.fit(x_ok.T, y.T)"
   ]
  }
 ],
 "metadata": {
  "kernelspec": {
   "display_name": "Python 3",
   "language": "python",
   "name": "python3"
  },
  "language_info": {
   "codemirror_mode": {
    "name": "ipython",
    "version": 3
   },
   "file_extension": ".py",
   "mimetype": "text/x-python",
   "name": "python",
   "nbconvert_exporter": "python",
   "pygments_lexer": "ipython3",
   "version": "3.6.8"
  }
 },
 "nbformat": 4,
 "nbformat_minor": 2
}
