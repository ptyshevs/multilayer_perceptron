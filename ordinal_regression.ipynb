{
 "cells": [
  {
   "cell_type": "code",
   "execution_count": 1,
   "metadata": {},
   "outputs": [],
   "source": [
    "import numpy as np\n",
    "import pandas as pd\n",
    "df = pd.read_csv('tests_perfomance/datasets/wine.csv')"
   ]
  },
  {
   "cell_type": "code",
   "execution_count": 2,
   "metadata": {},
   "outputs": [
    {
     "data": {
      "text/plain": [
       "5    681\n",
       "6    638\n",
       "7    199\n",
       "4     53\n",
       "8     18\n",
       "3     10\n",
       "Name: quality, dtype: int64"
      ]
     },
     "execution_count": 2,
     "metadata": {},
     "output_type": "execute_result"
    }
   ],
   "source": [
    "df.quality.value_counts()"
   ]
  },
  {
   "cell_type": "code",
   "execution_count": 15,
   "metadata": {},
   "outputs": [],
   "source": [
    "from pandas.api.types import CategoricalDtype\n",
    "target =  df.quality\n",
    "categ = [3, 4, 5, 6, 7, 8]\n",
    "cat_type = CategoricalDtype(categories=categ, ordered=True)\n",
    "target = target.astype(cat_type)\n",
    "X = df.iloc[:, :-1]\n",
    "from sklearn.model_selection import cross_val_score"
   ]
  },
  {
   "cell_type": "code",
   "execution_count": 5,
   "metadata": {},
   "outputs": [],
   "source": [
    "from sklearn.linear_model import LogisticRegression"
   ]
  },
  {
   "cell_type": "code",
   "execution_count": 203,
   "metadata": {},
   "outputs": [],
   "source": [
    "from functools import reduce\n",
    "import warnings\n",
    "import sklearn.exceptions\n",
    "from sklearn.exceptions import ConvergenceWarning\n",
    "prod = lambda x, y: x * y\n",
    "\n",
    "class SequentialOrdinalRegressor:\n",
    "    def __init__(self, base_model, base_model_params=None, random_state=None, suppress_warnings=True):\n",
    "        self.random_state = random_state\n",
    "        self.base_model = base_model\n",
    "        self.base_model_params = base_model_params\n",
    "        self.models = None\n",
    "        self.suppress_warnings = suppress_warnings\n",
    "    \n",
    "    def fit(self, X, y):\n",
    "        if self.random_state is not None:\n",
    "            np.random.seed(self.random_state)\n",
    "        \n",
    "        self.models = []\n",
    "        self.categories = y.cat.categories\n",
    "        for i, cat in enumerate(self.categories[:-1]):\n",
    "            labels = [0] * len(self.categories[:i+1]) + [1] * len(self.categories[i + 1:])\n",
    "            map = {cat: labels[j] for j, cat in enumerate(self.categories)}\n",
    "            y_enc = y.replace(map)\n",
    "            if self.suppress_warnings:\n",
    "                with warnings.catch_warnings():\n",
    "                    warnings.filterwarnings(\"ignore\", category=ConvergenceWarning)\n",
    "                    mod = self.base_model(**self.base_model_params)\n",
    "                    mod.fit(X, y_enc)\n",
    "                    self.models.append(mod)\n",
    "            else:\n",
    "                mod = self.base_model(**self.base_model_params)\n",
    "                mod.fit(X, y_enc)\n",
    "                self.models.append(mod)\n",
    "        return self\n",
    "    \n",
    "    def predict(self, X):\n",
    "        pred = []\n",
    "        for i, x in X.iterrows():\n",
    "            binary_probabilities = [mod.predict_proba(x.values.reshape(1, -1)) for mod in self.models]\n",
    "            neg_probs = [p[0][0] for p in binary_probabilities]\n",
    "            pos_probs = [p[0][1] for p in binary_probabilities]\n",
    "            bin_probabilities = []\n",
    "            for i in range(len(self.models)):\n",
    "                bin_prob = [p for p in pos_probs[:i]] + [neg_probs[i]]\n",
    "                reduced = reduce(prod, bin_prob)\n",
    "                bin_probabilities.append(reduced)\n",
    "            bin_probabilities.append(reduce(prod, pos_probs))\n",
    "            pred.append(self.categories[np.argmax(bin_probabilities)])\n",
    "        return np.array(pred)\n",
    "    \n",
    "    def predict_proba(self, X):\n",
    "        probs = []\n",
    "        for x in X:\n",
    "            binary_probabilities = [mod.predict_proba(x.reshape(1, -1)) for mod in self.models]\n",
    "            neg_probs = [p[0][0] for p in binary_probabilities]\n",
    "            pos_probs = [p[0][1] for p in binary_probabilities]\n",
    "            bin_probabilities = []\n",
    "            for i in range(len(self.models)):\n",
    "                bin_prob = [p for p in pos_probs[:i]] + [neg_probs[i]]\n",
    "                reduced = reduce(prod, bin_prob)\n",
    "                bin_probabilities.append(reduced)\n",
    "            bin_probabilities.append(reduce(prod, pos_probs))\n",
    "            probs.append(bin_probabilities)\n",
    "        return np.array(probs)\n",
    "    \n",
    "    def get_params(self, *args, **kwargs):\n",
    "        return dict(base_model=self.base_model, base_model_params=self.base_model_params)\n",
    "    \n",
    "    def __repr__(self):\n",
    "        return f\"Sequential Ordinal Regressor | base={repr(self.base_model)}\""
   ]
  },
  {
   "cell_type": "code",
   "execution_count": 204,
   "metadata": {},
   "outputs": [],
   "source": [
    "m = SequentialOrdinalRegressor(LogisticRegression, dict(random_state=42, solver='lbfgs', class_weight='balanced'), random_state=42)"
   ]
  },
  {
   "cell_type": "code",
   "execution_count": 205,
   "metadata": {},
   "outputs": [
    {
     "data": {
      "text/plain": [
       "Sequential Ordinal Regressor | base=<class 'sklearn.linear_model.logistic.LogisticRegression'>"
      ]
     },
     "execution_count": 205,
     "metadata": {},
     "output_type": "execute_result"
    }
   ],
   "source": [
    "m.fit(X, target)"
   ]
  },
  {
   "cell_type": "code",
   "execution_count": 216,
   "metadata": {},
   "outputs": [
    {
     "name": "stderr",
     "output_type": "stream",
     "text": [
      "/home/ptyshevskyi/envs/loc_env/lib/python3.6/site-packages/sklearn/metrics/classification.py:1745: UserWarning: y_pred contains classes not in y_true\n",
      "  warnings.warn('y_pred contains classes not in y_true')\n",
      "/home/ptyshevskyi/envs/loc_env/lib/python3.6/site-packages/sklearn/metrics/classification.py:1745: UserWarning: y_pred contains classes not in y_true\n",
      "  warnings.warn('y_pred contains classes not in y_true')\n"
     ]
    },
    {
     "data": {
      "text/plain": [
       "0.330323742141874"
      ]
     },
     "execution_count": 216,
     "metadata": {},
     "output_type": "execute_result"
    }
   ],
   "source": [
    "cross_val_score(m, X, target, cv=5, scoring='balanced_accuracy').mean()"
   ]
  },
  {
   "cell_type": "code",
   "execution_count": 215,
   "metadata": {},
   "outputs": [
    {
     "name": "stdout",
     "output_type": "stream",
     "text": [
      "0.23403498314780086\n"
     ]
    }
   ],
   "source": [
    "with warnings.catch_warnings():\n",
    "    warnings.filterwarnings(\"ignore\", category=ConvergenceWarning)\n",
    "    print(cross_val_score(LogisticRegression(solver='lbfgs', random_state=42, multi_class='auto'), X, y=target, cv=5, scoring='balanced_accuracy').mean())"
   ]
  },
  {
   "cell_type": "code",
   "execution_count": 94,
   "metadata": {},
   "outputs": [
    {
     "data": {
      "text/plain": [
       "0.5679802397137192"
      ]
     },
     "execution_count": 94,
     "metadata": {},
     "output_type": "execute_result"
    }
   ],
   "source": [
    "from sklearn.ensemble import RandomForestClassifier\n",
    "rf_classifier = RandomForestClassifier(n_estimators=100, random_state=42)\n",
    "cross_val_score(rf_classifier, X, target, cv=5).mean()"
   ]
  },
  {
   "cell_type": "code",
   "execution_count": 107,
   "metadata": {},
   "outputs": [],
   "source": [
    "def my_cv_score(model, scoring, X, y, cv=3, verbose=False):\n",
    "    indices = np.arange(len(X))\n",
    "    np.random.shuffle(indices)\n",
    "    batch_size = len(indices) // cv\n",
    "    cv_scores = []\n",
    "    for i in range(cv):\n",
    "        idx_train = np.concatenate([indices[:batch_size * i], indices[batch_size * (i + 1):]])\n",
    "        idx_test = indices[batch_size * i: batch_size * (i + 1)]\n",
    "        X_train, y_train = X.iloc[idx_train, :], y[idx_train]\n",
    "        X_test, y_test = X.iloc[idx_test, :], y[idx_test]\n",
    "        model.fit(X_train, y_train)\n",
    "        y_pred = model.predict(X_test)\n",
    "        score = scoring(y_test, y_pred)\n",
    "        if verbose:\n",
    "            print(f\"[{i}]: {score}\")\n",
    "        cv_scores.append(score)\n",
    "    return np.array(cv_scores)"
   ]
  },
  {
   "cell_type": "code",
   "execution_count": 108,
   "metadata": {},
   "outputs": [],
   "source": [
    "from sklearn.metrics import accuracy_score\n",
    "m = SequentialOrdinalRegressor(LogisticRegression, dict(random_state=42, solver='lbfgs'), random_state=42)\n",
    "cv_scores = my_cv_score(m, accuracy_score, X, target, cv=5)"
   ]
  },
  {
   "cell_type": "code",
   "execution_count": 110,
   "metadata": {},
   "outputs": [
    {
     "data": {
      "text/plain": [
       "0.5968652037617554"
      ]
     },
     "execution_count": 110,
     "metadata": {},
     "output_type": "execute_result"
    }
   ],
   "source": [
    "cv_scores.mean()"
   ]
  },
  {
   "cell_type": "code",
   "execution_count": 111,
   "metadata": {},
   "outputs": [
    {
     "name": "stderr",
     "output_type": "stream",
     "text": [
      "/home/ptyshevskyi/envs/loc_env/lib/python3.6/site-packages/sklearn/linear_model/logistic.py:947: ConvergenceWarning: lbfgs failed to converge. Increase the number of iterations.\n",
      "  \"of iterations.\", ConvergenceWarning)\n",
      "/home/ptyshevskyi/envs/loc_env/lib/python3.6/site-packages/sklearn/linear_model/logistic.py:947: ConvergenceWarning: lbfgs failed to converge. Increase the number of iterations.\n",
      "  \"of iterations.\", ConvergenceWarning)\n",
      "/home/ptyshevskyi/envs/loc_env/lib/python3.6/site-packages/sklearn/linear_model/logistic.py:947: ConvergenceWarning: lbfgs failed to converge. Increase the number of iterations.\n",
      "  \"of iterations.\", ConvergenceWarning)\n",
      "/home/ptyshevskyi/envs/loc_env/lib/python3.6/site-packages/sklearn/linear_model/logistic.py:947: ConvergenceWarning: lbfgs failed to converge. Increase the number of iterations.\n",
      "  \"of iterations.\", ConvergenceWarning)\n",
      "/home/ptyshevskyi/envs/loc_env/lib/python3.6/site-packages/sklearn/linear_model/logistic.py:947: ConvergenceWarning: lbfgs failed to converge. Increase the number of iterations.\n",
      "  \"of iterations.\", ConvergenceWarning)\n"
     ]
    },
    {
     "data": {
      "text/plain": [
       "0.5774294670846395"
      ]
     },
     "execution_count": 111,
     "metadata": {},
     "output_type": "execute_result"
    }
   ],
   "source": [
    "reg_model = LogisticRegression(multi_class='auto', solver='lbfgs', random_state=42)\n",
    "my_cv_score(reg_model, accuracy_score, X, target, cv=5).mean()"
   ]
  },
  {
   "cell_type": "code",
   "execution_count": 112,
   "metadata": {},
   "outputs": [
    {
     "data": {
      "text/plain": [
       "0.6921630094043887"
      ]
     },
     "execution_count": 112,
     "metadata": {},
     "output_type": "execute_result"
    }
   ],
   "source": [
    "m2 = SequentialOrdinalRegressor(RandomForestClassifier, dict(random_state=42, n_estimators=100), random_state=42)\n",
    "my_cv_score(m2, accuracy_score, X, target, cv=5, verbose=True).mean()"
   ]
  },
  {
   "cell_type": "code",
   "execution_count": 113,
   "metadata": {},
   "outputs": [
    {
     "data": {
      "text/plain": [
       "0.7040752351097179"
      ]
     },
     "execution_count": 113,
     "metadata": {},
     "output_type": "execute_result"
    }
   ],
   "source": [
    "rf_model = RandomForestClassifier(random_state=42, n_estimators=100)\n",
    "my_cv_score(rf_model, accuracy_score, X, target, cv=5, verbose=True).mean()"
   ]
  },
  {
   "cell_type": "code",
   "execution_count": 180,
   "metadata": {},
   "outputs": [],
   "source": [
    "import matplotlib.pyplot as plt\n",
    "\n",
    "def compare_distributions(model1, model2, sample):\n",
    "    f, ax = plt.subplots(ncols=2, figsize=(16, 8))\n",
    "\n",
    "    ax[0].bar(target.cat.categories, model1.predict_proba(sample)[0]);\n",
    "    ax[0].set_title(f\"{repr(model1)[:50]} probability distribution\");\n",
    "\n",
    "    ax[1].bar(target.cat.categories, model2.predict_proba(sample)[0]);\n",
    "    ax[1].set_title(f\"{repr(model2)[:50]} probability distribution\");"
   ]
  },
  {
   "cell_type": "code",
   "execution_count": 181,
   "metadata": {},
   "outputs": [
    {
     "data": {
      "image/png": "[encoded data removed]",
      "text/plain": [
       "<Figure size 1152x576 with 2 Axes>"
      ]
     },
     "metadata": {
      "needs_background": "light"
     },
     "output_type": "display_data"
    }
   ],
   "source": [
    "compare_distributions(m, reg_model, X.iloc[0,:].values.reshape(1, -1))"
   ]
  },
  {
   "cell_type": "code",
   "execution_count": 182,
   "metadata": {},
   "outputs": [
    {
     "data": {
      "image/png": "[encoded data removed]",
      "text/plain": [
       "<Figure size 1152x576 with 2 Axes>"
      ]
     },
     "metadata": {
      "needs_background": "light"
     },
     "output_type": "display_data"
    }
   ],
   "source": [
    "compare_distributions(m, reg_model, X.iloc[1,:].values.reshape(1, -1))"
   ]
  },
  {
   "cell_type": "code",
   "execution_count": 220,
   "metadata": {},
   "outputs": [
    {
     "data": {
      "image/png": "[encoded data removed]",
      "text/plain": [
       "<Figure size 1152x576 with 2 Axes>"
      ]
     },
     "metadata": {
      "needs_background": "light"
     },
     "output_type": "display_data"
    }
   ],
   "source": [
    "compare_distributions(m, reg_model, X.iloc[99,:].values.reshape(1, -1))"
   ]
  }
 ],
 "metadata": {
  "kernelspec": {
   "display_name": "Python 3",
   "language": "python",
   "name": "python3"
  },
  "language_info": {
   "codemirror_mode": {
    "name": "ipython",
    "version": 3
   },
   "file_extension": ".py",
   "mimetype": "text/x-python",
   "name": "python",
   "nbconvert_exporter": "python",
   "pygments_lexer": "ipython3",
   "version": "3.6.8"
  }
 },
 "nbformat": 4,
 "nbformat_minor": 4
}
