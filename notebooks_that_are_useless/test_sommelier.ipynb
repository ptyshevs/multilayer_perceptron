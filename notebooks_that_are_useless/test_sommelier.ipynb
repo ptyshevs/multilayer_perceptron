{
 "cells": [
  {
   "cell_type": "code",
   "execution_count": 1,
   "metadata": {},
   "outputs": [],
   "source": [
    "import numpy as np\n",
    "import pandas as pd"
   ]
  },
  {
   "cell_type": "code",
   "execution_count": 2,
   "metadata": {},
   "outputs": [],
   "source": [
    "df = pd.read_csv('tests_perfomance/datasets/wine.csv')"
   ]
  },
  {
   "cell_type": "code",
   "execution_count": 3,
   "metadata": {},
   "outputs": [],
   "source": [
    "X = df.iloc[:, :-1]\n",
    "y = df.iloc[:, -1][:, np.newaxis]"
   ]
  },
  {
   "cell_type": "code",
   "execution_count": 4,
   "metadata": {},
   "outputs": [
    {
     "data": {
      "text/plain": [
       "(1599, 11)"
      ]
     },
     "execution_count": 4,
     "metadata": {},
     "output_type": "execute_result"
    }
   ],
   "source": [
    "X.shape"
   ]
  },
  {
   "cell_type": "code",
   "execution_count": 5,
   "metadata": {},
   "outputs": [],
   "source": [
    "from nn import *\n",
    "from activations import *\n",
    "\n",
    "m = NeuralNetwork(n_iterations=6000)\n",
    "m.add(Layer(11, 1, activation=Tanh()))\n",
    "m.add(Layer(1, 1))"
   ]
  },
  {
   "cell_type": "code",
   "execution_count": 6,
   "metadata": {},
   "outputs": [],
   "source": [
    "from tools import normalize\n",
    "\n",
    "X_train = normalize(X.values)"
   ]
  },
  {
   "cell_type": "code",
   "execution_count": 7,
   "metadata": {},
   "outputs": [
    {
     "name": "stdout",
     "output_type": "stream",
     "text": [
      "0: MSE=51834.10094912533\n",
      "100: MSE=689.3078027638826\n",
      "200: MSE=674.5443524905642\n",
      "300: MSE=668.7099722556675\n",
      "400: MSE=665.5252183901105\n",
      "500: MSE=663.5796945064653\n",
      "600: MSE=662.3088148048474\n",
      "700: MSE=661.442338202386\n",
      "800: MSE=660.8362345000754\n",
      "900: MSE=660.4063433722666\n",
      "1000: MSE=660.099477282338\n",
      "1100: MSE=659.8799903403667\n",
      "1200: MSE=659.7230595393044\n",
      "1300: MSE=659.611020034536\n",
      "1400: MSE=659.5311736179632\n",
      "1500: MSE=659.4743652581678\n",
      "1600: MSE=659.4340006215136\n",
      "1700: MSE=659.4053429592743\n",
      "1800: MSE=659.3850013606768\n",
      "1900: MSE=659.3705565311459\n",
      "2000: MSE=659.3602876168851\n",
      "2100: MSE=659.3529737058482\n",
      "2200: MSE=659.3477503739157\n",
      "2300: MSE=659.3440065598788\n",
      "2400: MSE=659.3413107821907\n",
      "2500: MSE=659.3393585623958\n",
      "2600: MSE=659.3379350862697\n",
      "2700: MSE=659.3368887597662\n",
      "2800: MSE=659.3361125228364\n",
      "2900: MSE=659.3355306689201\n",
      "3000: MSE=659.3350895610942\n",
      "3100: MSE=659.3347510999657\n",
      "3200: MSE=659.3344881312886\n",
      "3300: MSE=659.3342812188973\n",
      "3400: MSE=659.3341163775278\n",
      "3500: MSE=659.3339834798605\n",
      "3600: MSE=659.3338751368094\n",
      "3700: MSE=659.3337859098366\n",
      "3800: MSE=659.3337117561537\n",
      "3900: MSE=659.3336496372777\n",
      "4000: MSE=659.3335972421977\n",
      "4100: MSE=659.3335527910011\n",
      "4200: MSE=659.3335148950412\n",
      "4300: MSE=659.3334824568884\n",
      "4400: MSE=659.3334545983305\n",
      "4500: MSE=659.3334306081969\n",
      "4600: MSE=659.3334099042382\n",
      "4700: MSE=659.3333920050135\n",
      "4800: MSE=659.3333765089358\n",
      "4900: MSE=659.3333630784723\n",
      "5000: MSE=659.3333514280816\n",
      "5100: MSE=659.333341314882\n",
      "5200: MSE=659.3333325313386\n",
      "5300: MSE=659.333324899456\n",
      "5400: MSE=659.3333182661091\n",
      "5500: MSE=659.3333124992437\n",
      "5600: MSE=659.3333074847517\n",
      "5700: MSE=659.3333031238781\n",
      "5800: MSE=659.3332993310476\n",
      "5900: MSE=659.3332960320338\n"
     ]
    }
   ],
   "source": [
    "m.fit(X_train, y)"
   ]
  },
  {
   "cell_type": "code",
   "execution_count": 8,
   "metadata": {},
   "outputs": [],
   "source": [
    "pred = m.predict(X_train)"
   ]
  },
  {
   "cell_type": "code",
   "execution_count": 9,
   "metadata": {},
   "outputs": [],
   "source": [
    "from metrics import rmse"
   ]
  },
  {
   "cell_type": "code",
   "execution_count": 10,
   "metadata": {},
   "outputs": [
    {
     "data": {
      "text/plain": [
       "0.64213785230654"
      ]
     },
     "execution_count": 10,
     "metadata": {},
     "output_type": "execute_result"
    }
   ],
   "source": [
    "rmse(y, pred)"
   ]
  }
 ],
 "metadata": {
  "kernelspec": {
   "display_name": "Python 3",
   "language": "python",
   "name": "python3"
  },
  "language_info": {
   "codemirror_mode": {
    "name": "ipython",
    "version": 3
   },
   "file_extension": ".py",
   "mimetype": "text/x-python",
   "name": "python",
   "nbconvert_exporter": "python",
   "pygments_lexer": "ipython3",
   "version": "3.6.8"
  }
 },
 "nbformat": 4,
 "nbformat_minor": 4
}
