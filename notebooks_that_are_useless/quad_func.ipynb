{
 "cells": [
  {
   "cell_type": "code",
   "execution_count": 1,
   "metadata": {},
   "outputs": [],
   "source": [
    "import numpy as np\n",
    "import matplotlib.pyplot as plt\n",
    "from nn import NeuralNetwork, Layer, Relu, MSE"
   ]
  },
  {
   "cell_type": "code",
   "execution_count": 2,
   "metadata": {},
   "outputs": [],
   "source": [
    "np.random.seed(42)"
   ]
  },
  {
   "cell_type": "code",
   "execution_count": 3,
   "metadata": {},
   "outputs": [],
   "source": [
    "x = np.arange(-100, 100, 5)\n",
    "\n",
    "f = lambda x: x ** 2 + 3\n",
    "y = f(x) + np.random.randn(x.shape[0]) * 500\n",
    "\n",
    "x_normed = (x - x.mean())/x.std()\n",
    "\n",
    "x_normed = x_normed[:, np.newaxis]\n",
    "y = y[:, np.newaxis]"
   ]
  },
  {
   "cell_type": "code",
   "execution_count": 4,
   "metadata": {},
   "outputs": [],
   "source": [
    "rd_idx = np.random.permutation(np.arange(len(x_normed)))\n",
    "x_rd = x_normed[rd_idx]\n",
    "y_rd = y[rd_idx]"
   ]
  },
  {
   "cell_type": "code",
   "execution_count": 5,
   "metadata": {},
   "outputs": [
    {
     "data": {
      "image/png": "[encoded data removed]",
      "text/plain": [
       "<Figure size 432x288 with 1 Axes>"
      ]
     },
     "metadata": {
      "needs_background": "light"
     },
     "output_type": "display_data"
    }
   ],
   "source": [
    "plt.scatter(x, y);"
   ]
  },
  {
   "cell_type": "code",
   "execution_count": 20,
   "metadata": {},
   "outputs": [],
   "source": [
    "model = NeuralNetwork(n_iterations=10, learning_rate=0.001, verbose=True)\n",
    "model.add(Layer(1, 20, activation=Relu()))\n",
    "model.add(Layer(20, 1, activation=None))\n",
    "# model.add(Layer(20, 2, activation=Sigmoid()))\n",
    "# model.add(Layer(2, 1, activation=None))"
   ]
  },
  {
   "cell_type": "code",
   "execution_count": 21,
   "metadata": {},
   "outputs": [
    {
     "name": "stdout",
     "output_type": "stream",
     "text": [
      "0: MSE=807445779.6334758\n"
     ]
    }
   ],
   "source": [
    "model.fit(x_rd, y_rd)"
   ]
  },
  {
   "cell_type": "code",
   "execution_count": 22,
   "metadata": {},
   "outputs": [
    {
     "data": {
      "text/plain": [
       "<matplotlib.collections.PathCollection at 0x7f284d4ab160>"
      ]
     },
     "execution_count": 22,
     "metadata": {},
     "output_type": "execute_result"
    },
    {
     "data": {
      "image/png": "[encoded data removed]",
      "text/plain": [
       "<Figure size 432x288 with 1 Axes>"
      ]
     },
     "metadata": {
      "needs_background": "light"
     },
     "output_type": "display_data"
    }
   ],
   "source": [
    "plt.plot(x, y, c='blue')\n",
    "plt.scatter(x, model.predict(x_normed), c='red')"
   ]
  },
  {
   "cell_type": "code",
   "execution_count": 9,
   "metadata": {},
   "outputs": [
    {
     "data": {
      "text/plain": [
       "array([[2.52201886e+06],\n",
       "       [2.23966345e+06],\n",
       "       [2.14554499e+06],\n",
       "       [2.33378192e+06],\n",
       "       [1.67495265e+06],\n",
       "       [1.11024185e+06],\n",
       "       [2.42790039e+06],\n",
       "       [1.81407535e+02],\n",
       "       [1.81407535e+02],\n",
       "       [1.58083418e+06],\n",
       "       [1.81407535e+02],\n",
       "       [1.69057172e+05],\n",
       "       [1.81407535e+02],\n",
       "       [2.05142652e+06],\n",
       "       [9.22004911e+05],\n",
       "       [2.61613732e+06],\n",
       "       [8.27886444e+05],\n",
       "       [6.39649509e+05],\n",
       "       [1.86318958e+06],\n",
       "       [4.51412574e+05],\n",
       "       [1.81407535e+02],\n",
       "       [1.81407535e+02],\n",
       "       [1.81407535e+02],\n",
       "       [1.48671572e+06],\n",
       "       [1.20436031e+06],\n",
       "       [7.33767977e+05],\n",
       "       [1.81407535e+02],\n",
       "       [3.57294107e+05],\n",
       "       [7.49387049e+04],\n",
       "       [5.45531042e+05],\n",
       "       [1.81407535e+02],\n",
       "       [1.95730805e+06],\n",
       "       [1.29847878e+06],\n",
       "       [1.81407535e+02],\n",
       "       [1.39259725e+06],\n",
       "       [1.81407535e+02],\n",
       "       [1.76907112e+06],\n",
       "       [1.81407535e+02],\n",
       "       [2.63175640e+05],\n",
       "       [1.01612338e+06]])"
      ]
     },
     "execution_count": 9,
     "metadata": {},
     "output_type": "execute_result"
    }
   ],
   "source": [
    "model.predict(x_rd)"
   ]
  },
  {
   "cell_type": "code",
   "execution_count": 11,
   "metadata": {},
   "outputs": [
    {
     "data": {
      "text/plain": [
       "array([[ -465.32223432],\n",
       "       [-1249.38800239]])"
      ]
     },
     "execution_count": 11,
     "metadata": {},
     "output_type": "execute_result"
    }
   ],
   "source": [
    "model.layers[0].W"
   ]
  },
  {
   "cell_type": "code",
   "execution_count": 93,
   "metadata": {},
   "outputs": [],
   "source": [
    "import keras\n",
    "from keras.models import Sequential\n",
    "from keras.layers import Dense\n",
    "from keras import regularizers, constraints\n",
    "from keras.optimizers import Adam, SGD"
   ]
  },
  {
   "cell_type": "code",
   "execution_count": 94,
   "metadata": {},
   "outputs": [],
   "source": [
    "km = Sequential()\n",
    "# km.add(Dense(10, activation='relu', kernel_constraint=constraints.max_norm(5), kernel_regularizer=regularizers.l2(.5),\n",
    "#              bias_constraint=constraints.max_norm(), bias_regularizer=regularizers.l2(.5)))\n",
    "# km.add(Dense(10, activation='relu', kernel_constraint=constraints.max_norm(5), kernel_regularizer=regularizers.l2(.5),\n",
    "#              bias_constraint=constraints.max_norm(), bias_regularizer=regularizers.l2(.5)))\n",
    "km.add(Dense(10, activation='relu'))\n",
    "km.add(Dense(1, activation=None))\n",
    "km.compile(SGD(lr=.1), loss='mse')"
   ]
  },
  {
   "cell_type": "code",
   "execution_count": 95,
   "metadata": {},
   "outputs": [
    {
     "data": {
      "text/plain": [
       "<keras.callbacks.History at 0x7f27dfb05f60>"
      ]
     },
     "execution_count": 95,
     "metadata": {},
     "output_type": "execute_result"
    }
   ],
   "source": [
    "km.fit(x_normed, y, epochs=1000, verbose=0, shuffle=True)"
   ]
  },
  {
   "cell_type": "code",
   "execution_count": 96,
   "metadata": {},
   "outputs": [
    {
     "data": {
      "image/png": "[encoded data removed]",
      "text/plain": [
       "<Figure size 432x288 with 1 Axes>"
      ]
     },
     "metadata": {
      "needs_background": "light"
     },
     "output_type": "display_data"
    }
   ],
   "source": [
    "plt.plot(x, y, c='blue')\n",
    "plt.plot(x, km.predict(x_normed), c='red');"
   ]
  }
 ],
 "metadata": {
  "kernelspec": {
   "display_name": "Python 3",
   "language": "python",
   "name": "python3"
  },
  "language_info": {
   "codemirror_mode": {
    "name": "ipython",
    "version": 3
   },
   "file_extension": ".py",
   "mimetype": "text/x-python",
   "name": "python",
   "nbconvert_exporter": "python",
   "pygments_lexer": "ipython3",
   "version": "3.6.8"
  }
 },
 "nbformat": 4,
 "nbformat_minor": 2
}
