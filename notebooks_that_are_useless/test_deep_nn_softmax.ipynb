{
 "cells": [
  {
   "cell_type": "code",
   "execution_count": 1,
   "metadata": {},
   "outputs": [],
   "source": [
    "from nn import *\n",
    "from activations import *"
   ]
  },
  {
   "cell_type": "code",
   "execution_count": 2,
   "metadata": {},
   "outputs": [],
   "source": [
    "import numpy as np"
   ]
  },
  {
   "cell_type": "code",
   "execution_count": 3,
   "metadata": {},
   "outputs": [],
   "source": [
    "from sklearn.datasets import load_iris"
   ]
  },
  {
   "cell_type": "code",
   "execution_count": 4,
   "metadata": {},
   "outputs": [],
   "source": [
    "X, y =load_iris(return_X_y=True)"
   ]
  },
  {
   "cell_type": "code",
   "execution_count": 5,
   "metadata": {},
   "outputs": [],
   "source": [
    "def one_hot_encoder(y):\n",
    "    \"\"\" Take vector of labels, return one-hot-encoded version along with label map \"\"\"\n",
    "    y_unique = np.unique(y)\n",
    "    M = np.zeros((len(y), len(y_unique)))\n",
    "    for i, v in enumerate(y_unique):\n",
    "        M[y == v,i] = 1\n",
    "    label_map = {i:label for i, label in enumerate(y_unique)}\n",
    "    return M, label_map"
   ]
  },
  {
   "cell_type": "code",
   "execution_count": 6,
   "metadata": {},
   "outputs": [],
   "source": [
    "ohe, label_map = one_hot_encoder(np.array([\"M\", \"B\", \"Other\", \"Other\"]))"
   ]
  },
  {
   "cell_type": "code",
   "execution_count": 7,
   "metadata": {},
   "outputs": [],
   "source": [
    "def one_hot_decoder(ohe, label_map):\n",
    "    # find where ones are, then take column indices and map back to labels\n",
    "    return np.array([label_map[_] for _ in np.where(ohe == 1)[1]])"
   ]
  },
  {
   "cell_type": "code",
   "execution_count": 8,
   "metadata": {},
   "outputs": [],
   "source": [
    "y_ohe, label_map = one_hot_encoder(y)"
   ]
  },
  {
   "cell_type": "code",
   "execution_count": 15,
   "metadata": {},
   "outputs": [],
   "source": [
    "np.random.seed(0)\n",
    "mod = NeuralNetwork(loss=CrossEntropy(), n_iterations=5000, verbose=True, learning_rate=0.1)\n",
    "mod.add(Layer(4, 10, activation=Relu()))\n",
    "mod.add(Layer(10, 10, activation=Relu()))\n",
    "mod.add(Layer(10, 3, activation=Softmax()))"
   ]
  },
  {
   "cell_type": "code",
   "execution_count": 16,
   "metadata": {},
   "outputs": [
    {
     "name": "stdout",
     "output_type": "stream",
     "text": [
      "0: Multinomial cross-entropy=0.3662082402299533\n",
      "100: Multinomial cross-entropy=0.3662054417220984\n",
      "200: Multinomial cross-entropy=0.3662027531179777\n",
      "300: Multinomial cross-entropy=0.36619989841462286\n",
      "400: Multinomial cross-entropy=0.36619663142396924\n",
      "500: Multinomial cross-entropy=0.366192629502254\n",
      "600: Multinomial cross-entropy=0.36618745060291036\n",
      "700: Multinomial cross-entropy=0.3661804132270941\n",
      "800: Multinomial cross-entropy=0.3661704329177384\n",
      "900: Multinomial cross-entropy=0.3661555408864173\n",
      "1000: Multinomial cross-entropy=0.36613158989250033\n",
      "1100: Multinomial cross-entropy=0.366092953697434\n",
      "1200: Multinomial cross-entropy=0.36602572234934794\n",
      "1300: Multinomial cross-entropy=0.3658982007198253\n",
      "1400: Multinomial cross-entropy=0.3656274768526657\n",
      "1500: Multinomial cross-entropy=0.36494970164916063\n",
      "1600: Multinomial cross-entropy=0.36270944810061995\n",
      "1700: Multinomial cross-entropy=0.35069496597036454\n",
      "1800: Multinomial cross-entropy=0.28021481728678316\n",
      "1900: Multinomial cross-entropy=0.1915804771560362\n",
      "2000: Multinomial cross-entropy=0.13876332627882437\n",
      "2100: Multinomial cross-entropy=0.09985966951143632\n",
      "2200: Multinomial cross-entropy=0.07209980279978989\n",
      "2300: Multinomial cross-entropy=0.05667325731440392\n",
      "2400: Multinomial cross-entropy=0.04783367230826452\n",
      "2500: Multinomial cross-entropy=0.04224471871455699\n",
      "2600: Multinomial cross-entropy=0.03840502612369157\n",
      "2700: Multinomial cross-entropy=0.03559996135624904\n",
      "2800: Multinomial cross-entropy=0.03345501992444296\n",
      "2900: Multinomial cross-entropy=0.031756885878782726\n",
      "3000: Multinomial cross-entropy=0.03037551078962591\n",
      "3100: Multinomial cross-entropy=0.02922814684237813\n",
      "3200: Multinomial cross-entropy=0.02825887386939495\n",
      "3300: Multinomial cross-entropy=0.02742852330313101\n",
      "3400: Multinomial cross-entropy=0.02670868755643389\n",
      "3500: Multinomial cross-entropy=0.02607828860934236\n",
      "3600: Multinomial cross-entropy=0.025520742980733598\n",
      "3700: Multinomial cross-entropy=0.02502401739673697\n",
      "3800: Multinomial cross-entropy=0.024578837631449104\n",
      "3900: Multinomial cross-entropy=0.024177527893575905\n",
      "4000: Multinomial cross-entropy=0.02381387868858024\n",
      "4100: Multinomial cross-entropy=0.023482814489652077\n",
      "4200: Multinomial cross-entropy=0.02318015091901503\n",
      "4300: Multinomial cross-entropy=0.02290237089023523\n",
      "4400: Multinomial cross-entropy=0.02264657240661789\n",
      "4500: Multinomial cross-entropy=0.02241032096118571\n",
      "4600: Multinomial cross-entropy=0.022191529607762706\n",
      "4700: Multinomial cross-entropy=0.02198841051811678\n",
      "4800: Multinomial cross-entropy=0.021799423480908648\n",
      "4900: Multinomial cross-entropy=0.021623234366385982\n"
     ]
    }
   ],
   "source": [
    "mod.fit(X, y_ohe)"
   ]
  },
  {
   "cell_type": "code",
   "execution_count": 17,
   "metadata": {},
   "outputs": [],
   "source": [
    "predictions = mod.predict(X)"
   ]
  },
  {
   "cell_type": "code",
   "execution_count": 18,
   "metadata": {},
   "outputs": [],
   "source": [
    "pred_labels = [label_map[_] for _ in np.argmax(predictions, axis=1)]"
   ]
  },
  {
   "cell_type": "code",
   "execution_count": 19,
   "metadata": {},
   "outputs": [],
   "source": [
    "def accuracy(y_true, y_pred):\n",
    "    ev = pred_labels == y\n",
    "    return ev.sum() / ev.size"
   ]
  },
  {
   "cell_type": "code",
   "execution_count": 20,
   "metadata": {},
   "outputs": [
    {
     "data": {
      "text/plain": [
       "0.98"
      ]
     },
     "execution_count": 20,
     "metadata": {},
     "output_type": "execute_result"
    }
   ],
   "source": [
    "accuracy(y, pred_labels)"
   ]
  }
 ],
 "metadata": {
  "kernelspec": {
   "display_name": "Python 3",
   "language": "python",
   "name": "python3"
  },
  "language_info": {
   "codemirror_mode": {
    "name": "ipython",
    "version": 3
   },
   "file_extension": ".py",
   "mimetype": "text/x-python",
   "name": "python",
   "nbconvert_exporter": "python",
   "pygments_lexer": "ipython3",
   "version": "3.6.8"
  }
 },
 "nbformat": 4,
 "nbformat_minor": 4
}
