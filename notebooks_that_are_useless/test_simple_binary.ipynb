{
 "cells": [
  {
   "cell_type": "code",
   "execution_count": 8,
   "metadata": {},
   "outputs": [],
   "source": [
    "import numpy as np\n",
    "import matplotlib.pyplot as plt\n",
    "from nn import NeuralNetwork, Layer, Sigmoid, Binary"
   ]
  },
  {
   "cell_type": "code",
   "execution_count": 2,
   "metadata": {},
   "outputs": [],
   "source": [
    "x = np.arange(20)\n",
    "y = np.array([0 if _ < 10 else 1 for _ in x])\n",
    "x_normed = (x - x.mean()) / x.std()\n",
    "y = y[:, np.newaxis]\n",
    "x_normed = x_normed[:, np.newaxis]"
   ]
  },
  {
   "cell_type": "code",
   "execution_count": 3,
   "metadata": {},
   "outputs": [
    {
     "name": "stdout",
     "output_type": "stream",
     "text": [
      "0: Binary cross-entropy=0.693167781082424\n",
      "100: Binary cross-entropy=0.6930958996725503\n",
      "200: Binary cross-entropy=0.6929639611154988\n",
      "300: Binary cross-entropy=0.6926024238643026\n",
      "400: Binary cross-entropy=0.6915560218177788\n",
      "500: Binary cross-entropy=0.6885253096824504\n",
      "600: Binary cross-entropy=0.6799350252156543\n",
      "700: Binary cross-entropy=0.6570979562156489\n",
      "800: Binary cross-entropy=0.6051148247185743\n",
      "900: Binary cross-entropy=0.5165683347857926\n",
      "1000: Binary cross-entropy=0.4129984430037811\n",
      "1100: Binary cross-entropy=0.32476885071348843\n",
      "1200: Binary cross-entropy=0.2610216896372406\n",
      "1300: Binary cross-entropy=0.21682542353536305\n",
      "1400: Binary cross-entropy=0.1856816619247646\n",
      "1500: Binary cross-entropy=0.1629841799580105\n",
      "1600: Binary cross-entropy=0.14585162334165244\n",
      "1700: Binary cross-entropy=0.13250507889989716\n",
      "1800: Binary cross-entropy=0.12182271758283345\n",
      "1900: Binary cross-entropy=0.11307483529429592\n",
      "2000: Binary cross-entropy=0.10577131300694975\n",
      "2100: Binary cross-entropy=0.09957286456825981\n",
      "2200: Binary cross-entropy=0.09423809891490731\n",
      "2300: Binary cross-entropy=0.08959101915574742\n",
      "2400: Binary cross-entropy=0.08550048285318282\n",
      "2500: Binary cross-entropy=0.08186686027684432\n",
      "2600: Binary cross-entropy=0.07861314516516489\n",
      "2700: Binary cross-entropy=0.07567889268057526\n",
      "2800: Binary cross-entropy=0.07301599678983844\n",
      "2900: Binary cross-entropy=0.07058569160222722\n"
     ]
    }
   ],
   "source": [
    "nn = NeuralNetwork(n_iterations=3000, loss=Binary(), learning_rate=0.05)\n",
    "nn.add(Layer(1, 10, activation=Sigmoid()))\n",
    "nn.add(Layer(10, 1, activation=Sigmoid()))\n",
    "nn.fit(x_normed, y)"
   ]
  },
  {
   "cell_type": "code",
   "execution_count": 9,
   "metadata": {},
   "outputs": [
    {
     "data": {
      "text/plain": [
       "1.0"
      ]
     },
     "execution_count": 9,
     "metadata": {},
     "output_type": "execute_result"
    }
   ],
   "source": [
    "from sklearn.metrics import accuracy_score\n",
    "accuracy_score(y, nn.predict(x_normed) > .5)"
   ]
  }
 ],
 "metadata": {
  "kernelspec": {
   "display_name": "Python 3",
   "language": "python",
   "name": "python3"
  },
  "language_info": {
   "codemirror_mode": {
    "name": "ipython",
    "version": 3
   },
   "file_extension": ".py",
   "mimetype": "text/x-python",
   "name": "python",
   "nbconvert_exporter": "python",
   "pygments_lexer": "ipython3",
   "version": "3.6.8"
  }
 },
 "nbformat": 4,
 "nbformat_minor": 2
}
