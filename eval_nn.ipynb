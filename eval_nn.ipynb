{
 "cells": [
  {
   "cell_type": "code",
   "execution_count": 1,
   "metadata": {},
   "outputs": [],
   "source": [
    "from nn import NeuralNetwork, Layer, Sigmoid, Binary"
   ]
  },
  {
   "cell_type": "code",
   "execution_count": 2,
   "metadata": {},
   "outputs": [],
   "source": [
    "import numpy as np\n",
    "import matplotlib.pyplot as plt\n",
    "import pandas as pd"
   ]
  },
  {
   "cell_type": "code",
   "execution_count": 3,
   "metadata": {},
   "outputs": [],
   "source": [
    "df = pd.read_csv('data.csv', index_col=0)"
   ]
  },
  {
   "cell_type": "code",
   "execution_count": 4,
   "metadata": {},
   "outputs": [],
   "source": [
    "X = df.iloc[:, 1:]\n",
    "y = df.iloc[:, 0]"
   ]
  },
  {
   "cell_type": "code",
   "execution_count": 16,
   "metadata": {},
   "outputs": [],
   "source": [
    "from sklearn.model_selection import train_test_split\n",
    "X_train, X_test, y_train, y_test = train_test_split(X.values, y[:, np.newaxis], test_size=.33, random_state=42)"
   ]
  },
  {
   "cell_type": "code",
   "execution_count": 17,
   "metadata": {},
   "outputs": [],
   "source": [
    "y_train_enc = np.where(y_train == 'B', 1, 0).astype(np.float64)\n",
    "y_test_enc = np.where(y_test == 'B', 1, 0).astype(np.float64)"
   ]
  },
  {
   "cell_type": "code",
   "execution_count": 23,
   "metadata": {},
   "outputs": [],
   "source": [
    "model = NeuralNetwork(loss=Binary(), n_iterations=30)\n",
    "model.add(Layer(30, 1, activation=Sigmoid()))"
   ]
  },
  {
   "cell_type": "code",
   "execution_count": 19,
   "metadata": {},
   "outputs": [],
   "source": [
    "X_normed = (X_train - X_train.mean(axis=0)) / X_train.std(axis=0)"
   ]
  },
  {
   "cell_type": "code",
   "execution_count": 21,
   "metadata": {},
   "outputs": [],
   "source": [
    "X_test_normed = (X_test - X_train.mean(axis=0)) / X_train.std(axis=0)"
   ]
  },
  {
   "cell_type": "code",
   "execution_count": 24,
   "metadata": {},
   "outputs": [
    {
     "name": "stdout",
     "output_type": "stream",
     "text": [
      "0: Binary cross-entropy=0.6951858064837787\n",
      "1: Binary cross-entropy=0.6747675317956068\n",
      "2: Binary cross-entropy=0.6556519732871517\n",
      "3: Binary cross-entropy=0.6377478431593501\n",
      "4: Binary cross-entropy=0.6209664663629236\n",
      "5: Binary cross-entropy=0.6052229912670626\n",
      "6: Binary cross-entropy=0.5904372255690477\n",
      "7: Binary cross-entropy=0.5765341390390682\n",
      "8: Binary cross-entropy=0.563444091239708\n",
      "9: Binary cross-entropy=0.5511028466027125\n",
      "10: Binary cross-entropy=0.5394514352899094\n",
      "11: Binary cross-entropy=0.5284359099142976\n",
      "12: Binary cross-entropy=0.5180070383038936\n",
      "13: Binary cross-entropy=0.5081199628599398\n",
      "14: Binary cross-entropy=0.4987338486361047\n",
      "15: Binary cross-entropy=0.4898115353952746\n",
      "16: Binary cross-entropy=0.4813192035805009\n",
      "17: Binary cross-entropy=0.4732260601846548\n",
      "18: Binary cross-entropy=0.4655040476731134\n",
      "19: Binary cross-entropy=0.45812757715814106\n",
      "20: Binary cross-entropy=0.45107328572441957\n",
      "21: Binary cross-entropy=0.4443198169837239\n",
      "22: Binary cross-entropy=0.43784762345362055\n",
      "23: Binary cross-entropy=0.4316387891052985\n",
      "24: Binary cross-entropy=0.4256768703322555\n",
      "25: Binary cross-entropy=0.4199467535994083\n",
      "26: Binary cross-entropy=0.4144345281025754\n",
      "27: Binary cross-entropy=0.40912737187451687\n",
      "28: Binary cross-entropy=0.4040134498978839\n",
      "29: Binary cross-entropy=0.3990818229157286\n"
     ]
    }
   ],
   "source": [
    "model.fit(X_normed, y_train_enc)"
   ]
  },
  {
   "cell_type": "code",
   "execution_count": 32,
   "metadata": {},
   "outputs": [
    {
     "data": {
      "text/plain": [
       "0.9521276595744681"
      ]
     },
     "execution_count": 32,
     "metadata": {},
     "output_type": "execute_result"
    }
   ],
   "source": [
    "accuracy_score(y_test_enc, model.predict(X_test_normed) > .5)"
   ]
  },
  {
   "cell_type": "code",
   "execution_count": 10,
   "metadata": {},
   "outputs": [],
   "source": [
    "import keras\n",
    "from keras.models import Sequential\n",
    "from keras.layers import Dense"
   ]
  },
  {
   "cell_type": "code",
   "execution_count": 15,
   "metadata": {},
   "outputs": [
    {
     "name": "stdout",
     "output_type": "stream",
     "text": [
      "Epoch 1/70\n",
      "380/380 [==============================] - 0s 505us/step - loss: 0.6812 - acc: 0.4763\n",
      "Epoch 2/70\n",
      "380/380 [==============================] - 0s 61us/step - loss: 0.6063 - acc: 0.8684\n",
      "Epoch 3/70\n",
      "380/380 [==============================] - 0s 61us/step - loss: 0.5802 - acc: 0.8053\n",
      "Epoch 4/70\n",
      "380/380 [==============================] - 0s 46us/step - loss: 0.5840 - acc: 0.8237\n",
      "Epoch 5/70\n",
      "380/380 [==============================] - 0s 70us/step - loss: 0.6057 - acc: 0.8132\n",
      "Epoch 6/70\n",
      "380/380 [==============================] - 0s 52us/step - loss: 0.6224 - acc: 0.7895\n",
      "Epoch 7/70\n",
      "380/380 [==============================] - 0s 72us/step - loss: 0.6108 - acc: 0.6868\n",
      "Epoch 8/70\n",
      "380/380 [==============================] - 0s 49us/step - loss: 0.6020 - acc: 0.6474\n",
      "Epoch 9/70\n",
      "380/380 [==============================] - 0s 59us/step - loss: 0.5945 - acc: 0.6500\n",
      "Epoch 10/70\n",
      "380/380 [==============================] - 0s 61us/step - loss: 0.5957 - acc: 0.6474\n",
      "Epoch 11/70\n",
      "380/380 [==============================] - 0s 64us/step - loss: 0.5968 - acc: 0.6500\n",
      "Epoch 12/70\n",
      "380/380 [==============================] - 0s 61us/step - loss: 0.6089 - acc: 0.6474\n",
      "Epoch 13/70\n",
      "380/380 [==============================] - 0s 56us/step - loss: 0.5937 - acc: 0.6500\n",
      "Epoch 14/70\n",
      "380/380 [==============================] - 0s 69us/step - loss: 0.5822 - acc: 0.6474\n",
      "Epoch 15/70\n",
      "380/380 [==============================] - 0s 58us/step - loss: 0.5780 - acc: 0.6500\n",
      "Epoch 16/70\n",
      "380/380 [==============================] - 0s 60us/step - loss: 0.5769 - acc: 0.6474\n",
      "Epoch 17/70\n",
      "380/380 [==============================] - 0s 55us/step - loss: 0.6299 - acc: 0.6474\n",
      "Epoch 18/70\n",
      "380/380 [==============================] - 0s 58us/step - loss: 0.5712 - acc: 0.6474\n",
      "Epoch 19/70\n",
      "380/380 [==============================] - 0s 53us/step - loss: 0.5696 - acc: 0.6500\n",
      "Epoch 20/70\n",
      "380/380 [==============================] - 0s 54us/step - loss: 0.5704 - acc: 0.6474\n",
      "Epoch 21/70\n",
      "380/380 [==============================] - 0s 50us/step - loss: 0.5806 - acc: 0.6474\n",
      "Epoch 22/70\n",
      "380/380 [==============================] - 0s 52us/step - loss: 0.5508 - acc: 0.6474\n",
      "Epoch 23/70\n",
      "380/380 [==============================] - 0s 57us/step - loss: 0.5522 - acc: 0.6500\n",
      "Epoch 24/70\n",
      "380/380 [==============================] - 0s 59us/step - loss: 0.5457 - acc: 0.6500\n",
      "Epoch 25/70\n",
      "380/380 [==============================] - 0s 61us/step - loss: 0.5465 - acc: 0.6500\n",
      "Epoch 26/70\n",
      "380/380 [==============================] - 0s 91us/step - loss: 0.5656 - acc: 0.6474\n",
      "Epoch 27/70\n",
      "380/380 [==============================] - 0s 61us/step - loss: 0.5925 - acc: 0.6816\n",
      "Epoch 28/70\n",
      "380/380 [==============================] - 0s 60us/step - loss: 0.5791 - acc: 0.6921\n",
      "Epoch 29/70\n",
      "380/380 [==============================] - 0s 48us/step - loss: 0.5802 - acc: 0.6500\n",
      "Epoch 30/70\n",
      "380/380 [==============================] - 0s 63us/step - loss: 0.5670 - acc: 0.6500\n",
      "Epoch 31/70\n",
      "380/380 [==============================] - 0s 50us/step - loss: 0.5874 - acc: 0.6526\n",
      "Epoch 32/70\n",
      "380/380 [==============================] - 0s 51us/step - loss: 0.5656 - acc: 0.6500\n",
      "Epoch 33/70\n",
      "380/380 [==============================] - 0s 59us/step - loss: 0.5934 - acc: 0.6500\n",
      "Epoch 34/70\n",
      "380/380 [==============================] - 0s 66us/step - loss: 0.5583 - acc: 0.6500\n",
      "Epoch 35/70\n",
      "380/380 [==============================] - 0s 70us/step - loss: 0.5873 - acc: 0.6526\n",
      "Epoch 36/70\n",
      "380/380 [==============================] - 0s 62us/step - loss: 0.5573 - acc: 0.6500\n",
      "Epoch 37/70\n",
      "380/380 [==============================] - 0s 43us/step - loss: 0.5111 - acc: 0.6500\n",
      "Epoch 38/70\n",
      "380/380 [==============================] - 0s 60us/step - loss: 0.5176 - acc: 0.7079\n",
      "Epoch 39/70\n",
      "380/380 [==============================] - 0s 95us/step - loss: 0.5131 - acc: 0.8316\n",
      "Epoch 40/70\n",
      "380/380 [==============================] - 0s 49us/step - loss: 0.5789 - acc: 0.8132\n",
      "Epoch 41/70\n",
      "380/380 [==============================] - 0s 52us/step - loss: 0.6242 - acc: 0.7421\n",
      "Epoch 42/70\n",
      "380/380 [==============================] - 0s 55us/step - loss: 0.6278 - acc: 0.7263\n",
      "Epoch 43/70\n",
      "380/380 [==============================] - 0s 54us/step - loss: 0.6238 - acc: 0.6737\n",
      "Epoch 44/70\n",
      "380/380 [==============================] - 0s 60us/step - loss: 0.6085 - acc: 0.6474\n",
      "Epoch 45/70\n",
      "380/380 [==============================] - 0s 58us/step - loss: 0.6240 - acc: 0.6500\n",
      "Epoch 46/70\n",
      "380/380 [==============================] - 0s 58us/step - loss: 0.5958 - acc: 0.6474\n",
      "Epoch 47/70\n",
      "380/380 [==============================] - 0s 59us/step - loss: 0.5941 - acc: 0.6474\n",
      "Epoch 48/70\n",
      "380/380 [==============================] - 0s 70us/step - loss: 0.6216 - acc: 0.6474\n",
      "Epoch 49/70\n",
      "380/380 [==============================] - 0s 56us/step - loss: 0.5965 - acc: 0.6474\n",
      "Epoch 50/70\n",
      "380/380 [==============================] - 0s 65us/step - loss: 0.6474 - acc: 0.6500\n",
      "Epoch 51/70\n",
      "380/380 [==============================] - 0s 66us/step - loss: 0.6532 - acc: 0.6474\n",
      "Epoch 52/70\n",
      "380/380 [==============================] - 0s 63us/step - loss: 0.6513 - acc: 0.6474\n",
      "Epoch 53/70\n",
      "380/380 [==============================] - 0s 62us/step - loss: 0.6499 - acc: 0.6474\n",
      "Epoch 54/70\n",
      "380/380 [==============================] - 0s 64us/step - loss: 0.6497 - acc: 0.6474\n",
      "Epoch 55/70\n",
      "380/380 [==============================] - 0s 50us/step - loss: 0.6494 - acc: 0.6474\n",
      "Epoch 56/70\n",
      "380/380 [==============================] - 0s 48us/step - loss: 0.6491 - acc: 0.6474\n",
      "Epoch 57/70\n",
      "380/380 [==============================] - 0s 46us/step - loss: 0.6490 - acc: 0.6474\n",
      "Epoch 58/70\n",
      "380/380 [==============================] - 0s 65us/step - loss: 0.6490 - acc: 0.6474\n",
      "Epoch 59/70\n",
      "380/380 [==============================] - 0s 49us/step - loss: 0.6490 - acc: 0.6474\n",
      "Epoch 60/70\n",
      "380/380 [==============================] - 0s 50us/step - loss: 0.6490 - acc: 0.6474\n",
      "Epoch 61/70\n",
      "380/380 [==============================] - 0s 72us/step - loss: 0.6492 - acc: 0.6474\n",
      "Epoch 62/70\n",
      "380/380 [==============================] - 0s 68us/step - loss: 0.6493 - acc: 0.6474\n",
      "Epoch 63/70\n",
      "380/380 [==============================] - 0s 67us/step - loss: 0.6492 - acc: 0.6474\n",
      "Epoch 64/70\n",
      "380/380 [==============================] - 0s 77us/step - loss: 0.6489 - acc: 0.6474\n",
      "Epoch 65/70\n",
      "380/380 [==============================] - 0s 58us/step - loss: 0.6495 - acc: 0.6474\n",
      "Epoch 66/70\n",
      "380/380 [==============================] - 0s 61us/step - loss: 0.6493 - acc: 0.6474\n",
      "Epoch 67/70\n",
      "380/380 [==============================] - 0s 67us/step - loss: 0.6491 - acc: 0.6474\n",
      "Epoch 68/70\n",
      "380/380 [==============================] - 0s 57us/step - loss: 0.6491 - acc: 0.6474\n",
      "Epoch 69/70\n",
      "380/380 [==============================] - 0s 69us/step - loss: 0.6494 - acc: 0.6474\n",
      "Epoch 70/70\n",
      "380/380 [==============================] - 0s 65us/step - loss: 0.6489 - acc: 0.6474\n"
     ]
    },
    {
     "data": {
      "text/plain": [
       "<keras.callbacks.History at 0x7f78904fc0b8>"
      ]
     },
     "execution_count": 15,
     "metadata": {},
     "output_type": "execute_result"
    }
   ],
   "source": [
    "kmodel = Sequential()\n",
    "kmodel.add(Dense(30, activation='sigmoid'))\n",
    "kmodel.add(Dense(1, activation='sigmoid'))\n",
    "kmodel.compile('sgd', loss='binary_crossentropy', metrics=['acc'])\n",
    "kmodel.fit(X_train.values, y_train_enc, epochs=70)"
   ]
  },
  {
   "cell_type": "code",
   "execution_count": 22,
   "metadata": {},
   "outputs": [
    {
     "name": "stdout",
     "output_type": "stream",
     "text": [
      "Epoch 1/40\n",
      "380/380 [==============================] - 1s 1ms/step - loss: 0.6636 - acc: 0.6053\n",
      "Epoch 2/40\n",
      "380/380 [==============================] - 0s 82us/step - loss: 0.4661 - acc: 0.8316\n",
      "Epoch 3/40\n",
      "380/380 [==============================] - 0s 67us/step - loss: 0.3468 - acc: 0.8974\n",
      "Epoch 4/40\n",
      "380/380 [==============================] - 0s 62us/step - loss: 0.3039 - acc: 0.9079\n",
      "Epoch 5/40\n",
      "380/380 [==============================] - 0s 87us/step - loss: 0.2832 - acc: 0.9000\n",
      "Epoch 6/40\n",
      "380/380 [==============================] - 0s 54us/step - loss: 0.2743 - acc: 0.9053\n",
      "Epoch 7/40\n",
      "380/380 [==============================] - 0s 90us/step - loss: 0.2646 - acc: 0.9079\n",
      "Epoch 8/40\n",
      "380/380 [==============================] - 0s 55us/step - loss: 0.2541 - acc: 0.9053\n",
      "Epoch 9/40\n",
      "380/380 [==============================] - 0s 58us/step - loss: 0.2525 - acc: 0.9105\n",
      "Epoch 10/40\n",
      "380/380 [==============================] - 0s 72us/step - loss: 0.2630 - acc: 0.9105\n",
      "Epoch 11/40\n",
      "380/380 [==============================] - 0s 59us/step - loss: 0.2677 - acc: 0.9026\n",
      "Epoch 12/40\n",
      "380/380 [==============================] - 0s 87us/step - loss: 0.2658 - acc: 0.9000\n",
      "Epoch 13/40\n",
      "380/380 [==============================] - 0s 80us/step - loss: 0.2743 - acc: 0.9000\n",
      "Epoch 14/40\n",
      "380/380 [==============================] - 0s 70us/step - loss: 0.2709 - acc: 0.8947\n",
      "Epoch 15/40\n",
      "380/380 [==============================] - 0s 71us/step - loss: 0.2648 - acc: 0.9026\n",
      "Epoch 16/40\n",
      "380/380 [==============================] - 0s 84us/step - loss: 0.2659 - acc: 0.8921\n",
      "Epoch 17/40\n",
      "380/380 [==============================] - 0s 85us/step - loss: 0.2592 - acc: 0.8816\n",
      "Epoch 18/40\n",
      "380/380 [==============================] - 0s 76us/step - loss: 0.2305 - acc: 0.9237\n",
      "Epoch 19/40\n",
      "380/380 [==============================] - 0s 84us/step - loss: 0.2483 - acc: 0.9132\n",
      "Epoch 20/40\n",
      "380/380 [==============================] - 0s 66us/step - loss: 0.2652 - acc: 0.9105\n",
      "Epoch 21/40\n",
      "380/380 [==============================] - 0s 74us/step - loss: 0.2537 - acc: 0.8921\n",
      "Epoch 22/40\n",
      "380/380 [==============================] - 0s 72us/step - loss: 0.2276 - acc: 0.9105\n",
      "Epoch 23/40\n",
      "380/380 [==============================] - 0s 78us/step - loss: 0.2410 - acc: 0.9053\n",
      "Epoch 24/40\n",
      "380/380 [==============================] - 0s 78us/step - loss: 0.2376 - acc: 0.9079\n",
      "Epoch 25/40\n",
      "380/380 [==============================] - 0s 83us/step - loss: 0.2403 - acc: 0.9026\n",
      "Epoch 26/40\n",
      "380/380 [==============================] - 0s 72us/step - loss: 0.2400 - acc: 0.9053\n",
      "Epoch 27/40\n",
      "380/380 [==============================] - 0s 110us/step - loss: 0.2450 - acc: 0.8974\n",
      "Epoch 28/40\n",
      "380/380 [==============================] - 0s 68us/step - loss: 0.2373 - acc: 0.9026\n",
      "Epoch 29/40\n",
      "380/380 [==============================] - 0s 88us/step - loss: 0.2483 - acc: 0.9158\n",
      "Epoch 30/40\n",
      "380/380 [==============================] - 0s 78us/step - loss: 0.2544 - acc: 0.9158\n",
      "Epoch 31/40\n",
      "380/380 [==============================] - 0s 82us/step - loss: 0.2434 - acc: 0.9132\n",
      "Epoch 32/40\n",
      "380/380 [==============================] - 0s 91us/step - loss: 0.2300 - acc: 0.9158\n",
      "Epoch 33/40\n",
      "380/380 [==============================] - 0s 97us/step - loss: 0.2456 - acc: 0.9105\n",
      "Epoch 34/40\n",
      "380/380 [==============================] - 0s 86us/step - loss: 0.2384 - acc: 0.9211\n",
      "Epoch 35/40\n",
      "380/380 [==============================] - 0s 90us/step - loss: 0.2239 - acc: 0.9132\n",
      "Epoch 36/40\n",
      "380/380 [==============================] - 0s 96us/step - loss: 0.2437 - acc: 0.9105\n",
      "Epoch 37/40\n",
      "380/380 [==============================] - 0s 87us/step - loss: 0.2299 - acc: 0.9000\n",
      "Epoch 38/40\n",
      "380/380 [==============================] - 0s 114us/step - loss: 0.2195 - acc: 0.8974\n",
      "Epoch 39/40\n",
      "380/380 [==============================] - 0s 64us/step - loss: 0.2160 - acc: 0.9079\n",
      "Epoch 40/40\n",
      "380/380 [==============================] - 0s 90us/step - loss: 0.2261 - acc: 0.9105\n"
     ]
    },
    {
     "data": {
      "text/plain": [
       "<keras.callbacks.History at 0x7f7870a66908>"
      ]
     },
     "execution_count": 22,
     "metadata": {},
     "output_type": "execute_result"
    }
   ],
   "source": [
    "kmodel = Sequential()\n",
    "kmodel.add(Dense(100, activation='tanh'))\n",
    "kmodel.add(Dense(100, activation='tanh'))\n",
    "kmodel.add(Dense(1, activation='sigmoid'))\n",
    "kmodel.compile('adam', loss='binary_crossentropy', metrics=['acc'])\n",
    "kmodel.fit(X_train.values, y_train_enc, epochs=40)"
   ]
  },
  {
   "cell_type": "code",
   "execution_count": 25,
   "metadata": {},
   "outputs": [],
   "source": [
    "y_test_pred = kmodel.predict_classes(X_test.values)"
   ]
  },
  {
   "cell_type": "code",
   "execution_count": 31,
   "metadata": {},
   "outputs": [],
   "source": [
    "from sklearn.metrics import accuracy_score"
   ]
  },
  {
   "cell_type": "code",
   "execution_count": 27,
   "metadata": {},
   "outputs": [
    {
     "data": {
      "text/plain": [
       "0.9042553191489362"
      ]
     },
     "execution_count": 27,
     "metadata": {},
     "output_type": "execute_result"
    }
   ],
   "source": [
    "accuracy_score(y_test_enc, y_test_pred)"
   ]
  },
  {
   "cell_type": "code",
   "execution_count": null,
   "metadata": {},
   "outputs": [],
   "source": []
  },
  {
   "cell_type": "code",
   "execution_count": null,
   "metadata": {},
   "outputs": [],
   "source": []
  }
 ],
 "metadata": {
  "kernelspec": {
   "display_name": "Python 3",
   "language": "python",
   "name": "python3"
  },
  "language_info": {
   "codemirror_mode": {
    "name": "ipython",
    "version": 3
   },
   "file_extension": ".py",
   "mimetype": "text/x-python",
   "name": "python",
   "nbconvert_exporter": "python",
   "pygments_lexer": "ipython3",
   "version": "3.6.8"
  }
 },
 "nbformat": 4,
 "nbformat_minor": 2
}
