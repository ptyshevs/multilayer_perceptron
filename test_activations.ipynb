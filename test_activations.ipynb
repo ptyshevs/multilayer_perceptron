{
 "cells": [
  {
   "cell_type": "code",
   "execution_count": 1,
   "metadata": {},
   "outputs": [],
   "source": [
    "from nn import *"
   ]
  },
  {
   "cell_type": "code",
   "execution_count": 2,
   "metadata": {},
   "outputs": [],
   "source": [
    "import numpy as np\n",
    "import pandas as pd"
   ]
  },
  {
   "cell_type": "code",
   "execution_count": 3,
   "metadata": {},
   "outputs": [],
   "source": [
    "train_df = pd.read_csv('train.csv', index_col=0)\n",
    "test_df = pd.read_csv('test.csv', index_col=0)"
   ]
  },
  {
   "cell_type": "code",
   "execution_count": 4,
   "metadata": {},
   "outputs": [],
   "source": [
    "X_train, y_train = train_df.iloc[:, 1:], train_df.iloc[:, 0]\n",
    "X_test, y_test = test_df.iloc[:, 1:], test_df.iloc[:, 0]"
   ]
  },
  {
   "cell_type": "code",
   "execution_count": 5,
   "metadata": {},
   "outputs": [],
   "source": [
    "from tools import normalize"
   ]
  },
  {
   "cell_type": "code",
   "execution_count": 6,
   "metadata": {},
   "outputs": [],
   "source": [
    "X_test = (X_test - X_train.mean()) / X_train.std()\n",
    "X_train = (X_train - X_train.mean()) / X_train.std()"
   ]
  },
  {
   "cell_type": "code",
   "execution_count": 7,
   "metadata": {},
   "outputs": [],
   "source": [
    "y_map = {\"B\": 0, \"M\":1}\n",
    "y_train = y_train.map(y_map).values[:, np.newaxis].astype(np.float64)\n",
    "y_test = y_test.map(y_map).values[:, np.newaxis].astype(np.float64)"
   ]
  },
  {
   "cell_type": "code",
   "execution_count": 8,
   "metadata": {},
   "outputs": [],
   "source": [
    "def build_model(activation):\n",
    "    nn = NeuralNetwork(loss='crossentropy', verbose=False)\n",
    "    nn.add(Dense(30, 64, activation=activation))\n",
    "    nn.add(Dense(64, 64, activation=activation))\n",
    "    nn.add(Dense(64, 1, activation='sigmoid'))\n",
    "    return nn"
   ]
  },
  {
   "cell_type": "code",
   "execution_count": 9,
   "metadata": {},
   "outputs": [],
   "source": [
    "from metrics import accuracy"
   ]
  },
  {
   "cell_type": "code",
   "execution_count": 10,
   "metadata": {},
   "outputs": [],
   "source": [
    "# n_episodes = 5\n",
    "# activationss = ['sigmoid', 'tanh', 'relu', 'leaky_relu', 'elu']\n",
    "# for activation in activations:\n",
    "#     scores = []\n",
    "#     np.random.seed(42)\n",
    "#     for ep in range(n_episodes):\n",
    "#         nn = build_model(activation)\n",
    "#         nn.fit(X_train.values, y_train)\n",
    "#         acc_train = accuracy(y_train, nn.predict(X_train) > .5)\n",
    "#         acc_test = accuracy(y_test, nn.predict(X_test) > .5)\n",
    "#         scores.append([acc_train, acc_test])\n",
    "#     scores = np.array(scores)\n",
    "#     mean_train_acc, mean_test_acc = scores.mean(axis=0)\n",
    "#     print(f\"activation={activation} | mean_train_acc={mean_train_acc} | mean_test_acc={mean_test_acc}\")"
   ]
  },
  {
   "cell_type": "code",
   "execution_count": 11,
   "metadata": {},
   "outputs": [],
   "source": [
    "from layers import *"
   ]
  },
  {
   "cell_type": "code",
   "execution_count": 12,
   "metadata": {},
   "outputs": [
    {
     "name": "stdout",
     "output_type": "stream",
     "text": [
      "[100/500]: loss=0.31365 acc=0.95540 \n",
      "[200/500]: loss=0.11234 acc=0.97887 \n",
      "[300/500]: loss=0.07668 acc=0.98122 \n",
      "[400/500]: loss=0.06262 acc=0.99061 \n",
      "[500/500]: loss=0.05518 acc=0.99061 \n"
     ]
    },
    {
     "data": {
      "text/plain": [
       "<nn.History at 0x7f9fe1d492e8>"
      ]
     },
     "execution_count": 12,
     "metadata": {},
     "output_type": "execute_result"
    }
   ],
   "source": [
    "nn = NeuralNetwork('binary_crossentropy', verbose=True, verbose_step=100, learning_rate=0.05, debug=False)\n",
    "nn.add(Dense(30, 30, activation='relu'))\n",
    "nn.add(Dense(30, 1, activation='sigmoid'))\n",
    "\n",
    "nn.fit(X_train.values, y_train, n_epochs=500, metrics=['acc'])\n"
   ]
  },
  {
   "cell_type": "code",
   "execution_count": 13,
   "metadata": {},
   "outputs": [
    {
     "data": {
      "text/plain": [
       "<nn.History at 0x7f9fe1d3de80>"
      ]
     },
     "execution_count": 13,
     "metadata": {},
     "output_type": "execute_result"
    }
   ],
   "source": [
    "nn.fit(X_train.iloc[0, :].values.reshape(1, -1), y_train[0, :])"
   ]
  },
  {
   "cell_type": "code",
   "execution_count": 14,
   "metadata": {},
   "outputs": [
    {
     "data": {
      "text/plain": [
       "array([0.])"
      ]
     },
     "execution_count": 14,
     "metadata": {},
     "output_type": "execute_result"
    }
   ],
   "source": [
    "y_train[0, :]"
   ]
  },
  {
   "cell_type": "code",
   "execution_count": 15,
   "metadata": {},
   "outputs": [],
   "source": [
    "# from keras.layers import Dense\n",
    "# from keras.models import Sequential\n",
    "\n",
    "# nk = Sequential()\n",
    "# nk.add(Dense(10, activation='relu'))\n",
    "# nk.add(Dense(1, activation='sigmoid'))\n",
    "# nk.compile('sgd', loss='binary_crossentropy')\n",
    "# nk.fit(X_train.values, y_train, epochs=10)"
   ]
  },
  {
   "cell_type": "code",
   "execution_count": 16,
   "metadata": {},
   "outputs": [
    {
     "data": {
      "text/plain": [
       "0.11653381625595151"
      ]
     },
     "execution_count": 16,
     "metadata": {},
     "output_type": "execute_result"
    }
   ],
   "source": [
    "-np.log(1 - 0.11)"
   ]
  }
 ],
 "metadata": {
  "kernelspec": {
   "display_name": "Python 3",
   "language": "python",
   "name": "python3"
  },
  "language_info": {
   "codemirror_mode": {
    "name": "ipython",
    "version": 3
   },
   "file_extension": ".py",
   "mimetype": "text/x-python",
   "name": "python",
   "nbconvert_exporter": "python",
   "pygments_lexer": "ipython3",
   "version": "3.6.8"
  }
 },
 "nbformat": 4,
 "nbformat_minor": 4
}
