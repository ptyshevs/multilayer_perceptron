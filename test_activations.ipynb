{
 "cells": [
  {
   "cell_type": "code",
   "execution_count": 1,
   "metadata": {},
   "outputs": [],
   "source": [
    "from nn import *"
   ]
  },
  {
   "cell_type": "code",
   "execution_count": 2,
   "metadata": {},
   "outputs": [],
   "source": [
    "import numpy as np\n",
    "import pandas as pd"
   ]
  },
  {
   "cell_type": "code",
   "execution_count": 3,
   "metadata": {},
   "outputs": [],
   "source": [
    "train_df = pd.read_csv('train.csv', index_col=0)\n",
    "test_df = pd.read_csv('test.csv', index_col=0)"
   ]
  },
  {
   "cell_type": "code",
   "execution_count": 4,
   "metadata": {},
   "outputs": [],
   "source": [
    "X_train, y_train = train_df.iloc[:, 1:], train_df.iloc[:, 0]\n",
    "X_test, y_test = test_df.iloc[:, 1:], test_df.iloc[:, 0]"
   ]
  },
  {
   "cell_type": "code",
   "execution_count": 5,
   "metadata": {},
   "outputs": [],
   "source": [
    "from tools import normalize"
   ]
  },
  {
   "cell_type": "code",
   "execution_count": 6,
   "metadata": {},
   "outputs": [],
   "source": [
    "X_test = (X_test - X_train.mean()) / X_train.std()\n",
    "X_train = (X_train - X_train.mean()) / X_train.std()"
   ]
  },
  {
   "cell_type": "code",
   "execution_count": 7,
   "metadata": {},
   "outputs": [],
   "source": [
    "y_map = {\"B\": 0, \"M\":1}\n",
    "y_train = y_train.map(y_map).values[:, np.newaxis].astype(np.float64)\n",
    "y_test = y_test.map(y_map).values[:, np.newaxis].astype(np.float64)"
   ]
  },
  {
   "cell_type": "code",
   "execution_count": 8,
   "metadata": {},
   "outputs": [],
   "source": [
    "def build_model(activation):\n",
    "    nn = NeuralNetwork(loss='binary_crossentropy', verbose=False, verbose_step=25)\n",
    "    nn.add(Dense(30, activation=activation))\n",
    "    nn.add(Dense(65, activation=activation))\n",
    "    nn.add(Dense(1, activation='sigmoid'))\n",
    "    return nn"
   ]
  },
  {
   "cell_type": "code",
   "execution_count": 9,
   "metadata": {},
   "outputs": [],
   "source": [
    "from metrics import accuracy"
   ]
  },
  {
   "cell_type": "code",
   "execution_count": 10,
   "metadata": {},
   "outputs": [],
   "source": [
    "# %load_ext Cython"
   ]
  },
  {
   "cell_type": "code",
   "execution_count": 11,
   "metadata": {
    "jupyter": {
     "source_hidden": true
    }
   },
   "outputs": [],
   "source": [
    "# %%cython --annotate\n",
    "# import numpy as np\n",
    "# cimport numpy as np\n",
    "# cimport cython\n",
    "\n",
    "# from libc.math cimport exp \n",
    "\n",
    "# @cython.cdivision(True)\n",
    "# @cython.boundscheck(False)\n",
    "# @cython.nonecheck(False)\n",
    "# @cython.wraparound(False)\n",
    "# cdef np.ndarray[np.double_t, ndim=2] sig(np.ndarray[np.double_t, ndim=2] x):\n",
    "#     return -x"
   ]
  },
  {
   "cell_type": "code",
   "execution_count": 12,
   "metadata": {},
   "outputs": [
    {
     "name": "stdout",
     "output_type": "stream",
     "text": [
      "[[0.64553991 0.57342657]\n",
      " [0.64553991 0.57342657]\n",
      " [0.64553991 0.57342657]\n",
      " [0.64553991 0.57342657]\n",
      " [0.64553991 0.57342657]]\n",
      "activation=sigmoid | mean_train_acc=0.64554 | mean_test_acc=0.57343\n",
      "[[0.99061033 0.95804196]\n",
      " [0.99061033 0.95804196]\n",
      " [0.99061033 0.95804196]\n",
      " [0.99061033 0.95804196]\n",
      " [0.99061033 0.95104895]]\n",
      "activation=tanh | mean_train_acc=0.99061 | mean_test_acc=0.95664\n",
      "[[0.9600939  0.93006993]\n",
      " [0.95774648 0.93006993]\n",
      " [0.95774648 0.93006993]\n",
      " [0.83098592 0.77622378]\n",
      " [0.64553991 0.57342657]]\n",
      "activation=relu | mean_train_acc=0.87042 | mean_test_acc=0.82797\n",
      "[[0.98122066 0.95104895]\n",
      " [0.98122066 0.93706294]\n",
      " [0.98122066 0.95104895]\n",
      " [0.9741784  0.95104895]\n",
      " [0.95305164 0.93706294]]\n",
      "activation=leaky_relu | mean_train_acc=0.97418 | mean_test_acc=0.94545\n",
      "[[0.99061033 0.95804196]\n",
      " [0.99061033 0.95804196]\n",
      " [0.99061033 0.95804196]\n",
      " [0.99061033 0.95104895]\n",
      " [0.99061033 0.95804196]]\n",
      "activation=elu | mean_train_acc=0.99061 | mean_test_acc=0.95664\n"
     ]
    }
   ],
   "source": [
    "n_episodes = 5\n",
    "activations = ['sigmoid', 'tanh', 'relu', 'leaky_relu', 'elu']\n",
    "for activation in activations:\n",
    "    scores = []\n",
    "    np.random.seed(42)\n",
    "    for ep in range(n_episodes):\n",
    "        nn = build_model(activation)\n",
    "        nn.fit(X_train.values, y_train, n_epochs=500, metrics=['acc'])\n",
    "        acc_train = accuracy()(y_train, nn.predict(X_train.values) > .5)\n",
    "        acc_test = accuracy()(y_test, nn.predict(X_test.values) > .5)\n",
    "        scores.append([acc_train, acc_test])\n",
    "    scores = np.array(scores)\n",
    "    print(scores)\n",
    "    mean_train_acc, mean_test_acc = scores.mean(axis=0)\n",
    "    print(f\"activation={activation} | mean_train_acc={mean_train_acc:.5f} | mean_test_acc={mean_test_acc:.5f}\")"
   ]
  },
  {
   "cell_type": "code",
   "execution_count": 13,
   "metadata": {},
   "outputs": [
    {
     "name": "stdout",
     "output_type": "stream",
     "text": [
      "[100/150]: loss=0.65402 val_loss=0.68410 acc=0.64554 val_acc=0.57343 \n",
      "[150/150]: loss=0.65134 val_loss=0.68726 acc=0.64554 val_acc=0.57343 \n"
     ]
    },
    {
     "data": {
      "text/plain": [
       "<nn.History at 0x7f4ae1402278>"
      ]
     },
     "execution_count": 13,
     "metadata": {},
     "output_type": "execute_result"
    }
   ],
   "source": [
    "nn = NeuralNetwork('binary_crossentropy', verbose=True, verbose_step=100, learning_rate=0.05, debug=False)\n",
    "nn.add(Dense(30, activation='tanh'))\n",
    "nn.add(Dense(65, activation='elu'))\n",
    "nn.add(Dense(64, activation='leaky_relu'))\n",
    "nn.add(Dense(1, activation='sigmoid'))\n",
    "\n",
    "nn.fit(X_train.values, y_train, X_test.values, y_test, n_epochs=150, metrics=['acc'])\n"
   ]
  },
  {
   "cell_type": "code",
   "execution_count": 14,
   "metadata": {},
   "outputs": [
    {
     "name": "stdout",
     "output_type": "stream",
     "text": [
      "|Dense(30, 30, tanh)              \t|\t930\n",
      "|Dense(30, 65, elu)              \t|\t2015\n",
      "|Dense(65, 64, leaky_relu)             \t|\t4224\n",
      "|Dense(64, 1, sigmoid)               \t|\t65\n",
      "=======================================================\n",
      "Total number of parameters:\t\t 7234\n",
      "Total number of trainable params:\t 7234\n"
     ]
    }
   ],
   "source": [
    "nn.summary()"
   ]
  },
  {
   "cell_type": "code",
   "execution_count": 15,
   "metadata": {},
   "outputs": [
    {
     "data": {
      "text/plain": [
       "0.6455399061032864"
      ]
     },
     "execution_count": 15,
     "metadata": {},
     "output_type": "execute_result"
    }
   ],
   "source": [
    "accuracy()(y_train, nn.predict(X_train.values))"
   ]
  },
  {
   "cell_type": "code",
   "execution_count": 16,
   "metadata": {},
   "outputs": [
    {
     "name": "stdout",
     "output_type": "stream",
     "text": [
      "[1/1]: loss=0.47432 \n"
     ]
    },
    {
     "data": {
      "text/plain": [
       "<nn.History at 0x7f4ae1402ef0>"
      ]
     },
     "execution_count": 16,
     "metadata": {},
     "output_type": "execute_result"
    }
   ],
   "source": [
    "nn.fit(X_train.iloc[0, :].values.reshape(1, -1), y_train[0, :])"
   ]
  },
  {
   "cell_type": "code",
   "execution_count": 17,
   "metadata": {},
   "outputs": [],
   "source": [
    "# from keras.layers import Dense\n",
    "# from keras.models import Sequential\n",
    "\n",
    "# nk = Sequential()\n",
    "# nk.add(Dense(10, activation='relu'))\n",
    "# nk.add(Dense(1, activation='sigmoid'))\n",
    "# nk.compile('sgd', loss='binary_crossentropy')\n",
    "# nk.fit(X_train.values, y_train, epochs=10)"
   ]
  }
 ],
 "metadata": {
  "kernelspec": {
   "display_name": "Python 3",
   "language": "python",
   "name": "python3"
  },
  "language_info": {
   "codemirror_mode": {
    "name": "ipython",
    "version": 3
   },
   "file_extension": ".py",
   "mimetype": "text/x-python",
   "name": "python",
   "nbconvert_exporter": "python",
   "pygments_lexer": "ipython3",
   "version": "3.6.8"
  }
 },
 "nbformat": 4,
 "nbformat_minor": 4
}
