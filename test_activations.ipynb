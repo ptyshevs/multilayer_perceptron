{
 "cells": [
  {
   "cell_type": "code",
   "execution_count": 1,
   "metadata": {},
   "outputs": [],
   "source": [
    "from nn import *"
   ]
  },
  {
   "cell_type": "code",
   "execution_count": 2,
   "metadata": {},
   "outputs": [],
   "source": [
    "import numpy as np\n",
    "import pandas as pd"
   ]
  },
  {
   "cell_type": "code",
   "execution_count": 3,
   "metadata": {},
   "outputs": [],
   "source": [
    "train_df = pd.read_csv('train.csv', index_col=0)\n",
    "test_df = pd.read_csv('test.csv', index_col=0)"
   ]
  },
  {
   "cell_type": "code",
   "execution_count": 4,
   "metadata": {},
   "outputs": [],
   "source": [
    "X_train, y_train = train_df.iloc[:, 1:], train_df.iloc[:, 0]\n",
    "X_test, y_test = test_df.iloc[:, 1:], test_df.iloc[:, 0]"
   ]
  },
  {
   "cell_type": "code",
   "execution_count": 5,
   "metadata": {},
   "outputs": [],
   "source": [
    "from tools import normalize"
   ]
  },
  {
   "cell_type": "code",
   "execution_count": 6,
   "metadata": {},
   "outputs": [],
   "source": [
    "X_test = (X_test - X_train.mean()) / X_train.std()\n",
    "X_train = (X_train - X_train.mean()) / X_train.std()"
   ]
  },
  {
   "cell_type": "code",
   "execution_count": 7,
   "metadata": {},
   "outputs": [],
   "source": [
    "y_map = {\"B\": 0, \"M\":1}\n",
    "y_train = y_train.map(y_map).values[:, np.newaxis].astype(np.float64)\n",
    "y_test = y_test.map(y_map).values[:, np.newaxis].astype(np.float64)"
   ]
  },
  {
   "cell_type": "code",
   "execution_count": 33,
   "metadata": {},
   "outputs": [],
   "source": [
    "def build_model(activation):\n",
    "    nn = NeuralNetwork(loss='crossentropy', verbose=False)\n",
    "    nn.add(Dense(30, 64, activation=activation))\n",
    "    nn.add(Dense(64, 64, activation=activation))\n",
    "    nn.add(Dense(64, 1, activation='sigmoid'))\n",
    "    return nn"
   ]
  },
  {
   "cell_type": "code",
   "execution_count": 34,
   "metadata": {},
   "outputs": [],
   "source": [
    "from metrics import accuracy"
   ]
  },
  {
   "cell_type": "code",
   "execution_count": 35,
   "metadata": {},
   "outputs": [
    {
     "name": "stdout",
     "output_type": "stream",
     "text": [
      "activation=identity | mean_train_acc=[0.64553991] | mean_test_acc=[0.57342657]\n",
      "activation=linear | mean_train_acc=[0.64553991] | mean_test_acc=[0.57342657]\n",
      "activation=sigmoid | mean_train_acc=[0.47089202] | mean_test_acc=[0.48531469]\n",
      "activation=tanh | mean_train_acc=[0.64553991] | mean_test_acc=[0.57342657]\n",
      "activation=softmax | mean_train_acc=[0.58732394] | mean_test_acc=[0.54405594]\n",
      "activation=relu | mean_train_acc=0.6455399061032864 | mean_test_acc=0.5734265734265734\n",
      "activation=leaky_relu | mean_train_acc=0.6455399061032864 | mean_test_acc=0.5734265734265734\n",
      "activation=elu | mean_train_acc=0.6455399061032864 | mean_test_acc=0.5734265734265734\n",
      "activation=quadratic | mean_train_acc=[0.64553991] | mean_test_acc=[0.57342657]\n"
     ]
    }
   ],
   "source": [
    "n_episodes = 5\n",
    "activationss = ['sigmoid', 'tanh', 'relu', 'leaky_relu', 'elu']\n",
    "for activation in activations:\n",
    "    scores = []\n",
    "    np.random.seed(42)\n",
    "    for ep in range(n_episodes):\n",
    "        nn = build_model(activation)\n",
    "        nn.fit(X_train.values, y_train)\n",
    "        acc_train = accuracy(y_train, nn.predict(X_train) > .5)\n",
    "        acc_test = accuracy(y_test, nn.predict(X_test) > .5)\n",
    "        scores.append([acc_train, acc_test])\n",
    "    scores = np.array(scores)\n",
    "    mean_train_acc, mean_test_acc = scores.mean(axis=0)\n",
    "    print(f\"activation={activation} | mean_train_acc={mean_train_acc} | mean_test_acc={mean_test_acc}\")"
   ]
  },
  {
   "cell_type": "code",
   "execution_count": 11,
   "metadata": {},
   "outputs": [],
   "source": [
    "from layers import *"
   ]
  },
  {
   "cell_type": "code",
   "execution_count": 36,
   "metadata": {},
   "outputs": [
    {
     "name": "stdout",
     "output_type": "stream",
     "text": [
      "0: binary_crossentropy=0.6932051828582201\n",
      "100: binary_crossentropy=0.31714174150571356\n",
      "200: binary_crossentropy=0.11384478494047381\n",
      "300: binary_crossentropy=0.0771090381147137\n",
      "400: binary_crossentropy=0.062280000992715724\n"
     ]
    }
   ],
   "source": [
    "nn = NeuralNetwork('binary_crossentropy', verbose=True, verbose_step=100, learning_rate=0.05, debug=False)\n",
    "nn.add(Dense(30, 30, activation='relu'))\n",
    "nn.add(Dense(30, 1, activation='sigmoid'))\n",
    "\n",
    "nn.fit(X_train.values, y_train, n_epochs=500)\n"
   ]
  },
  {
   "cell_type": "code",
   "execution_count": 30,
   "metadata": {},
   "outputs": [
    {
     "name": "stdout",
     "output_type": "stream",
     "text": [
      "y_pred: [[0.27842752]]\n",
      "0: binary_crossentropy=0.3263224486626989\n"
     ]
    }
   ],
   "source": [
    "nn.fit(X_train.iloc[0, :].values.reshape(1, -1), y_train[0, :])"
   ]
  },
  {
   "cell_type": "code",
   "execution_count": 14,
   "metadata": {},
   "outputs": [
    {
     "data": {
      "text/plain": [
       "array([0.])"
      ]
     },
     "execution_count": 14,
     "metadata": {},
     "output_type": "execute_result"
    }
   ],
   "source": [
    "y_train[0, :]"
   ]
  },
  {
   "cell_type": "code",
   "execution_count": 15,
   "metadata": {},
   "outputs": [],
   "source": [
    "# from keras.layers import Dense\n",
    "# from keras.models import Sequential\n",
    "\n",
    "# nk = Sequential()\n",
    "# nk.add(Dense(10, activation='relu'))\n",
    "# nk.add(Dense(1, activation='sigmoid'))\n",
    "# nk.compile('sgd', loss='binary_crossentropy')\n",
    "# nk.fit(X_train.values, y_train, epochs=10)"
   ]
  },
  {
   "cell_type": "code",
   "execution_count": 16,
   "metadata": {},
   "outputs": [
    {
     "data": {
      "text/plain": [
       "0.11653381625595151"
      ]
     },
     "execution_count": 16,
     "metadata": {},
     "output_type": "execute_result"
    }
   ],
   "source": [
    "-np.log(1 - 0.11)"
   ]
  }
 ],
 "metadata": {
  "kernelspec": {
   "display_name": "Python 3",
   "language": "python",
   "name": "python3"
  },
  "language_info": {
   "codemirror_mode": {
    "name": "ipython",
    "version": 3
   },
   "file_extension": ".py",
   "mimetype": "text/x-python",
   "name": "python",
   "nbconvert_exporter": "python",
   "pygments_lexer": "ipython3",
   "version": "3.6.8"
  }
 },
 "nbformat": 4,
 "nbformat_minor": 4
}
