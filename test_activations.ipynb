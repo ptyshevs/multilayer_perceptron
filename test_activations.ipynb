{
 "cells": [
  {
   "cell_type": "code",
   "execution_count": 1,
   "metadata": {},
   "outputs": [],
   "source": [
    "from nn import *"
   ]
  },
  {
   "cell_type": "code",
   "execution_count": 2,
   "metadata": {},
   "outputs": [],
   "source": [
    "import numpy as np\n",
    "import pandas as pd"
   ]
  },
  {
   "cell_type": "code",
   "execution_count": 3,
   "metadata": {},
   "outputs": [],
   "source": [
    "train_df = pd.read_csv('train.csv', index_col=0)\n",
    "test_df = pd.read_csv('test.csv', index_col=0)"
   ]
  },
  {
   "cell_type": "code",
   "execution_count": 4,
   "metadata": {},
   "outputs": [],
   "source": [
    "X_train, y_train = train_df.iloc[:, 1:], train_df.iloc[:, 0]\n",
    "X_test, y_test = test_df.iloc[:, 1:], test_df.iloc[:, 0]"
   ]
  },
  {
   "cell_type": "code",
   "execution_count": 5,
   "metadata": {},
   "outputs": [],
   "source": [
    "from tools import normalize"
   ]
  },
  {
   "cell_type": "code",
   "execution_count": 6,
   "metadata": {},
   "outputs": [],
   "source": [
    "X_test = (X_test - X_train.mean()) / X_train.std()\n",
    "X_train = (X_train - X_train.mean()) / X_train.std()"
   ]
  },
  {
   "cell_type": "code",
   "execution_count": 7,
   "metadata": {},
   "outputs": [],
   "source": [
    "y_map = {\"B\": 0, \"M\":1}\n",
    "y_train = y_train.map(y_map).values[:, np.newaxis].astype(np.float64)\n",
    "y_test = y_test.map(y_map).values[:, np.newaxis].astype(np.float64)"
   ]
  },
  {
   "cell_type": "code",
   "execution_count": 14,
   "metadata": {},
   "outputs": [],
   "source": [
    "def build_model(activation):\n",
    "    nn = NeuralNetwork(n_iterations=200, loss=CrossEntropy(), verbose=False)\n",
    "    nn.add(Dense(30, 64, activation=activation))\n",
    "    nn.add(Dense(64, 64, activation=activation))\n",
    "    nn.add(Dense(64, 1, activation='sigmoid'))\n",
    "    return nn"
   ]
  },
  {
   "cell_type": "code",
   "execution_count": 15,
   "metadata": {},
   "outputs": [],
   "source": [
    "from metrics import accuracy"
   ]
  },
  {
   "cell_type": "code",
   "execution_count": 16,
   "metadata": {},
   "outputs": [
    {
     "name": "stdout",
     "output_type": "stream",
     "text": [
      "activation=identity | mean_train_acc=[0.64553991] | mean_test_acc=[0.57342657]\n",
      "activation=linear | mean_train_acc=[0.64553991] | mean_test_acc=[0.57342657]\n",
      "activation=sigmoid | mean_train_acc=[0.64553991] | mean_test_acc=[0.57342657]\n",
      "activation=tanh | mean_train_acc=[0.64553991] | mean_test_acc=[0.57342657]\n",
      "activation=softmax | mean_train_acc=[0.64553991] | mean_test_acc=[0.57342657]\n",
      "activation=relu | mean_train_acc=0.6455399061032864 | mean_test_acc=0.5734265734265734\n",
      "activation=leaky_relu | mean_train_acc=0.6455399061032864 | mean_test_acc=0.5734265734265734\n",
      "activation=elu | mean_train_acc=0.6455399061032864 | mean_test_acc=0.5734265734265734\n",
      "activation=quadratic | mean_train_acc=[0.64553991] | mean_test_acc=[0.57342657]\n"
     ]
    }
   ],
   "source": [
    "n_episodes = 5\n",
    "activationss = ['sigmoid', 'tanh', 'relu', 'leaky_relu', 'elu']\n",
    "for activation in activations:\n",
    "    scores = []\n",
    "    np.random.seed(42)\n",
    "    for ep in range(n_episodes):\n",
    "        nn = build_model(activation)\n",
    "        nn.fit(X_train.values, y_train)\n",
    "        acc_train = accuracy(y_train, nn.predict(X_train) > .5)\n",
    "        acc_test = accuracy(y_test, nn.predict(X_test) > .5)\n",
    "        scores.append([acc_train, acc_test])\n",
    "    scores = np.array(scores)\n",
    "    mean_train_acc, mean_test_acc = scores.mean(axis=0)\n",
    "    print(f\"activation={activation} | mean_train_acc={mean_train_acc} | mean_test_acc={mean_test_acc}\")"
   ]
  },
  {
   "cell_type": "code",
   "execution_count": 20,
   "metadata": {},
   "outputs": [
    {
     "data": {
      "text/plain": [
       "array([[ 0.01260374, -0.0076133 , -0.01248535, ..., -0.00331776,\n",
       "         0.02205774,  0.00566442],\n",
       "       [ 0.00024924,  0.00819901, -0.0048068 , ..., -0.00493052,\n",
       "        -0.01566268,  0.00512076],\n",
       "       [ 0.00370171,  0.00426445,  0.00275333, ..., -0.00403693,\n",
       "         0.01655151, -0.01650488],\n",
       "       ...,\n",
       "       [-0.0109164 , -0.01591054,  0.00767514, ...,  0.0071486 ,\n",
       "         0.00436825,  0.01037891],\n",
       "       [-0.01022296, -0.00453653,  0.00074796, ...,  0.00409871,\n",
       "        -0.00483492,  0.00416432],\n",
       "       [-0.00177509, -0.01302267,  0.00311984, ...,  0.01858409,\n",
       "        -0.00287617,  0.0130944 ]])"
      ]
     },
     "execution_count": 20,
     "metadata": {},
     "output_type": "execute_result"
    }
   ],
   "source": [
    "nn.layers[1].W"
   ]
  }
 ],
 "metadata": {
  "kernelspec": {
   "display_name": "Python 3",
   "language": "python",
   "name": "python3"
  },
  "language_info": {
   "codemirror_mode": {
    "name": "ipython",
    "version": 3
   },
   "file_extension": ".py",
   "mimetype": "text/x-python",
   "name": "python",
   "nbconvert_exporter": "python",
   "pygments_lexer": "ipython3",
   "version": "3.7.3"
  }
 },
 "nbformat": 4,
 "nbformat_minor": 4
}
